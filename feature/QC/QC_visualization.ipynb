{
 "cells": [
  {
   "cell_type": "code",
   "execution_count": 1,
   "metadata": {},
   "outputs": [],
   "source": [
    "import pandas as pd\n",
    "import numpy as np\n",
    "import collections\n",
    "import os, json, pickle\n",
    "from tqdm import tqdm\n",
    "from scipy import stats\n",
    "from glob import glob\n",
    "from itertools import combinations\n",
    "#from venn import venn\n",
    "from matplotlib import pyplot \n",
    "from utils import *\n",
    "from sklearn.decomposition import PCA\n",
    "from sklearn.preprocessing import StandardScaler\n",
    "from scipy.stats import pearsonr, spearmanr\n",
    "import plotly.express as px\n",
    "import os\n",
    "from tqdm import tqdm\n"
   ]
  },
  {
   "cell_type": "code",
   "execution_count": 6,
   "metadata": {},
   "outputs": [],
   "source": [
    "df1 = pd.read_csv('../data/synergy_responses_with_monotherapy.tsv', sep='\\t')\n",
    "df1['dataset'] = 'train'\n",
    "df2 = pd.read_csv('../data/hold_out/ho1/synergy_responses_with_monotherapy.tsv', sep='\\t')\n",
    "df2['dataset'] = 'ho1'\n",
    "df3 = pd.read_csv('../data/hold_out/ho2/synergy_responses_with_monotherapy.tsv', sep='\\t')\n",
    "df3['dataset'] = 'ho2'\n",
    "df = pd.concat([df1, df2, df3], ignore_index=True)\n",
    "\n",
    "# TODO: monotherapy\n",
    "df1_mono = pd.read_csv('../data/monotherapy_responses.tsv', sep='\\t')\n",
    "df1_mono['dataset'] = 'train'\n",
    "df2_mono = pd.read_csv('../data/hold_out/ho1/monotherapy_responses.tsv', sep='\\t')\n",
    "df2_mono['dataset'] = 'ho1'\n",
    "df3_mono = pd.read_csv('../data/hold_out/ho2/monotherapy_responses.tsv', sep='\\t')\n",
    "df3_mono['dataset'] = 'ho2'\n",
    "df_mono = pd.concat([df1_mono, df2_mono, df3_mono], ignore_index=True)\n",
    "#df[['.identifier_sample_name', '.metadata_cancer_type', 'dataset']].drop_duplicates().to_csv('./tmp/cell_line_info.tsv', sep='\\t', index=False)"
   ]
  },
  {
   "cell_type": "code",
   "execution_count": 3,
   "metadata": {},
   "outputs": [
    {
     "name": "stdout",
     "output_type": "stream",
     "text": [
      "(17912, 12) (4247, 12) (668, 12)\n",
      "62 16 8\n",
      "12 12 2\n",
      "24 15 2\n",
      "87\n",
      "87\n",
      "16\n",
      "61\n"
     ]
    },
    {
     "name": "stderr",
     "output_type": "stream",
     "text": [
      "/local/encrypted1/rayezh/Merck_publication_3/feature/QC/utils.py:93: SettingWithCopyWarning: \n",
      "A value is trying to be set on a copy of a slice from a DataFrame.\n",
      "Try using .loc[row_indexer,col_indexer] = value instead\n",
      "\n",
      "See the caveats in the documentation: https://pandas.pydata.org/pandas-docs/stable/user_guide/indexing.html#returning-a-view-versus-a-copy\n",
      "  data['.metadata_treatment_comb'] = ['_'.join(sorted(list(x))) for _,x in data[['.metadata_treatment_1','.metadata_treatment_2']].iterrows()]\n",
      "/local/encrypted1/rayezh/Merck_publication_3/feature/QC/utils.py:94: SettingWithCopyWarning: \n",
      "A value is trying to be set on a copy of a slice from a DataFrame.\n",
      "Try using .loc[row_indexer,col_indexer] = value instead\n",
      "\n",
      "See the caveats in the documentation: https://pandas.pydata.org/pandas-docs/stable/user_guide/indexing.html#returning-a-view-versus-a-copy\n",
      "  data['.metadata_treatment_remarks'] = data['.metadata_treatment_remarks'].fillna('')\n",
      "/local/encrypted1/rayezh/Merck_publication_3/feature/QC/utils.py:101: SettingWithCopyWarning: \n",
      "A value is trying to be set on a copy of a slice from a DataFrame.\n",
      "Try using .loc[row_indexer,col_indexer] = value instead\n",
      "\n",
      "See the caveats in the documentation: https://pandas.pydata.org/pandas-docs/stable/user_guide/indexing.html#returning-a-view-versus-a-copy\n",
      "  data['experiment'] = experiments\n"
     ]
    },
    {
     "name": "stdout",
     "output_type": "stream",
     "text": [
      "number of replicates: 692\n",
      "Reproducibility (Pearson's cor) of aoc across replicated experiments on synergy dataset is 0.6532299577933877 , p = 0.0\n",
      "Reproducibility (Spearman's cor) of aoc across replicated experiments on synergy dataset is 0.6960173738598178 , p = 0.0\n",
      "Overall reproducibility (AOC) Pearson: 0.6532299577933877\t0.0; Spearman: 0.6960173738598178\t0.0\n",
      "\n"
     ]
    },
    {
     "name": "stderr",
     "output_type": "stream",
     "text": [
      "/local/encrypted1/rayezh/Merck_publication_3/feature/QC/utils.py:93: SettingWithCopyWarning: \n",
      "A value is trying to be set on a copy of a slice from a DataFrame.\n",
      "Try using .loc[row_indexer,col_indexer] = value instead\n",
      "\n",
      "See the caveats in the documentation: https://pandas.pydata.org/pandas-docs/stable/user_guide/indexing.html#returning-a-view-versus-a-copy\n",
      "  data['.metadata_treatment_comb'] = ['_'.join(sorted(list(x))) for _,x in data[['.metadata_treatment_1','.metadata_treatment_2']].iterrows()]\n",
      "/local/encrypted1/rayezh/Merck_publication_3/feature/QC/utils.py:94: SettingWithCopyWarning: \n",
      "A value is trying to be set on a copy of a slice from a DataFrame.\n",
      "Try using .loc[row_indexer,col_indexer] = value instead\n",
      "\n",
      "See the caveats in the documentation: https://pandas.pydata.org/pandas-docs/stable/user_guide/indexing.html#returning-a-view-versus-a-copy\n",
      "  data['.metadata_treatment_remarks'] = data['.metadata_treatment_remarks'].fillna('')\n",
      "/local/encrypted1/rayezh/Merck_publication_3/feature/QC/utils.py:101: SettingWithCopyWarning: \n",
      "A value is trying to be set on a copy of a slice from a DataFrame.\n",
      "Try using .loc[row_indexer,col_indexer] = value instead\n",
      "\n",
      "See the caveats in the documentation: https://pandas.pydata.org/pandas-docs/stable/user_guide/indexing.html#returning-a-view-versus-a-copy\n",
      "  data['experiment'] = experiments\n"
     ]
    },
    {
     "name": "stdout",
     "output_type": "stream",
     "text": [
      "number of replicates: 132\n",
      "Reproducibility (Pearson's cor) of bliss across replicated experiments on synergy dataset is 0.7419220117681018 , p = 2.631869646053991e-68\n",
      "Reproducibility (Spearman's cor) of bliss across replicated experiments on synergy dataset is 0.7052944592572497 , p = 4.874900046468296e-59\n",
      "Overall reproducibility (Bliss) Pearson: 0.7419220117681018\t2.631869646053991e-68; Spearman: 0.7052944592572497\t4.874900046468296e-59\n",
      "\n",
      "number of replicates: 579\n",
      "Reproducibility (Pearson's cor) of aoc across replicated experiments on monotherapy dataset is 0.8428501279869431 , p = 0.0\n",
      "Reproducibility (Spearman's cor) of aoc across replicated experiments on monotherapy dataset is 0.8146133519197033 , p = 0.0\n",
      "Monotherapy reproducibility (AOC) Pearson: 0.8428501279869431\t0.0; Spearman: 0.8146133519197033\t0.0\n",
      "\n"
     ]
    }
   ],
   "source": [
    "# 1. how many dataset in training/hold-out 1 and 2\n",
    "print(df1.shape, df2.shape, df3.shape) # (17912, 11) (4247, 11) (668, 11)\n",
    "\n",
    "# 2. how many cell line/tissue in training/hold-out 1 and 2\n",
    "print(len(df1['.identifier_sample_name'].unique()), len(df2['.identifier_sample_name'].unique()), len(df3['.identifier_sample_name'].unique())) # 62 16 8\n",
    "print(len(df1['.metadata_cancer_type'].unique()), len(df2['.metadata_cancer_type'].unique()), len(df3['.metadata_cancer_type'].unique())) # 12 12 2\n",
    "print(len(df1['.metadata_cancer_subtype'].unique()), len(df2['.metadata_cancer_subtype'].unique()), len(df3['.metadata_cancer_subtype'].unique())) # 24 15 2\n",
    "\n",
    "# 3. how many drugs/combination in each of them\n",
    "print(len(set(df1['.metadata_treatment_1'].to_list()+df1['.metadata_treatment_2'].to_list()))) # 87\n",
    "print(len(set(df2['.metadata_treatment_1'].to_list()+df2['.metadata_treatment_2'].to_list()))) # 87\n",
    "print(len(set(df3['.metadata_treatment_1'].to_list()+df3['.metadata_treatment_2'].to_list()))) # 16\n",
    "\n",
    "# 4. how many mode of actions\n",
    "print(len(set(df1['.metadata_moa_1'].to_list()+df1['.metadata_moa_2'].to_list()))) # 61\n",
    "\n",
    "\n",
    "# different combinations\n",
    "df['combination']=['+'.join(sorted([r['.metadata_treatment_1'],r['.metadata_treatment_2']])) for _, r in df.iterrows()]\n",
    "df.groupby('dataset').nunique()['combination']\n",
    "\"\"\"\n",
    "dataset unique combinations\n",
    "ho1      478\n",
    "ho2       25\n",
    "train    478\n",
    "\"\"\"\n",
    "# replicability of each dataset\n",
    "# train\n",
    "\"\"\"\n",
    "Total treatment in monotherapy: 90\n",
    "Total treatment in combination therapy: 87\n",
    "Total cell lines in monotherapy: 62\n",
    "Total cell lines in combination therapy: 62\n",
    "Total cell lines in monotherapy: 12\n",
    "Total cell lines in combination therapy: 12\n",
    "Averge # cellines tested for drug pairs: 27.947698744769873\n",
    "Overall reproducibility (AOC) Pearson: 0.7003465141381711\t0.0; Spearman: 0.7231740698842666\t0.0\n",
    "Overall reproducibility (Bliss) Pearson: 0.7576155372135673\t1.746406496786e-312; Spearman: 0.7448910446349724\t1.6113512902816565e-296\n",
    "Monotherapy reproducibility (AOC) Pearson: 0.8350392272792175\t0.0; Spearman: 0.805590466351589\t0.0\n",
    "Synergy reproducibility (AOC) Pearson: -0.022562203238515287\t0.39061011175384497; Spearman: 0.036081105118420304\t0.1696933573800796\n",
    "Synergy reproducibility (Bliss) Pearson: 0.7611272797055482\t3.74540113612947e-306; Spearman: 0.7553674938799363\t6.139356145228265e-299\n",
    "\"\"\"\n",
    "# ho1\n",
    "\"\"\"\n",
    "Total treatment in monotherapy: 90\n",
    "Total treatment in combination therapy: 87\n",
    "Total cell lines in monotherapy: 16\n",
    "Total cell lines in combination therapy: 16\n",
    "Total cell lines in monotherapy: 12\n",
    "Total cell lines in combination therapy: 12\n",
    "Averge # cellines tested for drug pairs: 6.5\n",
    "Overall reproducibility (AOC) Pearson: 0.6410553580264177\t4.6039651226920623e-302; Spearman: 0.6882184052153105\t0.0\n",
    "Overall reproducibility (Bliss) Pearson: 0.7419220117681018\t2.631869646053991e-68; Spearman: 0.7052944592572497\t4.874900046468296e-59\n",
    "Monotherapy reproducibility (AOC) Pearson: 0.845033948670617\t0.0; Spearman: 0.8207326570199635\t0.0\n",
    "Synergy reproducibility (AOC) Pearson: -0.21319939124050324\t8.601345293855101e-05; Spearman: -0.12268976370140947\t0.024941416491662052\n",
    "Synergy reproducibility (Bliss) Pearson: 0.7438836383128478\t9.699434844065291e-67; Spearman: 0.7170720835500471\t5.711992504129799e-60\n",
    "\"\"\"\n",
    "# ho2\n",
    "\"\"\"\n",
    "Total treatment in monotherapy: 23\n",
    "Total treatment in combination therapy: 16\n",
    "Total cell lines in monotherapy: 8\n",
    "Total cell lines in combination therapy: 8\n",
    "Total cell lines in monotherapy: 2\n",
    "Total cell lines in combination therapy: 2\n",
    "Averge # cellines tested for drug pairs: 7.88\n",
    "Overall reproducibility (AOC) Pearson: 0.8143786933844415\t6.261433785321603e-81; Spearman: 0.7477610929751504\t2.3019059689477995e-61\n",
    "Overall reproducibility (Bliss) Pearson: nan\tnan; Spearman: nan\tnan\n",
    "Monotherapy reproducibility (AOC) Pearson: 0.8143786933844415\t6.261433785321603e-81; Spearman: 0.7477610929751504\t2.3019059689477995e-61\n",
    "Synergy reproducibility (AOC) Pearson: nan\tnan; Spearman: nan\tnan\n",
    "Synergy reproducibility (Bliss) Pearson: nan\tnan; Spearman: nan\tnan\n",
    "\"\"\"\n",
    "# TODO: combine ho1 and ho2 and compute reproducibility\n",
    "\n",
    "response_h1 = pd.read_csv('../data/hold_out/ho1/processedmerck_confidential_responses_ho1_20200221.tsv', sep = '\\t')\n",
    "response_h2 = pd.read_csv('../data/hold_out/ho2/processedmerck_confidential_responses_ho2_20200221.tsv', sep = '\\t')\n",
    "responses = pd.concat([response_h1, response_h2], ignore_index=True)\n",
    "\n",
    "responses, monotherapy, synergy = split_monotherapy_synergy(responses)\n",
    "freq_sum, r1,p1,r2, p2 = check_reproducibility(responses, 'synergy', 'aoc')\n",
    "print(\"Overall reproducibility (AOC) Pearson: \"+str(r1)+'\\t'+str(p1)+ \"; Spearman: \"+str(r2)+'\\t'+str(p2)+'\\n')\n",
    "freq_sum, r1,p1,r2, p2 = check_reproducibility(responses, 'synergy', 'bliss')\n",
    "print(\"Overall reproducibility (Bliss) Pearson: \"+str(r1)+'\\t'+str(p1)+ \"; Spearman: \"+str(r2)+'\\t'+str(p2)+'\\n')\n",
    "# Overall reproducibility (Bliss) Pearson: 0.7419220117681018\t2.631869646053991e-68; Spearman: 0.7052944592572497\t4.874900046468296e-59\n",
    "\n",
    "# check monotherapy reprodicibility\n",
    "freq_sum, r1,p1,r2, p2 = check_reproducibility(monotherapy, 'monotherapy', 'aoc')\n",
    "print(\"Monotherapy reproducibility (AOC) Pearson: \"+str(r1)+'\\t'+str(p1)+ \"; Spearman: \"+str(r2)+'\\t'+str(p2)+'\\n')\n",
    "# Monotherapy reproducibility (AOC) Pearson: 0.8428501279869431\t0.0; Spearman: 0.8146133519197033\t0.0\n",
    "\n",
    "# replicability between dataset: no overlap between datasets\n",
    "# PCA/tsne of each dataset"
   ]
  },
  {
   "cell_type": "code",
   "execution_count": 4,
   "metadata": {},
   "outputs": [
    {
     "name": "stderr",
     "output_type": "stream",
     "text": [
      "100%|██████████| 476/476 [00:01<00:00, 319.25it/s]\n",
      "  1%|          | 101/16491 [00:00<00:16, 1002.03it/s]"
     ]
    },
    {
     "name": "stdout",
     "output_type": "stream",
     "text": [
      "(2680136, 2) (835048, 2)\n",
      "reprodicibility between combinations:\n",
      "aoc: 0.3754221066721539 0.0\n",
      "bliss: 0.5724943145793199 0.0\n"
     ]
    },
    {
     "name": "stderr",
     "output_type": "stream",
     "text": [
      "100%|██████████| 16491/16491 [00:15<00:00, 1039.50it/s]"
     ]
    },
    {
     "name": "stdout",
     "output_type": "stream",
     "text": [
      "(22878, 2) (3034, 2)\n",
      "reprodicibility between combinations-cell lines:\n",
      "aoc: 0.12484584698108782 3.887718757477593e-80\n",
      "bliss: 0.6213268579328607 2e-323\n"
     ]
    },
    {
     "name": "stderr",
     "output_type": "stream",
     "text": [
      "\n"
     ]
    },
    {
     "data": {
      "text/plain": [
       "\"\\nresults = {'combination':[], 'reproducibility_aoc':[], 'reproducibility_bliss':[], 'baseline_aoc':[], 'baseline_bliss':[], 'reproducibility_aoc_cell':[], 'reproducibility_bliss_cell':[]}\\nfor comb in tqdm(df_tmp['comb'].unique()):\\n    print(comb)\\n    df_sub = df_tmp[df_tmp['comb']==comb]\\n    score = df_sub['.response_aoc'].dropna().to_list()\\n    if len(score)>=2:\\n        score_pair = np.array([[x,y] for x, y in permutations(score,2)])\\n        cor, p = stats.pearsonr(score_pair[:,0], score_pair[:,1])\\n    else:\\n        cor = np.nan\\n    results['combination'].append(comb)\\n    results['reproducibility_aoc'].append(cor)\\n    results['baseline_aoc'].append(0.8350)\\n\\n    score = df_sub['.response_bliss'].dropna().to_list()\\n    if len(score)>=2:\\n        score_pair = np.array([[x,y] for x, y in permutations(score,2)])\\n        cor, p = stats.pearsonr(score_pair[:,0], score_pair[:,1])\\n    else:\\n        cor = np.nan\\n    results['reproducibility_bliss'].append(cor)\\n    results['baseline_bliss'].append(0.7611)\\n\\n    # for this combination, check the prediction performances across different cell lines\\n    score_pair_aoc = []\\n    score_pair_bliss = []\\n    for j in df_sub['comb_cell'].unique():\\n        df_sub_sub = df_sub[df_sub['comb_cell']==j]\\n        score = df_sub_sub['.response_aoc'].dropna().to_list()\\n        if len(score)>=2:\\n            score_pair = np.array([[x,y] for x, y in permutations(score,2)])\\n            score_pair_aoc.extend(score_pair)\\n        score = df_sub_sub['.response_bliss'].dropna().to_list()\\n        if len(score)>=2:\\n            score_pair = np.array([[x,y] for x, y in permutations(score,2)])\\n            score_pair_bliss.extend(score_pair)\\n    score_pair_aoc = np.array(score_pair_aoc)\\n    score_pair_bliss = np.array(score_pair_bliss)\\n    #print(score_pair_aoc.shape, score_pair_bliss.shape)\\n    if score_pair_aoc.shape[0]==0:\\n        cor = np.nan\\n    else:\\n        cor, p = stats.pearsonr(score_pair_aoc[:,0], score_pair_aoc[:,1])\\n        print(cor, p, score_pair_aoc.shape)\\n    results['reproducibility_aoc_cell'].append(cor) \\n    if score_pair_bliss.shape[0]==0:\\n        cor = np.nan\\n    else:\\n        cor, p = stats.pearsonr(score_pair_bliss[:,0], score_pair_bliss[:,1])\\n        print(cor, p, score_pair_bliss.shape)\\n    results['reproducibility_bliss_cell'].append(cor)\\n    \\n\\nresults = pd.DataFrame(results)\\n\\n\""
      ]
     },
     "execution_count": 4,
     "metadata": {},
     "output_type": "execute_result"
    }
   ],
   "source": [
    "# compute reproduciility of each combinations\n",
    "df_tmp =df.copy()\n",
    "# exclude gamma from treatment\n",
    "df_tmp = df_tmp[~df_tmp['.metadata_treatment_1'].str.contains('gamma')]\n",
    "df_tmp = df_tmp[~df_tmp['.metadata_treatment_2'].str.contains('gamma')]\n",
    "df_tmp['.metadata_treatment_remarks'] = df_tmp['.metadata_treatment_remarks'].fillna('')\n",
    "df_tmp['comb_cell']= ['+'.join(sorted([r['.metadata_treatment_1'],r['.metadata_treatment_2']]))+'_'+r['.identifier_sample_name'] for _, r in df_tmp.iterrows()]\n",
    "df_tmp['comb']= ['+'.join(sorted([r['.metadata_treatment_1'],r['.metadata_treatment_2']])) for _, r in df_tmp.iterrows()]\n",
    "\n",
    "from scipy import stats\n",
    "\n",
    "# tissue specificity compared to reproducibiltiy\n",
    "all_score_aoc = []\n",
    "all_score_bliss = []\n",
    "for comb in tqdm(df_tmp['comb'].unique()):\n",
    "    df_sub = df_tmp[df_tmp['comb']==comb]\n",
    "    score = df_sub['.response_aoc'].dropna().to_list()\n",
    "    score_pair = [[x,y] for x, y in permutations(score,2)]\n",
    "    all_score_aoc.extend(score_pair)\n",
    "    score = df_sub['.response_bliss'].dropna().to_list()\n",
    "    score_pair = [[x,y] for x, y in permutations(score,2)]\n",
    "    all_score_bliss.extend(score_pair)\n",
    "\n",
    "all_score_aoc = np.array(all_score_aoc)\n",
    "all_score_bliss = np.array(all_score_bliss)\n",
    "r1,p1 = stats.pearsonr(all_score_aoc[:,0], all_score_aoc[:,1])\n",
    "r2,p2 = stats.pearsonr(all_score_bliss[:,0], all_score_bliss[:,1])\n",
    "print(all_score_aoc.shape, all_score_bliss.shape)\n",
    "print('reprodicibility between combinations:')\n",
    "print('aoc:', r1,p1)\n",
    "print('bliss:', r2,p2) #0.3754221066721539 0.0 0.5724943145793199 0.0\n",
    "\n",
    "# tissue specificity compared to reproducibiltiy\n",
    "all_score_aoc = []\n",
    "all_score_bliss = []\n",
    "for comb in tqdm(df_tmp['comb_cell'].unique()):\n",
    "    df_sub = df_tmp[df_tmp['comb_cell']==comb]\n",
    "    score = df_sub['.response_aoc'].dropna().to_list()\n",
    "    score_pair = [[x,y] for x, y in permutations(score,2)]\n",
    "    all_score_aoc.extend(score_pair)\n",
    "    score = df_sub['.response_bliss'].dropna().to_list()\n",
    "    score_pair = [[x,y] for x, y in permutations(score,2)]\n",
    "    all_score_bliss.extend(score_pair)\n",
    "\n",
    "all_score_aoc = np.array(all_score_aoc)\n",
    "all_score_bliss = np.array(all_score_bliss)\n",
    "r1,p1 = stats.pearsonr(all_score_aoc[:,0], all_score_aoc[:,1])\n",
    "r2,p2 = stats.pearsonr(all_score_bliss[:,0], all_score_bliss[:,1])\n",
    "print(all_score_aoc.shape, all_score_bliss.shape)\n",
    "print('reprodicibility between combinations-cell lines:')\n",
    "print('aoc:', r1,p1)\n",
    "print('bliss:', r2,p2) #0.12484584698108782 3.887718757477593e-80 0.6213268579328607 2e-323\n",
    "\n",
    "\n",
    "\n",
    "# for the same drug comb: 0.27684458216473085 0.0 0.5672550807329749 0.0\n",
    "# for the same drug-cellline pair: 0.22264220220637077 0.0 0.6229910849589071 0.0\n",
    "\n",
    "#for each combination, check the \n",
    "\n",
    "# TODO: in utils.py, for each combination, check the the prediction performances across different cell lines\n",
    "\n",
    "\"\"\"\n",
    "results = {'combination':[], 'reproducibility_aoc':[], 'reproducibility_bliss':[], 'baseline_aoc':[], 'baseline_bliss':[], 'reproducibility_aoc_cell':[], 'reproducibility_bliss_cell':[]}\n",
    "for comb in tqdm(df_tmp['comb'].unique()):\n",
    "    print(comb)\n",
    "    df_sub = df_tmp[df_tmp['comb']==comb]\n",
    "    score = df_sub['.response_aoc'].dropna().to_list()\n",
    "    if len(score)>=2:\n",
    "        score_pair = np.array([[x,y] for x, y in permutations(score,2)])\n",
    "        cor, p = stats.pearsonr(score_pair[:,0], score_pair[:,1])\n",
    "    else:\n",
    "        cor = np.nan\n",
    "    results['combination'].append(comb)\n",
    "    results['reproducibility_aoc'].append(cor)\n",
    "    results['baseline_aoc'].append(0.8350)\n",
    "\n",
    "    score = df_sub['.response_bliss'].dropna().to_list()\n",
    "    if len(score)>=2:\n",
    "        score_pair = np.array([[x,y] for x, y in permutations(score,2)])\n",
    "        cor, p = stats.pearsonr(score_pair[:,0], score_pair[:,1])\n",
    "    else:\n",
    "        cor = np.nan\n",
    "    results['reproducibility_bliss'].append(cor)\n",
    "    results['baseline_bliss'].append(0.7611)\n",
    "\n",
    "    # for this combination, check the prediction performances across different cell lines\n",
    "    score_pair_aoc = []\n",
    "    score_pair_bliss = []\n",
    "    for j in df_sub['comb_cell'].unique():\n",
    "        df_sub_sub = df_sub[df_sub['comb_cell']==j]\n",
    "        score = df_sub_sub['.response_aoc'].dropna().to_list()\n",
    "        if len(score)>=2:\n",
    "            score_pair = np.array([[x,y] for x, y in permutations(score,2)])\n",
    "            score_pair_aoc.extend(score_pair)\n",
    "        score = df_sub_sub['.response_bliss'].dropna().to_list()\n",
    "        if len(score)>=2:\n",
    "            score_pair = np.array([[x,y] for x, y in permutations(score,2)])\n",
    "            score_pair_bliss.extend(score_pair)\n",
    "    score_pair_aoc = np.array(score_pair_aoc)\n",
    "    score_pair_bliss = np.array(score_pair_bliss)\n",
    "    #print(score_pair_aoc.shape, score_pair_bliss.shape)\n",
    "    if score_pair_aoc.shape[0]==0:\n",
    "        cor = np.nan\n",
    "    else:\n",
    "        cor, p = stats.pearsonr(score_pair_aoc[:,0], score_pair_aoc[:,1])\n",
    "        print(cor, p, score_pair_aoc.shape)\n",
    "    results['reproducibility_aoc_cell'].append(cor) \n",
    "    if score_pair_bliss.shape[0]==0:\n",
    "        cor = np.nan\n",
    "    else:\n",
    "        cor, p = stats.pearsonr(score_pair_bliss[:,0], score_pair_bliss[:,1])\n",
    "        print(cor, p, score_pair_bliss.shape)\n",
    "    results['reproducibility_bliss_cell'].append(cor)\n",
    "    \n",
    "\n",
    "results = pd.DataFrame(results)\n",
    "\n",
    "\"\"\"\n"
   ]
  },
  {
   "cell_type": "code",
   "execution_count": 10,
   "metadata": {},
   "outputs": [],
   "source": [
    "df_tmp_new = df_tmp.rename(columns={'.identifier_sample_name':'cell_line', '.response_aoc':'aoc', '.response_bliss':'bliss'})\n",
    "df_aoc = df_tmp_new[['cell_line', 'comb', 'aoc']].dropna().reset_index(drop=True)\n",
    "df_bliss = df_tmp_new[['cell_line', 'comb', 'bliss']].dropna().reset_index(drop=True)\n",
    "df_aoc.to_csv('./tmp/aoc_anova.csv', index=False)\n",
    "df_bliss.to_csv('./tmp/bliss_anova.csv', index=False)\n"
   ]
  },
  {
   "cell_type": "code",
   "execution_count": null,
   "metadata": {},
   "outputs": [],
   "source": [
    "import statsmodels.api as sm \n",
    "from statsmodels.formula.api import ols \n",
    "\n",
    "model = ols('aoc ~ C(comb) + C(cell_line) + C(comb):C(cell_line)', \n",
    "            data=df_aoc.sample(2000)).fit() \n",
    "result = sm.stats.anova_lm(model, type=2, robust='hc3') \n",
    "  \n",
    "# Print the result \n",
    "print(result) \n"
   ]
  },
  {
   "cell_type": "code",
   "execution_count": null,
   "metadata": {},
   "outputs": [],
   "source": [
    "model = ols('bliss ~ C(comb) + C(cell_line) + C(comb):C(cell_line)', \n",
    "            data=df_bliss.sample(2000)).fit() \n",
    "result = sm.stats.anova_lm(model, type=2, robust='hc3') \n",
    "  \n",
    "# Print the result \n",
    "print(result) "
   ]
  },
  {
   "cell_type": "code",
   "execution_count": 25,
   "metadata": {},
   "outputs": [
    {
     "data": {
      "text/plain": [
       "<Axes: ylabel='Frequency'>"
      ]
     },
     "execution_count": 25,
     "metadata": {},
     "output_type": "execute_result"
    },
    {
     "data": {
      "image/png": "[encoded data removed]",
      "text/plain": [
       "<Figure size 640x480 with 1 Axes>"
      ]
     },
     "metadata": {},
     "output_type": "display_data"
    }
   ],
   "source": [
    "# synthetic lethality only take certain pairs:\n",
    "df = pd.read_csv('../synthetic_lethality_features/Human_SL.csv')\n",
    "# read ddr genes\n",
    "with open('./ddr_gene.txt') as f:\n",
    "    ddr_genes = f.read().splitlines()\n",
    "# take lines in df that both n1.name and n2.name are in ddr_genes\n",
    "df = df[df.apply(lambda x: x['n1.name'] in ddr_genes and x['n2.name'] in ddr_genes, axis=1)]\n",
    "# plot distribution of synthetic lethality score\n",
    "df['r.statistic_score'].plot.hist(bins=100)\n",
    "\n",
    "# take pairs with score cutoff of 0.8\n",
    "df_new = df[(df['r.statistic_score']>=0.8)]\n",
    "df_new.to_csv('../synthetic_lethality_features/Human_SL_0.8.csv', index=False) \n",
    "# plot distribution of synthetic lethality score\n",
    "df_new['r.statistic_score'].plot.hist(bins=100)"
   ]
  },
  {
   "cell_type": "code",
   "execution_count": 69,
   "metadata": {},
   "outputs": [],
   "source": [
    "# tsne of the molecular sigatures\n",
    "def tsne(df, f = None, n = 2, r = 0):\n",
    "    \"\"\"\n",
    "    tsne of cell line features\n",
    "\n",
    "    params:\n",
    "        df: molecular marker profiles of all cell lines tested\n",
    "        f: feature type, \"_exp\", \"_lof\", \"_cnv\", \"snv\", \"_ddr\", \"__coh_pat\", \"__lof_pat\" ; if None, using all features\n",
    "        n: number of principle components\n",
    "    \"\"\"\n",
    "    from sklearn.manifold import TSNE \n",
    "    from sklearn.preprocessing import StandardScaler\n",
    "    cell_line = df['.identifier_sample_name']\n",
    "    cancer_type = df['.metadata_cancer_type']\n",
    "    cancer_subtype = df['.metadata_cancer_subtype']\n",
    "    dataset = df['dataset']\n",
    "    if f:\n",
    "        new_cols = [i for i in df.columns if i.endswith(f)]\n",
    "    else:\n",
    "        new_cols = df.columns[1:-3]\n",
    "    df_new = df[new_cols]\n",
    "    df_new = df_new.fillna(0)\n",
    "    d=StandardScaler().fit_transform(df_new) # standarize input feature set\n",
    "    model = TSNE(n_components=n, random_state = r, perplexity = 33.7)\n",
    "    tsne_data = model.fit_transform(d)\n",
    "    tsne_results =  pd.DataFrame(tsne_data, columns= ['tsne1', 'tsne2'])\n",
    "    tsne_results['cell_line'] = cell_line\n",
    "    tsne_results['cancer_type'] = cancer_type\n",
    "    tsne_results['cancer_subtype'] = cancer_subtype\n",
    "    tsne_results['dataset'] = dataset\n",
    "    if f:\n",
    "        tsne_results['signature'] = f.strip('_')\n",
    "    else:\n",
    "        tsne_results['signature'] = 'all'\n",
    "    return tsne_results"
   ]
  },
  {
   "cell_type": "code",
   "execution_count": 4,
   "metadata": {},
   "outputs": [],
   "source": [
    "# annotate cell lines with cancer type, subtype and dataset it comes from\n",
    "newdf = df[['.identifier_sample_name', '.metadata_cancer_subtype', '.metadata_cancer_type', 'dataset']].drop_duplicates().reset_index(drop = True)\n",
    "c2t = {r['.identifier_sample_name']:r['.metadata_cancer_type'] for _,r in newdf.iterrows()} \n",
    "c2subt = {r['.identifier_sample_name']:r['.metadata_cancer_subtype'] for _,r in newdf.iterrows()}\n",
    "c2data = {r['.identifier_sample_name']:r['dataset'] for _,r in newdf.iterrows()}\n",
    "\n",
    "# read molecular features\n",
    "df_mol = pd.read_csv('../molecular_features/quantiled_merck_confidential_features_20200221.tsv', sep='\\t')\n",
    "df_mol = df_mol[df_mol['.identifier_sample_name'].isin(c2t.keys())].reset_index(drop=True)\n",
    "df_mol['.metadata_cancer_type'] = df_mol['.identifier_sample_name'].map(c2t)\n",
    "df_mol['.metadata_cancer_subtype'] = df_mol['.identifier_sample_name'].map(c2subt)\n",
    "df_mol['dataset'] = df_mol['.identifier_sample_name'].map(c2data)"
   ]
  },
  {
   "cell_type": "code",
   "execution_count": 74,
   "metadata": {},
   "outputs": [
    {
     "data": {
      "application/vnd.plotly.v1+json": {
       "config": {
        "plotlyServerURL": "https://plot.ly"
       },
       "data": [
        {
         "hovertemplate": "cancer_type=prostate<br>signature=all<br>tsne1=%{x}<br>tsne2=%{y}<extra></extra>",
         "legendgroup": "prostate",
         "marker": {
          "color": "#636efa",
          "symbol": "circle"
         },
         "mode": "markers",
         "name": "prostate",
         "orientation": "v",
         "showlegend": true,
         "type": "scatter",
         "x": [
          -2.8298420906066895,
          1.8521966934204102,
          1.5361469984054565
         ],
         "xaxis": "x5",
         "y": [
          1.4975316524505615,
          1.3301074504852295,
          -1.6163114309310913
         ],
         "yaxis": "y5"
        },
        {
         "hovertemplate": "cancer_type=prostate<br>signature=exp<br>tsne1=%{x}<br>tsne2=%{y}<extra></extra>",
         "legendgroup": "prostate",
         "marker": {
          "color": "#636efa",
          "symbol": "circle"
         },
         "mode": "markers",
         "name": "prostate",
         "orientation": "v",
         "showlegend": false,
         "type": "scatter",
         "x": [
          1.0216788053512573,
          -0.8679674863815308,
          -1.4813750982284546
         ],
         "xaxis": "x6",
         "y": [
          0.06851942092180252,
          1.2613904476165771,
          2.0898005962371826
         ],
         "yaxis": "y6"
        },
        {
         "hovertemplate": "cancer_type=prostate<br>signature=cnv<br>tsne1=%{x}<br>tsne2=%{y}<extra></extra>",
         "legendgroup": "prostate",
         "marker": {
          "color": "#636efa",
          "symbol": "circle"
         },
         "mode": "markers",
         "name": "prostate",
         "orientation": "v",
         "showlegend": false,
         "type": "scatter",
         "x": [
          -1.2403265237808228,
          -2.076369047164917,
          -3.3749563694000244
         ],
         "xaxis": "x7",
         "y": [
          -0.6392883658409119,
          0.20460425317287445,
          -0.050749264657497406
         ],
         "yaxis": "y7"
        },
        {
         "hovertemplate": "cancer_type=prostate<br>signature=snv<br>tsne1=%{x}<br>tsne2=%{y}<extra></extra>",
         "legendgroup": "prostate",
         "marker": {
          "color": "#636efa",
          "symbol": "circle"
         },
         "mode": "markers",
         "name": "prostate",
         "orientation": "v",
         "showlegend": false,
         "type": "scatter",
         "x": [
          2.624387502670288,
          -0.3082384765148163,
          1.0532798767089844
         ],
         "xaxis": "x8",
         "y": [
          2.641961097717285,
          2.9262917041778564,
          1.9441386461257935
         ],
         "yaxis": "y8"
        },
        {
         "hovertemplate": "cancer_type=prostate<br>signature=lof<br>tsne1=%{x}<br>tsne2=%{y}<extra></extra>",
         "legendgroup": "prostate",
         "marker": {
          "color": "#636efa",
          "symbol": "circle"
         },
         "mode": "markers",
         "name": "prostate",
         "orientation": "v",
         "showlegend": false,
         "type": "scatter",
         "x": [
          -1.7498077154159546,
          -0.02114231139421463,
          0.9189161062240601
         ],
         "xaxis": "x",
         "y": [
          2.27408766746521,
          3.7699711322784424,
          4.1863203048706055
         ],
         "yaxis": "y"
        },
        {
         "hovertemplate": "cancer_type=prostate<br>signature=ddr<br>tsne1=%{x}<br>tsne2=%{y}<extra></extra>",
         "legendgroup": "prostate",
         "marker": {
          "color": "#636efa",
          "symbol": "circle"
         },
         "mode": "markers",
         "name": "prostate",
         "orientation": "v",
         "showlegend": false,
         "type": "scatter",
         "x": [
          -1.0113487243652344,
          0.3139065206050873,
          -0.11121562868356705
         ],
         "xaxis": "x2",
         "y": [
          -1.740041971206665,
          -1.8923275470733643,
          4.276006698608398
         ],
         "yaxis": "y2"
        },
        {
         "hovertemplate": "cancer_type=prostate<br>signature=coh_pat<br>tsne1=%{x}<br>tsne2=%{y}<extra></extra>",
         "legendgroup": "prostate",
         "marker": {
          "color": "#636efa",
          "symbol": "circle"
         },
         "mode": "markers",
         "name": "prostate",
         "orientation": "v",
         "showlegend": false,
         "type": "scatter",
         "x": [
          -1.3976292610168457,
          2.2613682746887207,
          2.6894102096557617
         ],
         "xaxis": "x3",
         "y": [
          2.4632716178894043,
          3.5073914527893066,
          1.9596012830734253
         ],
         "yaxis": "y3"
        },
        {
         "hovertemplate": "cancer_type=prostate<br>signature=lof_pat<br>tsne1=%{x}<br>tsne2=%{y}<extra></extra>",
         "legendgroup": "prostate",
         "marker": {
          "color": "#636efa",
          "symbol": "circle"
         },
         "mode": "markers",
         "name": "prostate",
         "orientation": "v",
         "showlegend": false,
         "type": "scatter",
         "x": [
          0.6577968001365662,
          0.6272211670875549,
          1.031736969947815
         ],
         "xaxis": "x4",
         "y": [
          -7.860036373138428,
          -10.840259552001953,
          -4.059778213500977
         ],
         "yaxis": "y4"
        },
        {
         "hovertemplate": "cancer_type=bladder<br>signature=all<br>tsne1=%{x}<br>tsne2=%{y}<extra></extra>",
         "legendgroup": "bladder",
         "marker": {
          "color": "#EF553B",
          "symbol": "circle"
         },
         "mode": "markers",
         "name": "bladder",
         "orientation": "v",
         "showlegend": true,
         "type": "scatter",
         "x": [
          0.0014841194497421384,
          -0.1832498461008072,
          0.07522093504667282,
          -0.2569139003753662,
          -0.01395145058631897
         ],
         "xaxis": "x5",
         "y": [
          -2.0077857971191406,
          0.049128081649541855,
          -0.2375144362449646,
          0.2928873300552368,
          -0.5761716961860657
         ],
         "yaxis": "y5"
        },
        {
         "hovertemplate": "cancer_type=bladder<br>signature=exp<br>tsne1=%{x}<br>tsne2=%{y}<extra></extra>",
         "legendgroup": "bladder",
         "marker": {
          "color": "#EF553B",
          "symbol": "circle"
         },
         "mode": "markers",
         "name": "bladder",
         "orientation": "v",
         "showlegend": false,
         "type": "scatter",
         "x": [
          -0.9660962820053101,
          -1.377327799797058,
          -1.9750758409500122,
          -1.3803168535232544,
          -1.405098557472229
         ],
         "xaxis": "x6",
         "y": [
          1.5769122838974,
          0.8442384004592896,
          1.3948032855987549,
          1.0429521799087524,
          0.7397114634513855
         ],
         "yaxis": "y6"
        },
        {
         "hovertemplate": "cancer_type=bladder<br>signature=cnv<br>tsne1=%{x}<br>tsne2=%{y}<extra></extra>",
         "legendgroup": "bladder",
         "marker": {
          "color": "#EF553B",
          "symbol": "circle"
         },
         "mode": "markers",
         "name": "bladder",
         "orientation": "v",
         "showlegend": false,
         "type": "scatter",
         "x": [
          -1.2756688594818115,
          -1.4984428882598877,
          -0.9774916768074036,
          -1.6826454401016235,
          -0.8422057628631592
         ],
         "xaxis": "x7",
         "y": [
          2.2264485359191895,
          0.700069785118103,
          1.240414023399353,
          -0.23818030953407288,
          0.98546302318573
         ],
         "yaxis": "y7"
        },
        {
         "hovertemplate": "cancer_type=bladder<br>signature=snv<br>tsne1=%{x}<br>tsne2=%{y}<extra></extra>",
         "legendgroup": "bladder",
         "marker": {
          "color": "#EF553B",
          "symbol": "circle"
         },
         "mode": "markers",
         "name": "bladder",
         "orientation": "v",
         "showlegend": false,
         "type": "scatter",
         "x": [
          2.215576171875,
          0.17437238991260529,
          1.031296730041504,
          0.05830093100667,
          -0.01698247715830803
         ],
         "xaxis": "x8",
         "y": [
          1.112123727798462,
          1.991016149520874,
          1.9557024240493774,
          1.9936736822128296,
          0.7867844104766846
         ],
         "yaxis": "y8"
        },
        {
         "hovertemplate": "cancer_type=bladder<br>signature=lof<br>tsne1=%{x}<br>tsne2=%{y}<extra></extra>",
         "legendgroup": "bladder",
         "marker": {
          "color": "#EF553B",
          "symbol": "circle"
         },
         "mode": "markers",
         "name": "bladder",
         "orientation": "v",
         "showlegend": false,
         "type": "scatter",
         "x": [
          -2.476822853088379,
          -0.40892294049263,
          -0.3297921121120453,
          -0.32827410101890564,
          0.7701404690742493
         ],
         "xaxis": "x",
         "y": [
          4.07204532623291,
          2.8497798442840576,
          3.357355833053589,
          2.199436664581299,
          2.9555864334106445
         ],
         "yaxis": "y"
        },
        {
         "hovertemplate": "cancer_type=bladder<br>signature=ddr<br>tsne1=%{x}<br>tsne2=%{y}<extra></extra>",
         "legendgroup": "bladder",
         "marker": {
          "color": "#EF553B",
          "symbol": "circle"
         },
         "mode": "markers",
         "name": "bladder",
         "orientation": "v",
         "showlegend": false,
         "type": "scatter",
         "x": [
          3.0312578678131104,
          2.060358762741089,
          -1.8901981115341187,
          2.148857593536377,
          3.2391746044158936
         ],
         "xaxis": "x2",
         "y": [
          2.2662160396575928,
          1.4042688608169556,
          1.0472590923309326,
          1.4204314947128296,
          1.5331120491027832
         ],
         "yaxis": "y2"
        },
        {
         "hovertemplate": "cancer_type=bladder<br>signature=coh_pat<br>tsne1=%{x}<br>tsne2=%{y}<extra></extra>",
         "legendgroup": "bladder",
         "marker": {
          "color": "#EF553B",
          "symbol": "circle"
         },
         "mode": "markers",
         "name": "bladder",
         "orientation": "v",
         "showlegend": false,
         "type": "scatter",
         "x": [
          2.9764552116394043,
          2.5980827808380127,
          3.095524549484253,
          2.4997971057891846,
          1.3862550258636475
         ],
         "xaxis": "x3",
         "y": [
          4.041059970855713,
          -1.6907269954681396,
          0.022431204095482826,
          -1.0414661169052124,
          -0.45853501558303833
         ],
         "yaxis": "y3"
        },
        {
         "hovertemplate": "cancer_type=bladder<br>signature=lof_pat<br>tsne1=%{x}<br>tsne2=%{y}<extra></extra>",
         "legendgroup": "bladder",
         "marker": {
          "color": "#EF553B",
          "symbol": "circle"
         },
         "mode": "markers",
         "name": "bladder",
         "orientation": "v",
         "showlegend": false,
         "type": "scatter",
         "x": [
          1.649703860282898,
          1.6421507596969604,
          0.23961496353149414,
          1.7063422203063965,
          3.7485904693603516
         ],
         "xaxis": "x4",
         "y": [
          -4.6789021492004395,
          -9.378748893737793,
          -9.113658905029297,
          -8.477452278137207,
          -7.131526470184326
         ],
         "yaxis": "y4"
        },
        {
         "hovertemplate": "cancer_type=kidney<br>signature=all<br>tsne1=%{x}<br>tsne2=%{y}<extra></extra>",
         "legendgroup": "kidney",
         "marker": {
          "color": "#00cc96",
          "symbol": "circle"
         },
         "mode": "markers",
         "name": "kidney",
         "orientation": "v",
         "showlegend": true,
         "type": "scatter",
         "x": [
          0.05924491584300995,
          0.29100996255874634,
          0.7193372845649719,
          -1.3416810035705566,
          -0.09510257840156555
         ],
         "xaxis": "x5",
         "y": [
          -0.2299298644065857,
          0.880831241607666,
          -0.25928422808647156,
          0.8472264409065247,
          0.26445844769477844
         ],
         "yaxis": "y5"
        },
        {
         "hovertemplate": "cancer_type=kidney<br>signature=exp<br>tsne1=%{x}<br>tsne2=%{y}<extra></extra>",
         "legendgroup": "kidney",
         "marker": {
          "color": "#00cc96",
          "symbol": "circle"
         },
         "mode": "markers",
         "name": "kidney",
         "orientation": "v",
         "showlegend": false,
         "type": "scatter",
         "x": [
          -3.3707504272460938,
          -3.01263165473938,
          -2.833908796310425,
          -0.42433854937553406,
          -1.9873594045639038
         ],
         "xaxis": "x6",
         "y": [
          2.504983901977539,
          2.984556198120117,
          2.5806870460510254,
          -1.0856267213821411,
          1.7849656343460083
         ],
         "yaxis": "y6"
        },
        {
         "hovertemplate": "cancer_type=kidney<br>signature=cnv<br>tsne1=%{x}<br>tsne2=%{y}<extra></extra>",
         "legendgroup": "kidney",
         "marker": {
          "color": "#00cc96",
          "symbol": "circle"
         },
         "mode": "markers",
         "name": "kidney",
         "orientation": "v",
         "showlegend": false,
         "type": "scatter",
         "x": [
          -1.5470421314239502,
          -0.7312615513801575,
          -2.619642972946167,
          -1.8936538696289062,
          -0.9746313691139221
         ],
         "xaxis": "x7",
         "y": [
          0.9003186821937561,
          -1.5846741199493408,
          -0.37115511298179626,
          -0.49438127875328064,
          -0.660626232624054
         ],
         "yaxis": "y7"
        },
        {
         "hovertemplate": "cancer_type=kidney<br>signature=snv<br>tsne1=%{x}<br>tsne2=%{y}<extra></extra>",
         "legendgroup": "kidney",
         "marker": {
          "color": "#00cc96",
          "symbol": "circle"
         },
         "mode": "markers",
         "name": "kidney",
         "orientation": "v",
         "showlegend": false,
         "type": "scatter",
         "x": [
          1.761377215385437,
          1.0556429624557495,
          0.511493444442749,
          1.4560801982879639,
          1.0388824939727783
         ],
         "xaxis": "x8",
         "y": [
          2.0279040336608887,
          1.952513337135315,
          1.067765235900879,
          1.2168952226638794,
          1.9656754732131958
         ],
         "yaxis": "y8"
        },
        {
         "hovertemplate": "cancer_type=kidney<br>signature=lof<br>tsne1=%{x}<br>tsne2=%{y}<extra></extra>",
         "legendgroup": "kidney",
         "marker": {
          "color": "#00cc96",
          "symbol": "circle"
         },
         "mode": "markers",
         "name": "kidney",
         "orientation": "v",
         "showlegend": false,
         "type": "scatter",
         "x": [
          -0.10483454912900925,
          -0.5623875856399536,
          -1.6007808446884155,
          -0.32643982768058777,
          -0.5814957022666931
         ],
         "xaxis": "x",
         "y": [
          3.1355457305908203,
          2.4957921504974365,
          1.5578023195266724,
          1.6029962301254272,
          2.4957644939422607
         ],
         "yaxis": "y"
        },
        {
         "hovertemplate": "cancer_type=kidney<br>signature=ddr<br>tsne1=%{x}<br>tsne2=%{y}<extra></extra>",
         "legendgroup": "kidney",
         "marker": {
          "color": "#00cc96",
          "symbol": "circle"
         },
         "mode": "markers",
         "name": "kidney",
         "orientation": "v",
         "showlegend": false,
         "type": "scatter",
         "x": [
          2.4958112239837646,
          1.9693909883499146,
          0.3746936321258545,
          1.1300041675567627,
          -0.6701245903968811
         ],
         "xaxis": "x2",
         "y": [
          4.903709411621094,
          3.001399278640747,
          1.547932744026184,
          -0.336370587348938,
          1.131453514099121
         ],
         "yaxis": "y2"
        },
        {
         "hovertemplate": "cancer_type=kidney<br>signature=coh_pat<br>tsne1=%{x}<br>tsne2=%{y}<extra></extra>",
         "legendgroup": "kidney",
         "marker": {
          "color": "#00cc96",
          "symbol": "circle"
         },
         "mode": "markers",
         "name": "kidney",
         "orientation": "v",
         "showlegend": false,
         "type": "scatter",
         "x": [
          4.598404884338379,
          4.24760103225708,
          4.043618679046631,
          -2.560214042663574,
          3.6206371784210205
         ],
         "xaxis": "x3",
         "y": [
          0.9094348549842834,
          2.0679469108581543,
          1.6508454084396362,
          -2.110271453857422,
          0.5896526575088501
         ],
         "yaxis": "y3"
        },
        {
         "hovertemplate": "cancer_type=kidney<br>signature=lof_pat<br>tsne1=%{x}<br>tsne2=%{y}<extra></extra>",
         "legendgroup": "kidney",
         "marker": {
          "color": "#00cc96",
          "symbol": "circle"
         },
         "mode": "markers",
         "name": "kidney",
         "orientation": "v",
         "showlegend": false,
         "type": "scatter",
         "x": [
          1.7352761030197144,
          1.6716629266738892,
          3.148482084274292,
          3.516098737716675,
          2.2397985458374023
         ],
         "xaxis": "x4",
         "y": [
          -10.275169372558594,
          -9.16345500946045,
          -7.2703142166137695,
          -8.69522476196289,
          -9.012434005737305
         ],
         "yaxis": "y4"
        },
        {
         "hovertemplate": "cancer_type=sarcoma<br>signature=all<br>tsne1=%{x}<br>tsne2=%{y}<extra></extra>",
         "legendgroup": "sarcoma",
         "marker": {
          "color": "#ab63fa",
          "symbol": "circle"
         },
         "mode": "markers",
         "name": "sarcoma",
         "orientation": "v",
         "showlegend": true,
         "type": "scatter",
         "x": [
          -0.5546467304229736,
          -1.0863724946975708,
          -0.5692156553268433,
          -0.18283851444721222,
          -0.8323485851287842,
          -1.4067879915237427,
          -1.0913387537002563,
          -1.8227791786193848,
          -0.7236708402633667,
          -0.08736076951026917,
          -1.14689040184021,
          -0.631963312625885
         ],
         "xaxis": "x5",
         "y": [
          0.3854164779186249,
          0.8300286531448364,
          -1.1029316186904907,
          0.054715752601623535,
          2.3066585063934326,
          1.3475298881530762,
          1.2669758796691895,
          1.9174280166625977,
          1.376352310180664,
          -0.9332325458526611,
          1.3093883991241455,
          -0.698137640953064
         ],
         "yaxis": "y5"
        },
        {
         "hovertemplate": "cancer_type=sarcoma<br>signature=exp<br>tsne1=%{x}<br>tsne2=%{y}<extra></extra>",
         "legendgroup": "sarcoma",
         "marker": {
          "color": "#ab63fa",
          "symbol": "circle"
         },
         "mode": "markers",
         "name": "sarcoma",
         "orientation": "v",
         "showlegend": false,
         "type": "scatter",
         "x": [
          -1.8874175548553467,
          0.7853670716285706,
          -2.953284740447998,
          -2.7844717502593994,
          -2.43393874168396,
          0.8655787706375122,
          -2.829869270324707,
          1.205909013748169,
          -3.0291500091552734,
          -2.2585787773132324,
          -2.883852958679199,
          -1.9176175594329834
         ],
         "xaxis": "x6",
         "y": [
          -0.7017102241516113,
          -1.246780276298523,
          0.9684202075004578,
          2.0922718048095703,
          0.11541779339313507,
          -1.3004908561706543,
          -1.011523962020874,
          -1.4623380899429321,
          0.12262088805437088,
          1.3036025762557983,
          -1.1064749956130981,
          0.4597427248954773
         ],
         "yaxis": "y6"
        },
        {
         "hovertemplate": "cancer_type=sarcoma<br>signature=cnv<br>tsne1=%{x}<br>tsne2=%{y}<extra></extra>",
         "legendgroup": "sarcoma",
         "marker": {
          "color": "#ab63fa",
          "symbol": "circle"
         },
         "mode": "markers",
         "name": "sarcoma",
         "orientation": "v",
         "showlegend": false,
         "type": "scatter",
         "x": [
          -1.5989712476730347,
          -1.9748356342315674,
          0.2078087329864502,
          -1.5133168697357178,
          -3.204651117324829,
          -0.9987782835960388,
          -0.2011815309524536,
          -1.1936579942703247,
          -2.0465524196624756,
          -2.535127639770508,
          -0.2511224150657654,
          -0.6152963042259216
         ],
         "xaxis": "x7",
         "y": [
          0.4346463978290558,
          0.60426926612854,
          1.2986220121383667,
          0.493339478969574,
          -0.6444421410560608,
          -1.4133358001708984,
          -1.2069485187530518,
          -1.5410064458847046,
          -1.2918823957443237,
          1.212085485458374,
          -1.1026691198349,
          1.596620798110962
         ],
         "yaxis": "y7"
        },
        {
         "hovertemplate": "cancer_type=sarcoma<br>signature=snv<br>tsne1=%{x}<br>tsne2=%{y}<extra></extra>",
         "legendgroup": "sarcoma",
         "marker": {
          "color": "#ab63fa",
          "symbol": "circle"
         },
         "mode": "markers",
         "name": "sarcoma",
         "orientation": "v",
         "showlegend": false,
         "type": "scatter",
         "x": [
          1.890784740447998,
          1.0189708471298218,
          1.1164804697036743,
          1.0003266334533691,
          0.9496583938598633,
          0.5749331116676331,
          1.709518551826477,
          1.0666420459747314,
          0.6586023569107056,
          1.1042248010635376,
          1.9930696487426758,
          0.8797900080680847
         ],
         "xaxis": "x8",
         "y": [
          2.3956210613250732,
          1.9751577377319336,
          0.6944185495376587,
          1.9187384843826294,
          2.072854518890381,
          1.5594414472579956,
          1.7369967699050903,
          1.9713035821914673,
          2.33046555519104,
          1.9409760236740112,
          1.6310821771621704,
          2.1066524982452393
         ],
         "yaxis": "y8"
        },
        {
         "hovertemplate": "cancer_type=sarcoma<br>signature=lof<br>tsne1=%{x}<br>tsne2=%{y}<extra></extra>",
         "legendgroup": "sarcoma",
         "marker": {
          "color": "#ab63fa",
          "symbol": "circle"
         },
         "mode": "markers",
         "name": "sarcoma",
         "orientation": "v",
         "showlegend": false,
         "type": "scatter",
         "x": [
          -0.47190314531326294,
          0.11166844516992569,
          -1.2209885120391846,
          -0.5458956360816956,
          -2.5330216884613037,
          0.13732321560382843,
          -0.6534536480903625,
          -2.292840003967285,
          -0.5329803228378296,
          1.4089739322662354,
          -0.7977113127708435,
          -2.4817941188812256
         ],
         "xaxis": "x",
         "y": [
          2.0612969398498535,
          1.3763550519943237,
          3.736997604370117,
          2.486748695373535,
          1.8161416053771973,
          2.507199764251709,
          2.600536346435547,
          1.3681855201721191,
          1.7123045921325684,
          2.609121084213257,
          2.6841554641723633,
          2.477288246154785
         ],
         "yaxis": "y"
        },
        {
         "hovertemplate": "cancer_type=sarcoma<br>signature=ddr<br>tsne1=%{x}<br>tsne2=%{y}<extra></extra>",
         "legendgroup": "sarcoma",
         "marker": {
          "color": "#ab63fa",
          "symbol": "circle"
         },
         "mode": "markers",
         "name": "sarcoma",
         "orientation": "v",
         "showlegend": false,
         "type": "scatter",
         "x": [
          -0.0348435640335083,
          0.654879093170166,
          -0.48207101225852966,
          -0.5262998342514038,
          -1.2672574520111084,
          0.43737927079200745,
          1.1464918851852417,
          -0.29303765296936035,
          -1.5179489850997925,
          -0.29402032494544983,
          1.2802796363830566,
          0.59333735704422
         ],
         "xaxis": "x2",
         "y": [
          1.038219690322876,
          0.7550327181816101,
          3.79585862159729,
          0.9247812032699585,
          4.301943302154541,
          1.0644217729568481,
          1.9012178182601929,
          2.5385265350341797,
          4.697695732116699,
          2.079500198364258,
          2.304398775100708,
          4.376997947692871
         ],
         "yaxis": "y2"
        },
        {
         "hovertemplate": "cancer_type=sarcoma<br>signature=coh_pat<br>tsne1=%{x}<br>tsne2=%{y}<extra></extra>",
         "legendgroup": "sarcoma",
         "marker": {
          "color": "#ab63fa",
          "symbol": "circle"
         },
         "mode": "markers",
         "name": "sarcoma",
         "orientation": "v",
         "showlegend": false,
         "type": "scatter",
         "x": [
          -0.39752599596977234,
          -1.3836251497268677,
          2.797123908996582,
          4.405925273895264,
          0.9214048981666565,
          -1.6636663675308228,
          0.5157622694969177,
          -2.886906385421753,
          1.1993619203567505,
          2.7120532989501953,
          -0.7979063391685486,
          1.6968427896499634
         ],
         "xaxis": "x3",
         "y": [
          -0.5069562196731567,
          -1.856900691986084,
          -1.0278431177139282,
          0.8574243187904358,
          -1.4553028345108032,
          -1.7619813680648804,
          -1.9522651433944702,
          0.5482244491577148,
          -1.3837313652038574,
          -0.4614454209804535,
          -1.9075279235839844,
          -1.0192439556121826
         ],
         "yaxis": "y3"
        },
        {
         "hovertemplate": "cancer_type=sarcoma<br>signature=lof_pat<br>tsne1=%{x}<br>tsne2=%{y}<extra></extra>",
         "legendgroup": "sarcoma",
         "marker": {
          "color": "#ab63fa",
          "symbol": "circle"
         },
         "mode": "markers",
         "name": "sarcoma",
         "orientation": "v",
         "showlegend": false,
         "type": "scatter",
         "x": [
          1.3690346479415894,
          0.7347975373268127,
          -0.36700934171676636,
          1.4283009767532349,
          2.93110990524292,
          1.0669305324554443,
          2.1107726097106934,
          2.233771562576294,
          1.8457696437835693,
          0.4066459536552429,
          2.4961953163146973,
          2.39410400390625
         ],
         "xaxis": "x4",
         "y": [
          -9.240819931030273,
          -9.946025848388672,
          -9.067312240600586,
          -9.103362083435059,
          -6.63891077041626,
          -9.809786796569824,
          -8.88943862915039,
          -5.3749847412109375,
          -8.473191261291504,
          -7.186285972595215,
          -8.772363662719727,
          -7.094290256500244
         ],
         "yaxis": "y4"
        },
        {
         "hovertemplate": "cancer_type=ovary<br>signature=all<br>tsne1=%{x}<br>tsne2=%{y}<extra></extra>",
         "legendgroup": "ovary",
         "marker": {
          "color": "#FFA15A",
          "symbol": "circle"
         },
         "mode": "markers",
         "name": "ovary",
         "orientation": "v",
         "showlegend": true,
         "type": "scatter",
         "x": [
          -0.9228426814079285,
          2.151611089706421,
          1.1944060325622559,
          1.9390711784362793,
          0.8864070177078247,
          -0.11544444411993027
         ],
         "xaxis": "x5",
         "y": [
          0.5818793177604675,
          -0.35541605949401855,
          1.8112308979034424,
          0.4269372820854187,
          -2.112945318222046,
          1.7812546491622925
         ],
         "yaxis": "y5"
        },
        {
         "hovertemplate": "cancer_type=ovary<br>signature=exp<br>tsne1=%{x}<br>tsne2=%{y}<extra></extra>",
         "legendgroup": "ovary",
         "marker": {
          "color": "#FFA15A",
          "symbol": "circle"
         },
         "mode": "markers",
         "name": "ovary",
         "orientation": "v",
         "showlegend": false,
         "type": "scatter",
         "x": [
          0.1649385690689087,
          -1.7613612413406372,
          -0.3293241262435913,
          -0.9644672274589539,
          -1.0199288129806519,
          -1.1936441659927368
         ],
         "xaxis": "x6",
         "y": [
          -0.3948783874511719,
          3.314824104309082,
          1.4316718578338623,
          3.7296371459960938,
          3.0091235637664795,
          1.9726083278656006
         ],
         "yaxis": "y6"
        },
        {
         "hovertemplate": "cancer_type=ovary<br>signature=cnv<br>tsne1=%{x}<br>tsne2=%{y}<extra></extra>",
         "legendgroup": "ovary",
         "marker": {
          "color": "#FFA15A",
          "symbol": "circle"
         },
         "mode": "markers",
         "name": "ovary",
         "orientation": "v",
         "showlegend": false,
         "type": "scatter",
         "x": [
          -1.5534077882766724,
          -3.0513222217559814,
          -1.5103994607925415,
          -3.4226183891296387,
          -0.7309725880622864,
          -2.2437949180603027
         ],
         "xaxis": "x7",
         "y": [
          0.004918730352073908,
          1.781795859336853,
          0.48829182982444763,
          0.4396233856678009,
          2.310096263885498,
          0.6206028461456299
         ],
         "yaxis": "y7"
        },
        {
         "hovertemplate": "cancer_type=ovary<br>signature=snv<br>tsne1=%{x}<br>tsne2=%{y}<extra></extra>",
         "legendgroup": "ovary",
         "marker": {
          "color": "#FFA15A",
          "symbol": "circle"
         },
         "mode": "markers",
         "name": "ovary",
         "orientation": "v",
         "showlegend": false,
         "type": "scatter",
         "x": [
          1.6873934268951416,
          0.4950181245803833,
          -0.48270249366760254,
          1.5712862014770508,
          1.01875638961792,
          2.718482494354248
         ],
         "xaxis": "x8",
         "y": [
          3.3354315757751465,
          3.055023431777954,
          1.5556672811508179,
          2.4395225048065186,
          2.6042962074279785,
          1.7113945484161377
         ],
         "yaxis": "y8"
        },
        {
         "hovertemplate": "cancer_type=ovary<br>signature=lof<br>tsne1=%{x}<br>tsne2=%{y}<extra></extra>",
         "legendgroup": "ovary",
         "marker": {
          "color": "#FFA15A",
          "symbol": "circle"
         },
         "mode": "markers",
         "name": "ovary",
         "orientation": "v",
         "showlegend": false,
         "type": "scatter",
         "x": [
          -0.4582498073577881,
          1.369793176651001,
          0.505427360534668,
          -1.6897410154342651,
          1.4196534156799316,
          -0.4677564203739166
         ],
         "xaxis": "x",
         "y": [
          2.077301263809204,
          4.163161754608154,
          1.690266489982605,
          1.2002679109573364,
          3.5447726249694824,
          0.5447403192520142
         ],
         "yaxis": "y"
        },
        {
         "hovertemplate": "cancer_type=ovary<br>signature=ddr<br>tsne1=%{x}<br>tsne2=%{y}<extra></extra>",
         "legendgroup": "ovary",
         "marker": {
          "color": "#FFA15A",
          "symbol": "circle"
         },
         "mode": "markers",
         "name": "ovary",
         "orientation": "v",
         "showlegend": false,
         "type": "scatter",
         "x": [
          -0.4592348039150238,
          0.29589974880218506,
          -1.0571943521499634,
          1.7644459009170532,
          0.004012660123407841,
          -1.514735221862793
         ],
         "xaxis": "x2",
         "y": [
          0.044116631150245667,
          4.175454139709473,
          -1.7353876829147339,
          5.239742279052734,
          5.294581413269043,
          -0.2425256073474884
         ],
         "yaxis": "y2"
        },
        {
         "hovertemplate": "cancer_type=ovary<br>signature=coh_pat<br>tsne1=%{x}<br>tsne2=%{y}<extra></extra>",
         "legendgroup": "ovary",
         "marker": {
          "color": "#FFA15A",
          "symbol": "circle"
         },
         "mode": "markers",
         "name": "ovary",
         "orientation": "v",
         "showlegend": false,
         "type": "scatter",
         "x": [
          -0.6637825965881348,
          3.377549648284912,
          0.578910768032074,
          0.8315118551254272,
          0.9166698455810547,
          2.7728569507598877
         ],
         "xaxis": "x3",
         "y": [
          -0.453598290681839,
          1.8480128049850464,
          2.044538974761963,
          2.5979809761047363,
          2.4440224170684814,
          3.5842034816741943
         ],
         "yaxis": "y3"
        },
        {
         "hovertemplate": "cancer_type=ovary<br>signature=lof_pat<br>tsne1=%{x}<br>tsne2=%{y}<extra></extra>",
         "legendgroup": "ovary",
         "marker": {
          "color": "#FFA15A",
          "symbol": "circle"
         },
         "mode": "markers",
         "name": "ovary",
         "orientation": "v",
         "showlegend": false,
         "type": "scatter",
         "x": [
          1.5256874561309814,
          1.244935154914856,
          2.783679485321045,
          0.499925434589386,
          1.2242735624313354,
          3.4211835861206055
         ],
         "xaxis": "x4",
         "y": [
          -9.17586898803711,
          -4.198731899261475,
          -10.675731658935547,
          -4.440341472625732,
          -4.220484256744385,
          -6.953482151031494
         ],
         "yaxis": "y4"
        },
        {
         "hovertemplate": "cancer_type=melanoma<br>signature=all<br>tsne1=%{x}<br>tsne2=%{y}<extra></extra>",
         "legendgroup": "melanoma",
         "marker": {
          "color": "#19d3f3",
          "symbol": "circle"
         },
         "mode": "markers",
         "name": "melanoma",
         "orientation": "v",
         "showlegend": true,
         "type": "scatter",
         "x": [
          0.9886105060577393,
          -2.3397603034973145,
          -1.1917372941970825,
          -1.1353559494018555
         ],
         "xaxis": "x5",
         "y": [
          -1.1683604717254639,
          -2.7368552684783936,
          -1.389585256576538,
          -1.3468897342681885
         ],
         "yaxis": "y5"
        },
        {
         "hovertemplate": "cancer_type=melanoma<br>signature=exp<br>tsne1=%{x}<br>tsne2=%{y}<extra></extra>",
         "legendgroup": "melanoma",
         "marker": {
          "color": "#19d3f3",
          "symbol": "circle"
         },
         "mode": "markers",
         "name": "melanoma",
         "orientation": "v",
         "showlegend": false,
         "type": "scatter",
         "x": [
          -1.1984280347824097,
          -0.08939581364393234,
          -4.390261173248291,
          -4.420995712280273
         ],
         "xaxis": "x6",
         "y": [
          0.0400523841381073,
          0.6372211575508118,
          0.5189960598945618,
          0.5146124362945557
         ],
         "yaxis": "y6"
        },
        {
         "hovertemplate": "cancer_type=melanoma<br>signature=cnv<br>tsne1=%{x}<br>tsne2=%{y}<extra></extra>",
         "legendgroup": "melanoma",
         "marker": {
          "color": "#19d3f3",
          "symbol": "circle"
         },
         "mode": "markers",
         "name": "melanoma",
         "orientation": "v",
         "showlegend": false,
         "type": "scatter",
         "x": [
          -2.059427499771118,
          -1.4973129034042358,
          0.014995673671364784,
          -0.39791369438171387
         ],
         "xaxis": "x7",
         "y": [
          1.6126948595046997,
          0.502983808517456,
          0.29455193877220154,
          0.44739383459091187
         ],
         "yaxis": "y7"
        },
        {
         "hovertemplate": "cancer_type=melanoma<br>signature=snv<br>tsne1=%{x}<br>tsne2=%{y}<extra></extra>",
         "legendgroup": "melanoma",
         "marker": {
          "color": "#19d3f3",
          "symbol": "circle"
         },
         "mode": "markers",
         "name": "melanoma",
         "orientation": "v",
         "showlegend": false,
         "type": "scatter",
         "x": [
          -0.15992982685565948,
          2.673715114593506,
          1.5844558477401733,
          1.3206963539123535
         ],
         "xaxis": "x8",
         "y": [
          2.2139883041381836,
          -0.17924021184444427,
          0.5926294326782227,
          3.5399065017700195
         ],
         "yaxis": "y8"
        },
        {
         "hovertemplate": "cancer_type=melanoma<br>signature=lof<br>tsne1=%{x}<br>tsne2=%{y}<extra></extra>",
         "legendgroup": "melanoma",
         "marker": {
          "color": "#19d3f3",
          "symbol": "circle"
         },
         "mode": "markers",
         "name": "melanoma",
         "orientation": "v",
         "showlegend": false,
         "type": "scatter",
         "x": [
          -1.1652915477752686,
          0.6515416502952576,
          -1.8442414999008179,
          -1.7727311849594116
         ],
         "xaxis": "x",
         "y": [
          4.300096035003662,
          -0.24077823758125305,
          3.268104314804077,
          3.234637975692749
         ],
         "yaxis": "y"
        },
        {
         "hovertemplate": "cancer_type=melanoma<br>signature=ddr<br>tsne1=%{x}<br>tsne2=%{y}<extra></extra>",
         "legendgroup": "melanoma",
         "marker": {
          "color": "#19d3f3",
          "symbol": "circle"
         },
         "mode": "markers",
         "name": "melanoma",
         "orientation": "v",
         "showlegend": false,
         "type": "scatter",
         "x": [
          2.9322867393493652,
          0.8347640633583069,
          2.704756021499634,
          2.971508026123047
         ],
         "xaxis": "x2",
         "y": [
          -1.1542822122573853,
          -3.310276508331299,
          -0.8492399454116821,
          -1.2233209609985352
         ],
         "yaxis": "y2"
        },
        {
         "hovertemplate": "cancer_type=melanoma<br>signature=coh_pat<br>tsne1=%{x}<br>tsne2=%{y}<extra></extra>",
         "legendgroup": "melanoma",
         "marker": {
          "color": "#19d3f3",
          "symbol": "circle"
         },
         "mode": "markers",
         "name": "melanoma",
         "orientation": "v",
         "showlegend": false,
         "type": "scatter",
         "x": [
          0.2570422887802124,
          -0.6491668820381165,
          -1.0397416353225708,
          -1.0278213024139404
         ],
         "xaxis": "x3",
         "y": [
          -0.9440563917160034,
          3.8261115550994873,
          0.04512525349855423,
          0.8993889689445496
         ],
         "yaxis": "y3"
        },
        {
         "hovertemplate": "cancer_type=melanoma<br>signature=lof_pat<br>tsne1=%{x}<br>tsne2=%{y}<extra></extra>",
         "legendgroup": "melanoma",
         "marker": {
          "color": "#19d3f3",
          "symbol": "circle"
         },
         "mode": "markers",
         "name": "melanoma",
         "orientation": "v",
         "showlegend": false,
         "type": "scatter",
         "x": [
          1.9576433897018433,
          3.8047823905944824,
          1.3996671438217163,
          1.5485382080078125
         ],
         "xaxis": "x4",
         "y": [
          -4.723669052124023,
          -5.03577184677124,
          -7.142477512359619,
          -7.038680076599121
         ],
         "yaxis": "y4"
        },
        {
         "hovertemplate": "cancer_type=lung<br>signature=all<br>tsne1=%{x}<br>tsne2=%{y}<extra></extra>",
         "legendgroup": "lung",
         "marker": {
          "color": "#FF6692",
          "symbol": "circle"
         },
         "mode": "markers",
         "name": "lung",
         "orientation": "v",
         "showlegend": true,
         "type": "scatter",
         "x": [
          1.3967034816741943,
          1.2462040185928345,
          0.40511009097099304,
          -1.0117210149765015,
          -0.6895765662193298,
          -1.5995266437530518
         ],
         "xaxis": "x5",
         "y": [
          -1.0068937540054321,
          -0.9402382373809814,
          0.23504817485809326,
          -0.6736080050468445,
          0.5494954586029053,
          0.7606604695320129
         ],
         "yaxis": "y5"
        },
        {
         "hovertemplate": "cancer_type=lung<br>signature=exp<br>tsne1=%{x}<br>tsne2=%{y}<extra></extra>",
         "legendgroup": "lung",
         "marker": {
          "color": "#FF6692",
          "symbol": "circle"
         },
         "mode": "markers",
         "name": "lung",
         "orientation": "v",
         "showlegend": false,
         "type": "scatter",
         "x": [
          -0.6809313297271729,
          -0.953827440738678,
          -0.4104861915111542,
          -0.36802464723587036,
          -0.8749467730522156,
          -0.32823100686073303
         ],
         "xaxis": "x6",
         "y": [
          0.8265515565872192,
          0.6312475800514221,
          2.9368839263916016,
          2.3055782318115234,
          0.09908076375722885,
          -1.3679370880126953
         ],
         "yaxis": "y6"
        },
        {
         "hovertemplate": "cancer_type=lung<br>signature=cnv<br>tsne1=%{x}<br>tsne2=%{y}<extra></extra>",
         "legendgroup": "lung",
         "marker": {
          "color": "#FF6692",
          "symbol": "circle"
         },
         "mode": "markers",
         "name": "lung",
         "orientation": "v",
         "showlegend": false,
         "type": "scatter",
         "x": [
          -2.307976007461548,
          -2.136245012283325,
          -1.9584778547286987,
          0.10777163505554199,
          -1.5188539028167725,
          -1.6084470748901367
         ],
         "xaxis": "x7",
         "y": [
          2.132884979248047,
          1.799200415611267,
          0.8127381205558777,
          -0.7072241902351379,
          -0.43541616201400757,
          0.012926360592246056
         ],
         "yaxis": "y7"
        },
        {
         "hovertemplate": "cancer_type=lung<br>signature=snv<br>tsne1=%{x}<br>tsne2=%{y}<extra></extra>",
         "legendgroup": "lung",
         "marker": {
          "color": "#FF6692",
          "symbol": "circle"
         },
         "mode": "markers",
         "name": "lung",
         "orientation": "v",
         "showlegend": false,
         "type": "scatter",
         "x": [
          1.276644229888916,
          1.0034455060958862,
          1.109020709991455,
          0.4119100272655487,
          2.7233023643493652,
          1.173064112663269
         ],
         "xaxis": "x8",
         "y": [
          2.9796316623687744,
          1.4515050649642944,
          0.8757862448692322,
          3.4955010414123535,
          2.025982618331909,
          1.2852957248687744
         ],
         "yaxis": "y8"
        },
        {
         "hovertemplate": "cancer_type=lung<br>signature=lof<br>tsne1=%{x}<br>tsne2=%{y}<extra></extra>",
         "legendgroup": "lung",
         "marker": {
          "color": "#FF6692",
          "symbol": "circle"
         },
         "mode": "markers",
         "name": "lung",
         "orientation": "v",
         "showlegend": false,
         "type": "scatter",
         "x": [
          -0.509381115436554,
          -0.4930674135684967,
          -0.9069195985794067,
          -1.1874687671661377,
          -0.4672273099422455,
          -0.36402133107185364
         ],
         "xaxis": "x",
         "y": [
          4.8828277587890625,
          4.872737884521484,
          1.2667081356048584,
          3.2791850566864014,
          1.9773083925247192,
          2.610830783843994
         ],
         "yaxis": "y"
        },
        {
         "hovertemplate": "cancer_type=lung<br>signature=ddr<br>tsne1=%{x}<br>tsne2=%{y}<extra></extra>",
         "legendgroup": "lung",
         "marker": {
          "color": "#FF6692",
          "symbol": "circle"
         },
         "mode": "markers",
         "name": "lung",
         "orientation": "v",
         "showlegend": false,
         "type": "scatter",
         "x": [
          2.986301898956299,
          1.3557265996932983,
          -0.11918244510889053,
          3.351879358291626,
          3.128460645675659,
          -2.547623634338379
         ],
         "xaxis": "x2",
         "y": [
          0.5188317894935608,
          4.45235538482666,
          1.1976361274719238,
          0.3036760985851288,
          4.6148152351379395,
          2.013185501098633
         ],
         "yaxis": "y2"
        },
        {
         "hovertemplate": "cancer_type=lung<br>signature=coh_pat<br>tsne1=%{x}<br>tsne2=%{y}<extra></extra>",
         "legendgroup": "lung",
         "marker": {
          "color": "#FF6692",
          "symbol": "circle"
         },
         "mode": "markers",
         "name": "lung",
         "orientation": "v",
         "showlegend": false,
         "type": "scatter",
         "x": [
          0.10648229718208313,
          0.8798608183860779,
          3.24066424369812,
          2.928297519683838,
          -0.09757968038320541,
          -3.1489360332489014
         ],
         "xaxis": "x3",
         "y": [
          0.3832324743270874,
          0.4985857605934143,
          2.415005922317505,
          2.503446340560913,
          0.006820864975452423,
          -2.2851080894470215
         ],
         "yaxis": "y3"
        },
        {
         "hovertemplate": "cancer_type=lung<br>signature=lof_pat<br>tsne1=%{x}<br>tsne2=%{y}<extra></extra>",
         "legendgroup": "lung",
         "marker": {
          "color": "#FF6692",
          "symbol": "circle"
         },
         "mode": "markers",
         "name": "lung",
         "orientation": "v",
         "showlegend": false,
         "type": "scatter",
         "x": [
          -0.2879774570465088,
          -0.432356595993042,
          -0.6247671246528625,
          2.87908673286438,
          1.9593724012374878,
          1.6820372343063354
         ],
         "xaxis": "x4",
         "y": [
          -5.401379108428955,
          -5.551192760467529,
          -6.171929359436035,
          -9.407303810119629,
          -8.712019920349121,
          -9.30833911895752
         ],
         "yaxis": "y4"
        },
        {
         "hovertemplate": "cancer_type=pancreas<br>signature=all<br>tsne1=%{x}<br>tsne2=%{y}<extra></extra>",
         "legendgroup": "pancreas",
         "marker": {
          "color": "#B6E880",
          "symbol": "circle"
         },
         "mode": "markers",
         "name": "pancreas",
         "orientation": "v",
         "showlegend": true,
         "type": "scatter",
         "x": [
          0.3574100136756897,
          0.012012623250484467,
          -0.15021465718746185,
          1.7676631212234497,
          1.1244215965270996
         ],
         "xaxis": "x5",
         "y": [
          1.018939733505249,
          0.3420470058917999,
          -2.0948445796966553,
          -0.4227069318294525,
          -0.6170178651809692
         ],
         "yaxis": "y5"
        },
        {
         "hovertemplate": "cancer_type=pancreas<br>signature=exp<br>tsne1=%{x}<br>tsne2=%{y}<extra></extra>",
         "legendgroup": "pancreas",
         "marker": {
          "color": "#B6E880",
          "symbol": "circle"
         },
         "mode": "markers",
         "name": "pancreas",
         "orientation": "v",
         "showlegend": false,
         "type": "scatter",
         "x": [
          0.4798649847507477,
          -0.32908713817596436,
          -0.6016048789024353,
          -1.91429603099823,
          -0.6195555329322815
         ],
         "xaxis": "x6",
         "y": [
          2.138902425765991,
          2.698180913925171,
          0.1784479171037674,
          2.2338364124298096,
          1.4363819360733032
         ],
         "yaxis": "y6"
        },
        {
         "hovertemplate": "cancer_type=pancreas<br>signature=cnv<br>tsne1=%{x}<br>tsne2=%{y}<extra></extra>",
         "legendgroup": "pancreas",
         "marker": {
          "color": "#B6E880",
          "symbol": "circle"
         },
         "mode": "markers",
         "name": "pancreas",
         "orientation": "v",
         "showlegend": false,
         "type": "scatter",
         "x": [
          -0.6175664067268372,
          -1.4180902242660522,
          -1.2921686172485352,
          -2.982027769088745,
          -2.1372880935668945
         ],
         "xaxis": "x7",
         "y": [
          -1.6287139654159546,
          0.5022435784339905,
          2.041511297225952,
          1.4297351837158203,
          1.4953101873397827
         ],
         "yaxis": "y7"
        },
        {
         "hovertemplate": "cancer_type=pancreas<br>signature=snv<br>tsne1=%{x}<br>tsne2=%{y}<extra></extra>",
         "legendgroup": "pancreas",
         "marker": {
          "color": "#B6E880",
          "symbol": "circle"
         },
         "mode": "markers",
         "name": "pancreas",
         "orientation": "v",
         "showlegend": false,
         "type": "scatter",
         "x": [
          0.5747659206390381,
          0.735662579536438,
          1.1878713369369507,
          1.381089210510254,
          1.0559920072555542
         ],
         "xaxis": "x8",
         "y": [
          1.1361160278320312,
          1.9976067543029785,
          3.3598849773406982,
          1.8146764039993286,
          1.6834886074066162
         ],
         "yaxis": "y8"
        },
        {
         "hovertemplate": "cancer_type=pancreas<br>signature=lof<br>tsne1=%{x}<br>tsne2=%{y}<extra></extra>",
         "legendgroup": "pancreas",
         "marker": {
          "color": "#B6E880",
          "symbol": "circle"
         },
         "mode": "markers",
         "name": "pancreas",
         "orientation": "v",
         "showlegend": false,
         "type": "scatter",
         "x": [
          -0.4939565360546112,
          -0.47751861810684204,
          -2.5541083812713623,
          1.163966178894043,
          -0.6173310279846191
         ],
         "xaxis": "x",
         "y": [
          2.334657669067383,
          2.348253011703491,
          3.861747980117798,
          4.050736904144287,
          4.327148914337158
         ],
         "yaxis": "y"
        },
        {
         "hovertemplate": "cancer_type=pancreas<br>signature=ddr<br>tsne1=%{x}<br>tsne2=%{y}<extra></extra>",
         "legendgroup": "pancreas",
         "marker": {
          "color": "#B6E880",
          "symbol": "circle"
         },
         "mode": "markers",
         "name": "pancreas",
         "orientation": "v",
         "showlegend": false,
         "type": "scatter",
         "x": [
          2.2083168029785156,
          -0.17434383928775787,
          1.082484245300293,
          -0.24080826342105865,
          -1.7371299266815186
         ],
         "xaxis": "x2",
         "y": [
          3.9091620445251465,
          2.663773775100708,
          2.7229840755462646,
          3.694286823272705,
          2.9806058406829834
         ],
         "yaxis": "y2"
        },
        {
         "hovertemplate": "cancer_type=pancreas<br>signature=coh_pat<br>tsne1=%{x}<br>tsne2=%{y}<extra></extra>",
         "legendgroup": "pancreas",
         "marker": {
          "color": "#B6E880",
          "symbol": "circle"
         },
         "mode": "markers",
         "name": "pancreas",
         "orientation": "v",
         "showlegend": false,
         "type": "scatter",
         "x": [
          2.4519834518432617,
          2.392490863800049,
          1.307295560836792,
          3.0829896926879883,
          1.8868485689163208
         ],
         "xaxis": "x3",
         "y": [
          2.4513638019561768,
          2.462899923324585,
          1.0210227966308594,
          1.3720371723175049,
          4.297593116760254
         ],
         "yaxis": "y3"
        },
        {
         "hovertemplate": "cancer_type=pancreas<br>signature=lof_pat<br>tsne1=%{x}<br>tsne2=%{y}<extra></extra>",
         "legendgroup": "pancreas",
         "marker": {
          "color": "#B6E880",
          "symbol": "circle"
         },
         "mode": "markers",
         "name": "pancreas",
         "orientation": "v",
         "showlegend": false,
         "type": "scatter",
         "x": [
          1.3346856832504272,
          1.9455336332321167,
          1.1583079099655151,
          1.0179297924041748,
          -0.46432486176490784
         ],
         "xaxis": "x4",
         "y": [
          -9.207229614257812,
          -9.382063865661621,
          -4.810461521148682,
          -3.9547150135040283,
          -5.6397271156311035
         ],
         "yaxis": "y4"
        },
        {
         "hovertemplate": "cancer_type=breast<br>signature=all<br>tsne1=%{x}<br>tsne2=%{y}<extra></extra>",
         "legendgroup": "breast",
         "marker": {
          "color": "#FF97FF",
          "symbol": "circle"
         },
         "mode": "markers",
         "name": "breast",
         "orientation": "v",
         "showlegend": true,
         "type": "scatter",
         "x": [
          0.17112982273101807,
          -0.31104177236557007,
          0.7043118476867676,
          -1.2374138832092285,
          0.5302276015281677,
          -0.23647184669971466,
          -0.26365983486175537,
          0.7062210440635681
         ],
         "xaxis": "x5",
         "y": [
          1.2051007747650146,
          0.04322829097509384,
          0.9786601066589355,
          2.7129342555999756,
          -1.475551724433899,
          2.5318851470947266,
          1.297020435333252,
          1.8439220190048218
         ],
         "yaxis": "y5"
        },
        {
         "hovertemplate": "cancer_type=breast<br>signature=exp<br>tsne1=%{x}<br>tsne2=%{y}<extra></extra>",
         "legendgroup": "breast",
         "marker": {
          "color": "#FF97FF",
          "symbol": "circle"
         },
         "mode": "markers",
         "name": "breast",
         "orientation": "v",
         "showlegend": false,
         "type": "scatter",
         "x": [
          0.7931471467018127,
          -2.842902660369873,
          -2.0594654083251953,
          1.9129843711853027,
          -1.597873568534851,
          -1.7436449527740479,
          0.6852344274520874,
          0.2493102252483368
         ],
         "xaxis": "x6",
         "y": [
          2.8336141109466553,
          1.2913917303085327,
          2.909372568130493,
          2.4721341133117676,
          1.1984162330627441,
          -0.2157316356897354,
          3.148721694946289,
          3.8473072052001953
         ],
         "yaxis": "y6"
        },
        {
         "hovertemplate": "cancer_type=breast<br>signature=cnv<br>tsne1=%{x}<br>tsne2=%{y}<extra></extra>",
         "legendgroup": "breast",
         "marker": {
          "color": "#FF97FF",
          "symbol": "circle"
         },
         "mode": "markers",
         "name": "breast",
         "orientation": "v",
         "showlegend": false,
         "type": "scatter",
         "x": [
          0.3357471823692322,
          -0.48346036672592163,
          0.40948328375816345,
          -3.3667705059051514,
          -1.785510778427124,
          -2.6158859729766846,
          -0.24475915729999542,
          0.4235687851905823
         ],
         "xaxis": "x7",
         "y": [
          -0.19842739403247833,
          0.30975279211997986,
          0.9175843000411987,
          0.9607407450675964,
          2.1271798610687256,
          -1.1604527235031128,
          -0.35688599944114685,
          0.39352279901504517
         ],
         "yaxis": "y7"
        },
        {
         "hovertemplate": "cancer_type=breast<br>signature=snv<br>tsne1=%{x}<br>tsne2=%{y}<extra></extra>",
         "legendgroup": "breast",
         "marker": {
          "color": "#FF97FF",
          "symbol": "circle"
         },
         "mode": "markers",
         "name": "breast",
         "orientation": "v",
         "showlegend": false,
         "type": "scatter",
         "x": [
          0.25068914890289307,
          0.6204313039779663,
          1.0582865476608276,
          1.8305716514587402,
          2.0839028358459473,
          1.1922396421432495,
          2.4859015941619873,
          1.1681056022644043
         ],
         "xaxis": "x8",
         "y": [
          3.1203205585479736,
          1.7997409105300903,
          1.9857538938522339,
          1.274664044380188,
          1.9807982444763184,
          0.2789856493473053,
          1.3560640811920166,
          2.13105845451355
         ],
         "yaxis": "y8"
        },
        {
         "hovertemplate": "cancer_type=breast<br>signature=lof<br>tsne1=%{x}<br>tsne2=%{y}<extra></extra>",
         "legendgroup": "breast",
         "marker": {
          "color": "#FF97FF",
          "symbol": "circle"
         },
         "mode": "markers",
         "name": "breast",
         "orientation": "v",
         "showlegend": false,
         "type": "scatter",
         "x": [
          -0.7619901895523071,
          -0.5617568492889404,
          -0.0987619012594223,
          -1.0438971519470215,
          -1.6135276556015015,
          0.6776636242866516,
          -0.4908597767353058,
          0.7490524649620056
         ],
         "xaxis": "x",
         "y": [
          2.813565969467163,
          2.45001482963562,
          1.8532977104187012,
          0.5451416969299316,
          0.7436626553535461,
          1.0713553428649902,
          2.301054000854492,
          2.564915418624878
         ],
         "yaxis": "y"
        },
        {
         "hovertemplate": "cancer_type=breast<br>signature=ddr<br>tsne1=%{x}<br>tsne2=%{y}<extra></extra>",
         "legendgroup": "breast",
         "marker": {
          "color": "#FF97FF",
          "symbol": "circle"
         },
         "mode": "markers",
         "name": "breast",
         "orientation": "v",
         "showlegend": false,
         "type": "scatter",
         "x": [
          1.6310641765594482,
          -0.5099810361862183,
          -0.2979779839515686,
          0.2401663362979889,
          0.7037752866744995,
          0.7622881531715393,
          1.8114694356918335,
          3.861124038696289
         ],
         "xaxis": "x2",
         "y": [
          5.173473834991455,
          1.9947023391723633,
          3.4218103885650635,
          3.7984957695007324,
          3.5702474117279053,
          5.731407165527344,
          3.6305651664733887,
          3.0319902896881104
         ],
         "yaxis": "y2"
        },
        {
         "hovertemplate": "cancer_type=breast<br>signature=coh_pat<br>tsne1=%{x}<br>tsne2=%{y}<extra></extra>",
         "legendgroup": "breast",
         "marker": {
          "color": "#FF97FF",
          "symbol": "circle"
         },
         "mode": "markers",
         "name": "breast",
         "orientation": "v",
         "showlegend": false,
         "type": "scatter",
         "x": [
          1.3127599954605103,
          4.507588863372803,
          3.7662086486816406,
          -2.1939592361450195,
          2.535176992416382,
          2.209484100341797,
          0.12614504992961884,
          -1.71018648147583
         ],
         "xaxis": "x3",
         "y": [
          2.891608953475952,
          -0.07746174931526184,
          2.883408308029175,
          2.446077346801758,
          0.1366404891014099,
          1.0595992803573608,
          3.0313732624053955,
          2.47755765914917
         ],
         "yaxis": "y3"
        },
        {
         "hovertemplate": "cancer_type=breast<br>signature=lof_pat<br>tsne1=%{x}<br>tsne2=%{y}<extra></extra>",
         "legendgroup": "breast",
         "marker": {
          "color": "#FF97FF",
          "symbol": "circle"
         },
         "mode": "markers",
         "name": "breast",
         "orientation": "v",
         "showlegend": false,
         "type": "scatter",
         "x": [
          2.215512275695801,
          1.686346411705017,
          0.3268663287162781,
          0.9592844843864441,
          0.8134271502494812,
          1.9203834533691406,
          1.8551486730575562,
          1.3367491960525513
         ],
         "xaxis": "x4",
         "y": [
          -9.577369689941406,
          -9.189850807189941,
          -9.887765884399414,
          -5.825939178466797,
          -4.638548851013184,
          -4.591809272766113,
          -9.379652976989746,
          -10.74333381652832
         ],
         "yaxis": "y4"
        },
        {
         "hovertemplate": "cancer_type=cervix<br>signature=all<br>tsne1=%{x}<br>tsne2=%{y}<extra></extra>",
         "legendgroup": "cervix",
         "marker": {
          "color": "#FECB52",
          "symbol": "circle"
         },
         "mode": "markers",
         "name": "cervix",
         "orientation": "v",
         "showlegend": true,
         "type": "scatter",
         "x": [
          -2.1843314170837402,
          0.20728325843811035,
          -0.40404391288757324
         ],
         "xaxis": "x5",
         "y": [
          1.621132493019104,
          0.006590546108782291,
          0.457950621843338
         ],
         "yaxis": "y5"
        },
        {
         "hovertemplate": "cancer_type=cervix<br>signature=exp<br>tsne1=%{x}<br>tsne2=%{y}<extra></extra>",
         "legendgroup": "cervix",
         "marker": {
          "color": "#FECB52",
          "symbol": "circle"
         },
         "mode": "markers",
         "name": "cervix",
         "orientation": "v",
         "showlegend": false,
         "type": "scatter",
         "x": [
          -0.5053443908691406,
          -0.7124128341674805,
          -1.4257252216339111
         ],
         "xaxis": "x6",
         "y": [
          -0.7629455327987671,
          2.225039005279541,
          0.3959091603755951
         ],
         "yaxis": "y6"
        },
        {
         "hovertemplate": "cancer_type=cervix<br>signature=cnv<br>tsne1=%{x}<br>tsne2=%{y}<extra></extra>",
         "legendgroup": "cervix",
         "marker": {
          "color": "#FECB52",
          "symbol": "circle"
         },
         "mode": "markers",
         "name": "cervix",
         "orientation": "v",
         "showlegend": false,
         "type": "scatter",
         "x": [
          -1.490991234779358,
          -0.45565304160118103,
          -2.2461137771606445
         ],
         "xaxis": "x7",
         "y": [
          0.3690342903137207,
          1.1303120851516724,
          -0.1168452724814415
         ],
         "yaxis": "y7"
        },
        {
         "hovertemplate": "cancer_type=cervix<br>signature=snv<br>tsne1=%{x}<br>tsne2=%{y}<extra></extra>",
         "legendgroup": "cervix",
         "marker": {
          "color": "#FECB52",
          "symbol": "circle"
         },
         "mode": "markers",
         "name": "cervix",
         "orientation": "v",
         "showlegend": false,
         "type": "scatter",
         "x": [
          2.2942512035369873,
          0.5865742564201355,
          1.9513201713562012
         ],
         "xaxis": "x8",
         "y": [
          3.1275768280029297,
          0.34073740243911743,
          3.140686273574829
         ],
         "yaxis": "y8"
        },
        {
         "hovertemplate": "cancer_type=cervix<br>signature=lof<br>tsne1=%{x}<br>tsne2=%{y}<extra></extra>",
         "legendgroup": "cervix",
         "marker": {
          "color": "#FECB52",
          "symbol": "circle"
         },
         "mode": "markers",
         "name": "cervix",
         "orientation": "v",
         "showlegend": false,
         "type": "scatter",
         "x": [
          0.036289114505052567,
          0.06375951319932938,
          -0.491921991109848
         ],
         "xaxis": "x",
         "y": [
          1.19210684299469,
          2.8951666355133057,
          1.8407185077667236
         ],
         "yaxis": "y"
        },
        {
         "hovertemplate": "cancer_type=cervix<br>signature=ddr<br>tsne1=%{x}<br>tsne2=%{y}<extra></extra>",
         "legendgroup": "cervix",
         "marker": {
          "color": "#FECB52",
          "symbol": "circle"
         },
         "mode": "markers",
         "name": "cervix",
         "orientation": "v",
         "showlegend": false,
         "type": "scatter",
         "x": [
          -1.0262839794158936,
          3.2006969451904297,
          0.5650282502174377
         ],
         "xaxis": "x2",
         "y": [
          -1.7228456735610962,
          2.474970817565918,
          1.2106425762176514
         ],
         "yaxis": "y2"
        },
        {
         "hovertemplate": "cancer_type=cervix<br>signature=coh_pat<br>tsne1=%{x}<br>tsne2=%{y}<extra></extra>",
         "legendgroup": "cervix",
         "marker": {
          "color": "#FECB52",
          "symbol": "circle"
         },
         "mode": "markers",
         "name": "cervix",
         "orientation": "v",
         "showlegend": false,
         "type": "scatter",
         "x": [
          -2.6046946048736572,
          2.0047998428344727,
          1.259425163269043
         ],
         "xaxis": "x3",
         "y": [
          -2.3578972816467285,
          3.2588565349578857,
          0.09498140215873718
         ],
         "yaxis": "y3"
        },
        {
         "hovertemplate": "cancer_type=cervix<br>signature=lof_pat<br>tsne1=%{x}<br>tsne2=%{y}<extra></extra>",
         "legendgroup": "cervix",
         "marker": {
          "color": "#FECB52",
          "symbol": "circle"
         },
         "mode": "markers",
         "name": "cervix",
         "orientation": "v",
         "showlegend": false,
         "type": "scatter",
         "x": [
          2.200735092163086,
          2.71482515335083,
          1.4535655975341797
         ],
         "xaxis": "x4",
         "y": [
          -10.698463439941406,
          -9.551538467407227,
          -8.704143524169922
         ],
         "yaxis": "y4"
        },
        {
         "hovertemplate": "cancer_type=colon<br>signature=all<br>tsne1=%{x}<br>tsne2=%{y}<extra></extra>",
         "legendgroup": "colon",
         "marker": {
          "color": "#636efa",
          "symbol": "circle"
         },
         "mode": "markers",
         "name": "colon",
         "orientation": "v",
         "showlegend": true,
         "type": "scatter",
         "x": [
          0.6995261907577515,
          1.1986843347549438,
          0.9118300676345825,
          -2.3442904949188232,
          0.5354079008102417,
          -2.338710069656372,
          1.0214542150497437,
          -1.775320053100586,
          -2.3659958839416504,
          -0.6369866728782654
         ],
         "xaxis": "x5",
         "y": [
          0.10088130831718445,
          0.4920772612094879,
          0.6079342365264893,
          -2.7509377002716064,
          2.59720778465271,
          -2.7354259490966797,
          0.23747050762176514,
          -1.2052388191223145,
          -1.1936663389205933,
          0.44360417127609253
         ],
         "yaxis": "y5"
        },
        {
         "hovertemplate": "cancer_type=colon<br>signature=exp<br>tsne1=%{x}<br>tsne2=%{y}<extra></extra>",
         "legendgroup": "colon",
         "marker": {
          "color": "#636efa",
          "symbol": "circle"
         },
         "mode": "markers",
         "name": "colon",
         "orientation": "v",
         "showlegend": false,
         "type": "scatter",
         "x": [
          0.3732359707355499,
          1.1208168268203735,
          0.7370526790618896,
          -0.10095637291669846,
          0.08473491668701172,
          -0.07989608496427536,
          0.3473198413848877,
          0.6747536063194275,
          0.8650930523872375,
          0.420269638299942
         ],
         "xaxis": "x6",
         "y": [
          1.3602510690689087,
          1.4085315465927124,
          1.902073621749878,
          0.8518096804618835,
          0.7801640629768372,
          0.6956731677055359,
          1.4707403182983398,
          0.7196233868598938,
          0.7153832912445068,
          0.174979105591774
         ],
         "yaxis": "y6"
        },
        {
         "hovertemplate": "cancer_type=colon<br>signature=cnv<br>tsne1=%{x}<br>tsne2=%{y}<extra></extra>",
         "legendgroup": "colon",
         "marker": {
          "color": "#636efa",
          "symbol": "circle"
         },
         "mode": "markers",
         "name": "colon",
         "orientation": "v",
         "showlegend": false,
         "type": "scatter",
         "x": [
          -2.6093602180480957,
          -2.6590511798858643,
          -1.7339551448822021,
          -1.460282564163208,
          -1.553665041923523,
          -1.4957503080368042,
          -2.8100459575653076,
          -1.24624764919281,
          -1.3090914487838745,
          -1.1195735931396484
         ],
         "xaxis": "x7",
         "y": [
          0.11977963894605637,
          -0.7729594707489014,
          -1.3236045837402344,
          0.4867355525493622,
          0.44675305485725403,
          0.5024160146713257,
          0.7557229399681091,
          -0.504235565662384,
          0.36865633726119995,
          -0.5219623446464539
         ],
         "yaxis": "y7"
        },
        {
         "hovertemplate": "cancer_type=colon<br>signature=snv<br>tsne1=%{x}<br>tsne2=%{y}<extra></extra>",
         "legendgroup": "colon",
         "marker": {
          "color": "#636efa",
          "symbol": "circle"
         },
         "mode": "markers",
         "name": "colon",
         "orientation": "v",
         "showlegend": false,
         "type": "scatter",
         "x": [
          0.8889911770820618,
          1.0402659177780151,
          1.261863112449646,
          2.686068534851074,
          -0.30803921818733215,
          2.6778857707977295,
          1.8473659753799438,
          0.6410912275314331,
          -0.6030902862548828,
          0.35279470682144165
         ],
         "xaxis": "x8",
         "y": [
          2.424237012863159,
          1.946728229522705,
          2.3217933177948,
          -0.19370140135288239,
          2.872959613800049,
          -0.17971131205558777,
          2.799649238586426,
          3.5735466480255127,
          1.9693251848220825,
          0.4507315754890442
         ],
         "yaxis": "y8"
        },
        {
         "hovertemplate": "cancer_type=colon<br>signature=lof<br>tsne1=%{x}<br>tsne2=%{y}<extra></extra>",
         "legendgroup": "colon",
         "marker": {
          "color": "#636efa",
          "symbol": "circle"
         },
         "mode": "markers",
         "name": "colon",
         "orientation": "v",
         "showlegend": false,
         "type": "scatter",
         "x": [
          -0.546152651309967,
          -0.7589409947395325,
          -1.0340849161148071,
          0.6468908786773682,
          1.0196605920791626,
          0.6508814692497253,
          -1.8718470335006714,
          0.5925501585006714,
          0.931075394153595,
          -0.33524343371391296
         ],
         "xaxis": "x",
         "y": [
          3.6101081371307373,
          3.963827133178711,
          3.1572346687316895,
          -0.2314199060201645,
          1.438004970550537,
          -0.23985038697719574,
          1.58408784866333,
          2.1799252033233643,
          1.956177830696106,
          2.0161893367767334
         ],
         "yaxis": "y"
        },
        {
         "hovertemplate": "cancer_type=colon<br>signature=ddr<br>tsne1=%{x}<br>tsne2=%{y}<extra></extra>",
         "legendgroup": "colon",
         "marker": {
          "color": "#636efa",
          "symbol": "circle"
         },
         "mode": "markers",
         "name": "colon",
         "orientation": "v",
         "showlegend": false,
         "type": "scatter",
         "x": [
          2.106368064880371,
          0.1288238912820816,
          0.522484540939331,
          0.8226569890975952,
          -1.139129638671875,
          0.8363896012306213,
          0.8294622898101807,
          -1.0505181550979614,
          -1.6864068508148193,
          2.1151504516601562
         ],
         "xaxis": "x2",
         "y": [
          1.5358879566192627,
          1.6788119077682495,
          1.7845982313156128,
          -3.303605079650879,
          -1.7964662313461304,
          -3.3117387294769287,
          2.257310628890991,
          -1.7760393619537354,
          -2.161608934402466,
          0.17761221528053284
         ],
         "yaxis": "y2"
        },
        {
         "hovertemplate": "cancer_type=colon<br>signature=coh_pat<br>tsne1=%{x}<br>tsne2=%{y}<extra></extra>",
         "legendgroup": "colon",
         "marker": {
          "color": "#636efa",
          "symbol": "circle"
         },
         "mode": "markers",
         "name": "colon",
         "orientation": "v",
         "showlegend": false,
         "type": "scatter",
         "x": [
          0.9157978892326355,
          -0.43526574969291687,
          1.575765609741211,
          0.014082366600632668,
          -0.05616002902388573,
          -0.5674473643302917,
          0.28747767210006714,
          -0.3698856234550476,
          -1.1024692058563232,
          -1.4221203327178955
         ],
         "xaxis": "x3",
         "y": [
          4.101930141448975,
          4.36976432800293,
          4.23406982421875,
          4.093491077423096,
          2.6524417400360107,
          3.5609285831451416,
          4.4109206199646,
          2.476638078689575,
          2.706458330154419,
          3.1953983306884766
         ],
         "yaxis": "y3"
        },
        {
         "hovertemplate": "cancer_type=colon<br>signature=lof_pat<br>tsne1=%{x}<br>tsne2=%{y}<extra></extra>",
         "legendgroup": "colon",
         "marker": {
          "color": "#636efa",
          "symbol": "circle"
         },
         "mode": "markers",
         "name": "colon",
         "orientation": "v",
         "showlegend": false,
         "type": "scatter",
         "x": [
          -0.7738234400749207,
          -0.02693229541182518,
          1.4159045219421387,
          3.7768588066101074,
          3.041883707046509,
          3.8047611713409424,
          2.4078876972198486,
          3.2370386123657227,
          3.169964551925659,
          1.3967705965042114
         ],
         "xaxis": "x4",
         "y": [
          -6.387794017791748,
          -8.02377700805664,
          -7.968364238739014,
          -5.01967716217041,
          -11.132808685302734,
          -5.0423479080200195,
          -7.011319160461426,
          -10.212512016296387,
          -10.939266204833984,
          -9.119590759277344
         ],
         "yaxis": "y4"
        },
        {
         "hovertemplate": "cancer_type=hematological<br>signature=all<br>tsne1=%{x}<br>tsne2=%{y}<extra></extra>",
         "legendgroup": "hematological",
         "marker": {
          "color": "#EF553B",
          "symbol": "circle"
         },
         "mode": "markers",
         "name": "hematological",
         "orientation": "v",
         "showlegend": true,
         "type": "scatter",
         "x": [
          -2.043339490890503,
          -2.148895502090454,
          -2.9186501502990723,
          -1.7802822589874268,
          -1.7654155492782593,
          -2.3085153102874756,
          -1.535207748413086,
          -1.88209867477417,
          -2.0298070907592773,
          -2.217952013015747,
          -2.067918539047241,
          -2.7960503101348877
         ],
         "xaxis": "x5",
         "y": [
          -0.08105915784835815,
          0.3499715030193329,
          0.586785614490509,
          0.22281384468078613,
          0.17229202389717102,
          0.024247024208307266,
          0.34118103981018066,
          0.178812637925148,
          0.11980662494897842,
          0.01133604347705841,
          0.6578335762023926,
          -0.15889638662338257
         ],
         "yaxis": "y5"
        },
        {
         "hovertemplate": "cancer_type=hematological<br>signature=exp<br>tsne1=%{x}<br>tsne2=%{y}<extra></extra>",
         "legendgroup": "hematological",
         "marker": {
          "color": "#EF553B",
          "symbol": "circle"
         },
         "mode": "markers",
         "name": "hematological",
         "orientation": "v",
         "showlegend": false,
         "type": "scatter",
         "x": [
          -1.2956939935684204,
          -0.2855001389980316,
          1.6830220222473145,
          -0.07633671164512634,
          -1.4032623767852783,
          -1.2178951501846313,
          0.011236578226089478,
          -1.5128138065338135,
          -1.5328023433685303,
          -1.5083763599395752,
          0.1419733762741089,
          -1.4711579084396362
         ],
         "xaxis": "x6",
         "y": [
          -2.903536319732666,
          -2.679931640625,
          -0.640336811542511,
          -2.7553470134735107,
          -2.1477344036102295,
          -2.974961519241333,
          -2.905125856399536,
          -3.4593749046325684,
          -3.5387325286865234,
          -3.481050491333008,
          -2.9636285305023193,
          -3.4541196823120117
         ],
         "yaxis": "y6"
        },
        {
         "hovertemplate": "cancer_type=hematological<br>signature=cnv<br>tsne1=%{x}<br>tsne2=%{y}<extra></extra>",
         "legendgroup": "hematological",
         "marker": {
          "color": "#EF553B",
          "symbol": "circle"
         },
         "mode": "markers",
         "name": "hematological",
         "orientation": "v",
         "showlegend": false,
         "type": "scatter",
         "x": [
          -2.0519986152648926,
          -1.4900184869766235,
          -0.1897965967655182,
          -1.8222906589508057,
          -1.1772894859313965,
          -0.6712109446525574,
          -1.2642039060592651,
          -1.4264461994171143,
          -1.2574131488800049,
          -1.0211576223373413,
          -1.998939871788025,
          -1.7904267311096191
         ],
         "xaxis": "x7",
         "y": [
          0.7731062173843384,
          0.7708505988121033,
          1.633042335510254,
          0.6869632601737976,
          -0.366202712059021,
          0.5564753413200378,
          0.3321405053138733,
          0.5129687786102295,
          0.3423098921775818,
          0.8783091306686401,
          -0.9193753004074097,
          0.40650680661201477
         ],
         "yaxis": "y7"
        },
        {
         "hovertemplate": "cancer_type=hematological<br>signature=snv<br>tsne1=%{x}<br>tsne2=%{y}<extra></extra>",
         "legendgroup": "hematological",
         "marker": {
          "color": "#EF553B",
          "symbol": "circle"
         },
         "mode": "markers",
         "name": "hematological",
         "orientation": "v",
         "showlegend": false,
         "type": "scatter",
         "x": [
          1.0317726135253906,
          0.3262432813644409,
          1.005238652229309,
          0.9280034899711609,
          1.8760263919830322,
          0.40388932824134827,
          1.0237677097320557,
          0.9952857494354248,
          0.20992068946361542,
          -0.4081285893917084,
          1.0272853374481201,
          -0.5718144774436951
         ],
         "xaxis": "x8",
         "y": [
          1.947555661201477,
          1.388724446296692,
          1.920924425125122,
          2.6691665649414062,
          0.7854733467102051,
          1.9929131269454956,
          1.9553438425064087,
          1.982282280921936,
          2.6982500553131104,
          1.2921849489212036,
          1.9079564809799194,
          2.28960919380188
         ],
         "yaxis": "y8"
        },
        {
         "hovertemplate": "cancer_type=hematological<br>signature=lof<br>tsne1=%{x}<br>tsne2=%{y}<extra></extra>",
         "legendgroup": "hematological",
         "marker": {
          "color": "#EF553B",
          "symbol": "circle"
         },
         "mode": "markers",
         "name": "hematological",
         "orientation": "v",
         "showlegend": false,
         "type": "scatter",
         "x": [
          -0.8416574001312256,
          -2.012072801589966,
          1.5449250936508179,
          -1.1559162139892578,
          -0.9198604226112366,
          0.7863816618919373,
          -0.5513692498207092,
          -0.7175695896148682,
          -0.585299551486969,
          -0.353721022605896,
          -1.1057418584823608,
          -0.42458897829055786
         ],
         "xaxis": "x",
         "y": [
          0.9254035353660583,
          2.699180841445923,
          1.949215292930603,
          2.077728509902954,
          2.6612138748168945,
          3.1494908332824707,
          2.4982709884643555,
          2.3991010189056396,
          2.452692747116089,
          2.9939112663269043,
          2.4943885803222656,
          1.1138334274291992
         ],
         "yaxis": "y"
        },
        {
         "hovertemplate": "cancer_type=hematological<br>signature=ddr<br>tsne1=%{x}<br>tsne2=%{y}<extra></extra>",
         "legendgroup": "hematological",
         "marker": {
          "color": "#EF553B",
          "symbol": "circle"
         },
         "mode": "markers",
         "name": "hematological",
         "orientation": "v",
         "showlegend": false,
         "type": "scatter",
         "x": [
          -0.6693236827850342,
          1.1582926511764526,
          1.975943922996521,
          -0.8397740721702576,
          1.3440765142440796,
          0.18291540443897247,
          -0.1540972739458084,
          -0.02487008459866047,
          2.493230104446411,
          -2.7787861824035645,
          1.1440633535385132,
          -2.0747857093811035
         ],
         "xaxis": "x2",
         "y": [
          1.2864242792129517,
          -0.564494252204895,
          1.3341162204742432,
          2.2181570529937744,
          0.8941065669059753,
          2.5034334659576416,
          1.1237571239471436,
          0.37080758810043335,
          3.203099250793457,
          1.97549569606781,
          1.0288909673690796,
          -0.8900040984153748
         ],
         "yaxis": "y2"
        },
        {
         "hovertemplate": "cancer_type=hematological<br>signature=coh_pat<br>tsne1=%{x}<br>tsne2=%{y}<extra></extra>",
         "legendgroup": "hematological",
         "marker": {
          "color": "#EF553B",
          "symbol": "circle"
         },
         "mode": "markers",
         "name": "hematological",
         "orientation": "v",
         "showlegend": false,
         "type": "scatter",
         "x": [
          -4.1916584968566895,
          -3.674771308898926,
          -3.238644599914551,
          -3.556065320968628,
          -4.090142250061035,
          -3.943350076675415,
          -3.9000353813171387,
          -4.244064807891846,
          -4.542757511138916,
          -4.186331748962402,
          -3.0719614028930664,
          -3.847465753555298
         ],
         "xaxis": "x3",
         "y": [
          -2.323727607727051,
          -1.64891517162323,
          -2.100933074951172,
          -0.790519118309021,
          -1.2399684190750122,
          -1.906583547592163,
          -1.1050978899002075,
          -2.084124803543091,
          -1.6776986122131348,
          -1.873965859413147,
          -1.1742987632751465,
          -2.617889404296875
         ],
         "yaxis": "y3"
        },
        {
         "hovertemplate": "cancer_type=hematological<br>signature=lof_pat<br>tsne1=%{x}<br>tsne2=%{y}<extra></extra>",
         "legendgroup": "hematological",
         "marker": {
          "color": "#EF553B",
          "symbol": "circle"
         },
         "mode": "markers",
         "name": "hematological",
         "orientation": "v",
         "showlegend": false,
         "type": "scatter",
         "x": [
          -0.7028928399085999,
          1.6980608701705933,
          2.3051648139953613,
          3.0253820419311523,
          1.64405357837677,
          3.6304268836975098,
          1.9086488485336304,
          1.6573748588562012,
          1.586472749710083,
          1.1628775596618652,
          0.7519781589508057,
          -0.04431137442588806
         ],
         "xaxis": "x4",
         "y": [
          -6.226865291595459,
          -10.723541259765625,
          -5.587414741516113,
          -8.025375366210938,
          -9.218836784362793,
          -9.312102317810059,
          -9.409685134887695,
          -9.187765121459961,
          -9.726492881774902,
          -8.702047348022461,
          -8.95170783996582,
          -9.66951847076416
         ],
         "yaxis": "y4"
        },
        {
         "hovertemplate": "cancer_type=liver<br>signature=all<br>tsne1=%{x}<br>tsne2=%{y}<extra></extra>",
         "legendgroup": "liver",
         "marker": {
          "color": "#00cc96",
          "symbol": "circle"
         },
         "mode": "markers",
         "name": "liver",
         "orientation": "v",
         "showlegend": true,
         "type": "scatter",
         "x": [
          -0.5067684650421143,
          0.0038011011201888323,
          0.6004086136817932
         ],
         "xaxis": "x5",
         "y": [
          0.816514790058136,
          0.8569862842559814,
          -0.804161012172699
         ],
         "yaxis": "y5"
        },
        {
         "hovertemplate": "cancer_type=liver<br>signature=exp<br>tsne1=%{x}<br>tsne2=%{y}<extra></extra>",
         "legendgroup": "liver",
         "marker": {
          "color": "#00cc96",
          "symbol": "circle"
         },
         "mode": "markers",
         "name": "liver",
         "orientation": "v",
         "showlegend": false,
         "type": "scatter",
         "x": [
          2.172959089279175,
          1.849312424659729,
          -1.8279445171356201
         ],
         "xaxis": "x6",
         "y": [
          0.9687349200248718,
          1.0161508321762085,
          1.2383931875228882
         ],
         "yaxis": "y6"
        },
        {
         "hovertemplate": "cancer_type=liver<br>signature=cnv<br>tsne1=%{x}<br>tsne2=%{y}<extra></extra>",
         "legendgroup": "liver",
         "marker": {
          "color": "#00cc96",
          "symbol": "circle"
         },
         "mode": "markers",
         "name": "liver",
         "orientation": "v",
         "showlegend": false,
         "type": "scatter",
         "x": [
          -0.49159446358680725,
          -1.264857530593872,
          -1.8201757669448853
         ],
         "xaxis": "x7",
         "y": [
          -0.2539490759372711,
          1.2013027667999268,
          1.5433398485183716
         ],
         "yaxis": "y7"
        },
        {
         "hovertemplate": "cancer_type=liver<br>signature=snv<br>tsne1=%{x}<br>tsne2=%{y}<extra></extra>",
         "legendgroup": "liver",
         "marker": {
          "color": "#00cc96",
          "symbol": "circle"
         },
         "mode": "markers",
         "name": "liver",
         "orientation": "v",
         "showlegend": false,
         "type": "scatter",
         "x": [
          2.2800638675689697,
          -0.2611243724822998,
          1.0637667179107666
         ],
         "xaxis": "x8",
         "y": [
          2.3640339374542236,
          0.9546688795089722,
          1.9352083206176758
         ],
         "yaxis": "y8"
        },
        {
         "hovertemplate": "cancer_type=liver<br>signature=lof<br>tsne1=%{x}<br>tsne2=%{y}<extra></extra>",
         "legendgroup": "liver",
         "marker": {
          "color": "#00cc96",
          "symbol": "circle"
         },
         "mode": "markers",
         "name": "liver",
         "orientation": "v",
         "showlegend": false,
         "type": "scatter",
         "x": [
          -0.5566081404685974,
          0.18750135600566864,
          0.5994381308555603
         ],
         "xaxis": "x",
         "y": [
          2.5141706466674805,
          3.234583616256714,
          3.959470272064209
         ],
         "yaxis": "y"
        },
        {
         "hovertemplate": "cancer_type=liver<br>signature=ddr<br>tsne1=%{x}<br>tsne2=%{y}<extra></extra>",
         "legendgroup": "liver",
         "marker": {
          "color": "#00cc96",
          "symbol": "circle"
         },
         "mode": "markers",
         "name": "liver",
         "orientation": "v",
         "showlegend": false,
         "type": "scatter",
         "x": [
          1.7567353248596191,
          4.425689220428467,
          -0.1355951428413391
         ],
         "xaxis": "x2",
         "y": [
          2.652438163757324,
          1.7107638120651245,
          1.3202745914459229
         ],
         "yaxis": "y2"
        },
        {
         "hovertemplate": "cancer_type=liver<br>signature=coh_pat<br>tsne1=%{x}<br>tsne2=%{y}<extra></extra>",
         "legendgroup": "liver",
         "marker": {
          "color": "#00cc96",
          "symbol": "circle"
         },
         "mode": "markers",
         "name": "liver",
         "orientation": "v",
         "showlegend": false,
         "type": "scatter",
         "x": [
          -1.016412615776062,
          -0.3764161467552185,
          4.019863605499268
         ],
         "xaxis": "x3",
         "y": [
          1.8006212711334229,
          1.8545395135879517,
          -1.320823073387146
         ],
         "yaxis": "y3"
        },
        {
         "hovertemplate": "cancer_type=liver<br>signature=lof_pat<br>tsne1=%{x}<br>tsne2=%{y}<extra></extra>",
         "legendgroup": "liver",
         "marker": {
          "color": "#00cc96",
          "symbol": "circle"
         },
         "mode": "markers",
         "name": "liver",
         "orientation": "v",
         "showlegend": false,
         "type": "scatter",
         "x": [
          1.4935969114303589,
          0.09939548373222351,
          3.9137134552001953
         ],
         "xaxis": "x4",
         "y": [
          -8.863977432250977,
          -8.480039596557617,
          -8.435226440429688
         ],
         "yaxis": "y4"
        },
        {
         "hovertemplate": "cancer_type=brain<br>signature=all<br>tsne1=%{x}<br>tsne2=%{y}<extra></extra>",
         "legendgroup": "brain",
         "marker": {
          "color": "#ab63fa",
          "symbol": "circle"
         },
         "mode": "markers",
         "name": "brain",
         "orientation": "v",
         "showlegend": true,
         "type": "scatter",
         "x": [
          -0.43452244997024536,
          -0.6745837330818176,
          -0.09490698575973511,
          -0.08500269055366516
         ],
         "xaxis": "x5",
         "y": [
          0.05958016216754913,
          -0.25065016746520996,
          -1.6674596071243286,
          -0.5434806942939758
         ],
         "yaxis": "y5"
        },
        {
         "hovertemplate": "cancer_type=brain<br>signature=exp<br>tsne1=%{x}<br>tsne2=%{y}<extra></extra>",
         "legendgroup": "brain",
         "marker": {
          "color": "#ab63fa",
          "symbol": "circle"
         },
         "mode": "markers",
         "name": "brain",
         "orientation": "v",
         "showlegend": false,
         "type": "scatter",
         "x": [
          -2.3799195289611816,
          -1.9987584352493286,
          -3.2425122261047363,
          -3.1212470531463623
         ],
         "xaxis": "x6",
         "y": [
          1.01101815700531,
          0.8624823093414307,
          1.1481033563613892,
          1.3637315034866333
         ],
         "yaxis": "y6"
        },
        {
         "hovertemplate": "cancer_type=brain<br>signature=cnv<br>tsne1=%{x}<br>tsne2=%{y}<extra></extra>",
         "legendgroup": "brain",
         "marker": {
          "color": "#ab63fa",
          "symbol": "circle"
         },
         "mode": "markers",
         "name": "brain",
         "orientation": "v",
         "showlegend": false,
         "type": "scatter",
         "x": [
          -2.6673965454101562,
          -0.7032763957977295,
          -1.2813559770584106,
          -1.506120204925537
         ],
         "xaxis": "x7",
         "y": [
          0.3978896737098694,
          -0.024106184020638466,
          1.6340653896331787,
          0.8218405842781067
         ],
         "yaxis": "y7"
        },
        {
         "hovertemplate": "cancer_type=brain<br>signature=snv<br>tsne1=%{x}<br>tsne2=%{y}<extra></extra>",
         "legendgroup": "brain",
         "marker": {
          "color": "#ab63fa",
          "symbol": "circle"
         },
         "mode": "markers",
         "name": "brain",
         "orientation": "v",
         "showlegend": false,
         "type": "scatter",
         "x": [
          1.6184754371643066,
          1.0129314661026,
          1.0230801105499268,
          1.0468096733093262
         ],
         "xaxis": "x8",
         "y": [
          1.6629835367202759,
          1.9671900272369385,
          1.9904611110687256,
          1.9578033685684204
         ],
         "yaxis": "y8"
        },
        {
         "hovertemplate": "cancer_type=brain<br>signature=lof<br>tsne1=%{x}<br>tsne2=%{y}<extra></extra>",
         "legendgroup": "brain",
         "marker": {
          "color": "#ab63fa",
          "symbol": "circle"
         },
         "mode": "markers",
         "name": "brain",
         "orientation": "v",
         "showlegend": false,
         "type": "scatter",
         "x": [
          -0.6075640916824341,
          -1.718875527381897,
          -2.377584457397461,
          -1.6793407201766968
         ],
         "xaxis": "x",
         "y": [
          1.8945120573043823,
          2.7834792137145996,
          3.895068645477295,
          2.1621973514556885
         ],
         "yaxis": "y"
        },
        {
         "hovertemplate": "cancer_type=brain<br>signature=ddr<br>tsne1=%{x}<br>tsne2=%{y}<extra></extra>",
         "legendgroup": "brain",
         "marker": {
          "color": "#ab63fa",
          "symbol": "circle"
         },
         "mode": "markers",
         "name": "brain",
         "orientation": "v",
         "showlegend": false,
         "type": "scatter",
         "x": [
          1.4518071413040161,
          0.9048780798912048,
          -0.5904417634010315,
          2.181918144226074
         ],
         "xaxis": "x2",
         "y": [
          3.285223960876465,
          1.8909205198287964,
          2.4437029361724854,
          3.4489614963531494
         ],
         "yaxis": "y2"
        },
        {
         "hovertemplate": "cancer_type=brain<br>signature=coh_pat<br>tsne1=%{x}<br>tsne2=%{y}<extra></extra>",
         "legendgroup": "brain",
         "marker": {
          "color": "#ab63fa",
          "symbol": "circle"
         },
         "mode": "markers",
         "name": "brain",
         "orientation": "v",
         "showlegend": false,
         "type": "scatter",
         "x": [
          1.8544042110443115,
          2.229067325592041,
          3.390296220779419,
          2.022298812866211
         ],
         "xaxis": "x3",
         "y": [
          -1.1158605813980103,
          -0.49643296003341675,
          -0.42488542199134827,
          -0.05257677286863327
         ],
         "yaxis": "y3"
        },
        {
         "hovertemplate": "cancer_type=brain<br>signature=lof_pat<br>tsne1=%{x}<br>tsne2=%{y}<extra></extra>",
         "legendgroup": "brain",
         "marker": {
          "color": "#ab63fa",
          "symbol": "circle"
         },
         "mode": "markers",
         "name": "brain",
         "orientation": "v",
         "showlegend": false,
         "type": "scatter",
         "x": [
          2.6848909854888916,
          1.4413535594940186,
          1.4688894748687744,
          0.8424227237701416
         ],
         "xaxis": "x4",
         "y": [
          -8.321366310119629,
          -6.245624542236328,
          -5.042860507965088,
          -7.09020471572876
         ],
         "yaxis": "y4"
        }
       ],
       "layout": {
        "annotations": [
         {
          "font": {},
          "showarrow": false,
          "text": "signature=lof",
          "x": 0.1175,
          "xanchor": "center",
          "xref": "paper",
          "y": 0.46499999999999997,
          "yanchor": "bottom",
          "yref": "paper"
         },
         {
          "font": {},
          "showarrow": false,
          "text": "signature=ddr",
          "x": 0.3725,
          "xanchor": "center",
          "xref": "paper",
          "y": 0.46499999999999997,
          "yanchor": "bottom",
          "yref": "paper"
         },
         {
          "font": {},
          "showarrow": false,
          "text": "signature=coh_pat",
          "x": 0.6275,
          "xanchor": "center",
          "xref": "paper",
          "y": 0.46499999999999997,
          "yanchor": "bottom",
          "yref": "paper"
         },
         {
          "font": {},
          "showarrow": false,
          "text": "signature=lof_pat",
          "x": 0.8824999999999998,
          "xanchor": "center",
          "xref": "paper",
          "y": 0.46499999999999997,
          "yanchor": "bottom",
          "yref": "paper"
         },
         {
          "font": {},
          "showarrow": false,
          "text": "signature=all",
          "x": 0.1175,
          "xanchor": "center",
          "xref": "paper",
          "y": 0.9999999999999999,
          "yanchor": "bottom",
          "yref": "paper"
         },
         {
          "font": {},
          "showarrow": false,
          "text": "signature=exp",
          "x": 0.3725,
          "xanchor": "center",
          "xref": "paper",
          "y": 0.9999999999999999,
          "yanchor": "bottom",
          "yref": "paper"
         },
         {
          "font": {},
          "showarrow": false,
          "text": "signature=cnv",
          "x": 0.6275,
          "xanchor": "center",
          "xref": "paper",
          "y": 0.9999999999999999,
          "yanchor": "bottom",
          "yref": "paper"
         },
         {
          "font": {},
          "showarrow": false,
          "text": "signature=snv",
          "x": 0.8824999999999998,
          "xanchor": "center",
          "xref": "paper",
          "y": 0.9999999999999999,
          "yanchor": "bottom",
          "yref": "paper"
         }
        ],
        "height": 600,
        "legend": {
         "title": {
          "text": "cancer_type"
         },
         "tracegroupgap": 0
        },
        "margin": {
         "t": 60
        },
        "template": {
         "data": {
          "bar": [
           {
            "error_x": {
             "color": "#2a3f5f"
            },
            "error_y": {
             "color": "#2a3f5f"
            },
            "marker": {
             "line": {
              "color": "#E5ECF6",
              "width": 0.5
             },
             "pattern": {
              "fillmode": "overlay",
              "size": 10,
              "solidity": 0.2
             }
            },
            "type": "bar"
           }
          ],
          "barpolar": [
           {
            "marker": {
             "line": {
              "color": "#E5ECF6",
              "width": 0.5
             },
             "pattern": {
              "fillmode": "overlay",
              "size": 10,
              "solidity": 0.2
             }
            },
            "type": "barpolar"
           }
          ],
          "carpet": [
           {
            "aaxis": {
             "endlinecolor": "#2a3f5f",
             "gridcolor": "white",
             "linecolor": "white",
             "minorgridcolor": "white",
             "startlinecolor": "#2a3f5f"
            },
            "baxis": {
             "endlinecolor": "#2a3f5f",
             "gridcolor": "white",
             "linecolor": "white",
             "minorgridcolor": "white",
             "startlinecolor": "#2a3f5f"
            },
            "type": "carpet"
           }
          ],
          "choropleth": [
           {
            "colorbar": {
             "outlinewidth": 0,
             "ticks": ""
            },
            "type": "choropleth"
           }
          ],
          "contour": [
           {
            "colorbar": {
             "outlinewidth": 0,
             "ticks": ""
            },
            "colorscale": [
             [
              0,
              "#0d0887"
             ],
             [
              0.1111111111111111,
              "#46039f"
             ],
             [
              0.2222222222222222,
              "#7201a8"
             ],
             [
              0.3333333333333333,
              "#9c179e"
             ],
             [
              0.4444444444444444,
              "#bd3786"
             ],
             [
              0.5555555555555556,
              "#d8576b"
             ],
             [
              0.6666666666666666,
              "#ed7953"
             ],
             [
              0.7777777777777778,
              "#fb9f3a"
             ],
             [
              0.8888888888888888,
              "#fdca26"
             ],
             [
              1,
              "#f0f921"
             ]
            ],
            "type": "contour"
           }
          ],
          "contourcarpet": [
           {
            "colorbar": {
             "outlinewidth": 0,
             "ticks": ""
            },
            "type": "contourcarpet"
           }
          ],
          "heatmap": [
           {
            "colorbar": {
             "outlinewidth": 0,
             "ticks": ""
            },
            "colorscale": [
             [
              0,
              "#0d0887"
             ],
             [
              0.1111111111111111,
              "#46039f"
             ],
             [
              0.2222222222222222,
              "#7201a8"
             ],
             [
              0.3333333333333333,
              "#9c179e"
             ],
             [
              0.4444444444444444,
              "#bd3786"
             ],
             [
              0.5555555555555556,
              "#d8576b"
             ],
             [
              0.6666666666666666,
              "#ed7953"
             ],
             [
              0.7777777777777778,
              "#fb9f3a"
             ],
             [
              0.8888888888888888,
              "#fdca26"
             ],
             [
              1,
              "#f0f921"
             ]
            ],
            "type": "heatmap"
           }
          ],
          "heatmapgl": [
           {
            "colorbar": {
             "outlinewidth": 0,
             "ticks": ""
            },
            "colorscale": [
             [
              0,
              "#0d0887"
             ],
             [
              0.1111111111111111,
              "#46039f"
             ],
             [
              0.2222222222222222,
              "#7201a8"
             ],
             [
              0.3333333333333333,
              "#9c179e"
             ],
             [
              0.4444444444444444,
              "#bd3786"
             ],
             [
              0.5555555555555556,
              "#d8576b"
             ],
             [
              0.6666666666666666,
              "#ed7953"
             ],
             [
              0.7777777777777778,
              "#fb9f3a"
             ],
             [
              0.8888888888888888,
              "#fdca26"
             ],
             [
              1,
              "#f0f921"
             ]
            ],
            "type": "heatmapgl"
           }
          ],
          "histogram": [
           {
            "marker": {
             "pattern": {
              "fillmode": "overlay",
              "size": 10,
              "solidity": 0.2
             }
            },
            "type": "histogram"
           }
          ],
          "histogram2d": [
           {
            "colorbar": {
             "outlinewidth": 0,
             "ticks": ""
            },
            "colorscale": [
             [
              0,
              "#0d0887"
             ],
             [
              0.1111111111111111,
              "#46039f"
             ],
             [
              0.2222222222222222,
              "#7201a8"
             ],
             [
              0.3333333333333333,
              "#9c179e"
             ],
             [
              0.4444444444444444,
              "#bd3786"
             ],
             [
              0.5555555555555556,
              "#d8576b"
             ],
             [
              0.6666666666666666,
              "#ed7953"
             ],
             [
              0.7777777777777778,
              "#fb9f3a"
             ],
             [
              0.8888888888888888,
              "#fdca26"
             ],
             [
              1,
              "#f0f921"
             ]
            ],
            "type": "histogram2d"
           }
          ],
          "histogram2dcontour": [
           {
            "colorbar": {
             "outlinewidth": 0,
             "ticks": ""
            },
            "colorscale": [
             [
              0,
              "#0d0887"
             ],
             [
              0.1111111111111111,
              "#46039f"
             ],
             [
              0.2222222222222222,
              "#7201a8"
             ],
             [
              0.3333333333333333,
              "#9c179e"
             ],
             [
              0.4444444444444444,
              "#bd3786"
             ],
             [
              0.5555555555555556,
              "#d8576b"
             ],
             [
              0.6666666666666666,
              "#ed7953"
             ],
             [
              0.7777777777777778,
              "#fb9f3a"
             ],
             [
              0.8888888888888888,
              "#fdca26"
             ],
             [
              1,
              "#f0f921"
             ]
            ],
            "type": "histogram2dcontour"
           }
          ],
          "mesh3d": [
           {
            "colorbar": {
             "outlinewidth": 0,
             "ticks": ""
            },
            "type": "mesh3d"
           }
          ],
          "parcoords": [
           {
            "line": {
             "colorbar": {
              "outlinewidth": 0,
              "ticks": ""
             }
            },
            "type": "parcoords"
           }
          ],
          "pie": [
           {
            "automargin": true,
            "type": "pie"
           }
          ],
          "scatter": [
           {
            "fillpattern": {
             "fillmode": "overlay",
             "size": 10,
             "solidity": 0.2
            },
            "type": "scatter"
           }
          ],
          "scatter3d": [
           {
            "line": {
             "colorbar": {
              "outlinewidth": 0,
              "ticks": ""
             }
            },
            "marker": {
             "colorbar": {
              "outlinewidth": 0,
              "ticks": ""
             }
            },
            "type": "scatter3d"
           }
          ],
          "scattercarpet": [
           {
            "marker": {
             "colorbar": {
              "outlinewidth": 0,
              "ticks": ""
             }
            },
            "type": "scattercarpet"
           }
          ],
          "scattergeo": [
           {
            "marker": {
             "colorbar": {
              "outlinewidth": 0,
              "ticks": ""
             }
            },
            "type": "scattergeo"
           }
          ],
          "scattergl": [
           {
            "marker": {
             "colorbar": {
              "outlinewidth": 0,
              "ticks": ""
             }
            },
            "type": "scattergl"
           }
          ],
          "scattermapbox": [
           {
            "marker": {
             "colorbar": {
              "outlinewidth": 0,
              "ticks": ""
             }
            },
            "type": "scattermapbox"
           }
          ],
          "scatterpolar": [
           {
            "marker": {
             "colorbar": {
              "outlinewidth": 0,
              "ticks": ""
             }
            },
            "type": "scatterpolar"
           }
          ],
          "scatterpolargl": [
           {
            "marker": {
             "colorbar": {
              "outlinewidth": 0,
              "ticks": ""
             }
            },
            "type": "scatterpolargl"
           }
          ],
          "scatterternary": [
           {
            "marker": {
             "colorbar": {
              "outlinewidth": 0,
              "ticks": ""
             }
            },
            "type": "scatterternary"
           }
          ],
          "surface": [
           {
            "colorbar": {
             "outlinewidth": 0,
             "ticks": ""
            },
            "colorscale": [
             [
              0,
              "#0d0887"
             ],
             [
              0.1111111111111111,
              "#46039f"
             ],
             [
              0.2222222222222222,
              "#7201a8"
             ],
             [
              0.3333333333333333,
              "#9c179e"
             ],
             [
              0.4444444444444444,
              "#bd3786"
             ],
             [
              0.5555555555555556,
              "#d8576b"
             ],
             [
              0.6666666666666666,
              "#ed7953"
             ],
             [
              0.7777777777777778,
              "#fb9f3a"
             ],
             [
              0.8888888888888888,
              "#fdca26"
             ],
             [
              1,
              "#f0f921"
             ]
            ],
            "type": "surface"
           }
          ],
          "table": [
           {
            "cells": {
             "fill": {
              "color": "#EBF0F8"
             },
             "line": {
              "color": "white"
             }
            },
            "header": {
             "fill": {
              "color": "#C8D4E3"
             },
             "line": {
              "color": "white"
             }
            },
            "type": "table"
           }
          ]
         },
         "layout": {
          "annotationdefaults": {
           "arrowcolor": "#2a3f5f",
           "arrowhead": 0,
           "arrowwidth": 1
          },
          "autotypenumbers": "strict",
          "coloraxis": {
           "colorbar": {
            "outlinewidth": 0,
            "ticks": ""
           }
          },
          "colorscale": {
           "diverging": [
            [
             0,
             "#8e0152"
            ],
            [
             0.1,
             "#c51b7d"
            ],
            [
             0.2,
             "#de77ae"
            ],
            [
             0.3,
             "#f1b6da"
            ],
            [
             0.4,
             "#fde0ef"
            ],
            [
             0.5,
             "#f7f7f7"
            ],
            [
             0.6,
             "#e6f5d0"
            ],
            [
             0.7,
             "#b8e186"
            ],
            [
             0.8,
             "#7fbc41"
            ],
            [
             0.9,
             "#4d9221"
            ],
            [
             1,
             "#276419"
            ]
           ],
           "sequential": [
            [
             0,
             "#0d0887"
            ],
            [
             0.1111111111111111,
             "#46039f"
            ],
            [
             0.2222222222222222,
             "#7201a8"
            ],
            [
             0.3333333333333333,
             "#9c179e"
            ],
            [
             0.4444444444444444,
             "#bd3786"
            ],
            [
             0.5555555555555556,
             "#d8576b"
            ],
            [
             0.6666666666666666,
             "#ed7953"
            ],
            [
             0.7777777777777778,
             "#fb9f3a"
            ],
            [
             0.8888888888888888,
             "#fdca26"
            ],
            [
             1,
             "#f0f921"
            ]
           ],
           "sequentialminus": [
            [
             0,
             "#0d0887"
            ],
            [
             0.1111111111111111,
             "#46039f"
            ],
            [
             0.2222222222222222,
             "#7201a8"
            ],
            [
             0.3333333333333333,
             "#9c179e"
            ],
            [
             0.4444444444444444,
             "#bd3786"
            ],
            [
             0.5555555555555556,
             "#d8576b"
            ],
            [
             0.6666666666666666,
             "#ed7953"
            ],
            [
             0.7777777777777778,
             "#fb9f3a"
            ],
            [
             0.8888888888888888,
             "#fdca26"
            ],
            [
             1,
             "#f0f921"
            ]
           ]
          },
          "colorway": [
           "#636efa",
           "#EF553B",
           "#00cc96",
           "#ab63fa",
           "#FFA15A",
           "#19d3f3",
           "#FF6692",
           "#B6E880",
           "#FF97FF",
           "#FECB52"
          ],
          "font": {
           "color": "#2a3f5f"
          },
          "geo": {
           "bgcolor": "white",
           "lakecolor": "white",
           "landcolor": "#E5ECF6",
           "showlakes": true,
           "showland": true,
           "subunitcolor": "white"
          },
          "hoverlabel": {
           "align": "left"
          },
          "hovermode": "closest",
          "mapbox": {
           "style": "light"
          },
          "paper_bgcolor": "white",
          "plot_bgcolor": "#E5ECF6",
          "polar": {
           "angularaxis": {
            "gridcolor": "white",
            "linecolor": "white",
            "ticks": ""
           },
           "bgcolor": "#E5ECF6",
           "radialaxis": {
            "gridcolor": "white",
            "linecolor": "white",
            "ticks": ""
           }
          },
          "scene": {
           "xaxis": {
            "backgroundcolor": "#E5ECF6",
            "gridcolor": "white",
            "gridwidth": 2,
            "linecolor": "white",
            "showbackground": true,
            "ticks": "",
            "zerolinecolor": "white"
           },
           "yaxis": {
            "backgroundcolor": "#E5ECF6",
            "gridcolor": "white",
            "gridwidth": 2,
            "linecolor": "white",
            "showbackground": true,
            "ticks": "",
            "zerolinecolor": "white"
           },
           "zaxis": {
            "backgroundcolor": "#E5ECF6",
            "gridcolor": "white",
            "gridwidth": 2,
            "linecolor": "white",
            "showbackground": true,
            "ticks": "",
            "zerolinecolor": "white"
           }
          },
          "shapedefaults": {
           "line": {
            "color": "#2a3f5f"
           }
          },
          "ternary": {
           "aaxis": {
            "gridcolor": "white",
            "linecolor": "white",
            "ticks": ""
           },
           "baxis": {
            "gridcolor": "white",
            "linecolor": "white",
            "ticks": ""
           },
           "bgcolor": "#E5ECF6",
           "caxis": {
            "gridcolor": "white",
            "linecolor": "white",
            "ticks": ""
           }
          },
          "title": {
           "x": 0.05
          },
          "xaxis": {
           "automargin": true,
           "gridcolor": "white",
           "linecolor": "white",
           "ticks": "",
           "title": {
            "standoff": 15
           },
           "zerolinecolor": "white",
           "zerolinewidth": 2
          },
          "yaxis": {
           "automargin": true,
           "gridcolor": "white",
           "linecolor": "white",
           "ticks": "",
           "title": {
            "standoff": 15
           },
           "zerolinecolor": "white",
           "zerolinewidth": 2
          }
         }
        },
        "width": 1200,
        "xaxis": {
         "anchor": "y",
         "domain": [
          0,
          0.235
         ],
         "title": {
          "text": "tsne1"
         }
        },
        "xaxis2": {
         "anchor": "y2",
         "domain": [
          0.255,
          0.49
         ],
         "title": {
          "text": "tsne1"
         }
        },
        "xaxis3": {
         "anchor": "y3",
         "domain": [
          0.51,
          0.745
         ],
         "title": {
          "text": "tsne1"
         }
        },
        "xaxis4": {
         "anchor": "y4",
         "domain": [
          0.7649999999999999,
          0.9999999999999999
         ],
         "title": {
          "text": "tsne1"
         }
        },
        "xaxis5": {
         "anchor": "y5",
         "domain": [
          0,
          0.235
         ],
         "showticklabels": false
        },
        "xaxis6": {
         "anchor": "y6",
         "domain": [
          0.255,
          0.49
         ],
         "showticklabels": false
        },
        "xaxis7": {
         "anchor": "y7",
         "domain": [
          0.51,
          0.745
         ],
         "showticklabels": false
        },
        "xaxis8": {
         "anchor": "y8",
         "domain": [
          0.7649999999999999,
          0.9999999999999999
         ],
         "showticklabels": false
        },
        "yaxis": {
         "anchor": "x",
         "domain": [
          0,
          0.46499999999999997
         ],
         "title": {
          "text": "tsne2"
         }
        },
        "yaxis2": {
         "anchor": "x2",
         "domain": [
          0,
          0.46499999999999997
         ],
         "showticklabels": false
        },
        "yaxis3": {
         "anchor": "x3",
         "domain": [
          0,
          0.46499999999999997
         ],
         "showticklabels": false
        },
        "yaxis4": {
         "anchor": "x4",
         "domain": [
          0,
          0.46499999999999997
         ],
         "showticklabels": false
        },
        "yaxis5": {
         "anchor": "x5",
         "domain": [
          0.5349999999999999,
          0.9999999999999999
         ],
         "title": {
          "text": "tsne2"
         }
        },
        "yaxis6": {
         "anchor": "x6",
         "domain": [
          0.5349999999999999,
          0.9999999999999999
         ],
         "showticklabels": false
        },
        "yaxis7": {
         "anchor": "x7",
         "domain": [
          0.5349999999999999,
          0.9999999999999999
         ],
         "showticklabels": false
        },
        "yaxis8": {
         "anchor": "x8",
         "domain": [
          0.5349999999999999,
          0.9999999999999999
         ],
         "showticklabels": false
        }
       }
      },
      "text/html": [
       "<div>                            <div id=\"48ed02da-6c9f-4ce4-a023-2e78c4b8aae4\" class=\"plotly-graph-div\" style=\"height:600px; width:1200px;\"></div>            <script type=\"text/javascript\">                require([\"plotly\"], function(Plotly) {                    window.PLOTLYENV=window.PLOTLYENV || {};                                    if (document.getElementById(\"48ed02da-6c9f-4ce4-a023-2e78c4b8aae4\")) {                    Plotly.newPlot(                        \"48ed02da-6c9f-4ce4-a023-2e78c4b8aae4\",                        [{\"hovertemplate\":\"cancer_type=prostate<br>signature=all<br>tsne1=%{x}<br>tsne2=%{y}<extra></extra>\",\"legendgroup\":\"prostate\",\"marker\":{\"color\":\"#636efa\",\"symbol\":\"circle\"},\"mode\":\"markers\",\"name\":\"prostate\",\"orientation\":\"v\",\"showlegend\":true,\"x\":[-2.8298420906066895,1.8521966934204102,1.5361469984054565],\"xaxis\":\"x5\",\"y\":[1.4975316524505615,1.3301074504852295,-1.6163114309310913],\"yaxis\":\"y5\",\"type\":\"scatter\"},{\"hovertemplate\":\"cancer_type=prostate<br>signature=exp<br>tsne1=%{x}<br>tsne2=%{y}<extra></extra>\",\"legendgroup\":\"prostate\",\"marker\":{\"color\":\"#636efa\",\"symbol\":\"circle\"},\"mode\":\"markers\",\"name\":\"prostate\",\"orientation\":\"v\",\"showlegend\":false,\"x\":[1.0216788053512573,-0.8679674863815308,-1.4813750982284546],\"xaxis\":\"x6\",\"y\":[0.06851942092180252,1.2613904476165771,2.0898005962371826],\"yaxis\":\"y6\",\"type\":\"scatter\"},{\"hovertemplate\":\"cancer_type=prostate<br>signature=cnv<br>tsne1=%{x}<br>tsne2=%{y}<extra></extra>\",\"legendgroup\":\"prostate\",\"marker\":{\"color\":\"#636efa\",\"symbol\":\"circle\"},\"mode\":\"markers\",\"name\":\"prostate\",\"orientation\":\"v\",\"showlegend\":false,\"x\":[-1.2403265237808228,-2.076369047164917,-3.3749563694000244],\"xaxis\":\"x7\",\"y\":[-0.6392883658409119,0.20460425317287445,-0.050749264657497406],\"yaxis\":\"y7\",\"type\":\"scatter\"},{\"hovertemplate\":\"cancer_type=prostate<br>signature=snv<br>tsne1=%{x}<br>tsne2=%{y}<extra></extra>\",\"legendgroup\":\"prostate\",\"marker\":{\"color\":\"#636efa\",\"symbol\":\"circle\"},\"mode\":\"markers\",\"name\":\"prostate\",\"orientation\":\"v\",\"showlegend\":false,\"x\":[2.624387502670288,-0.3082384765148163,1.0532798767089844],\"xaxis\":\"x8\",\"y\":[2.641961097717285,2.9262917041778564,1.9441386461257935],\"yaxis\":\"y8\",\"type\":\"scatter\"},{\"hovertemplate\":\"cancer_type=prostate<br>signature=lof<br>tsne1=%{x}<br>tsne2=%{y}<extra></extra>\",\"legendgroup\":\"prostate\",\"marker\":{\"color\":\"#636efa\",\"symbol\":\"circle\"},\"mode\":\"markers\",\"name\":\"prostate\",\"orientation\":\"v\",\"showlegend\":false,\"x\":[-1.7498077154159546,-0.02114231139421463,0.9189161062240601],\"xaxis\":\"x\",\"y\":[2.27408766746521,3.7699711322784424,4.1863203048706055],\"yaxis\":\"y\",\"type\":\"scatter\"},{\"hovertemplate\":\"cancer_type=prostate<br>signature=ddr<br>tsne1=%{x}<br>tsne2=%{y}<extra></extra>\",\"legendgroup\":\"prostate\",\"marker\":{\"color\":\"#636efa\",\"symbol\":\"circle\"},\"mode\":\"markers\",\"name\":\"prostate\",\"orientation\":\"v\",\"showlegend\":false,\"x\":[-1.0113487243652344,0.3139065206050873,-0.11121562868356705],\"xaxis\":\"x2\",\"y\":[-1.740041971206665,-1.8923275470733643,4.276006698608398],\"yaxis\":\"y2\",\"type\":\"scatter\"},{\"hovertemplate\":\"cancer_type=prostate<br>signature=coh_pat<br>tsne1=%{x}<br>tsne2=%{y}<extra></extra>\",\"legendgroup\":\"prostate\",\"marker\":{\"color\":\"#636efa\",\"symbol\":\"circle\"},\"mode\":\"markers\",\"name\":\"prostate\",\"orientation\":\"v\",\"showlegend\":false,\"x\":[-1.3976292610168457,2.2613682746887207,2.6894102096557617],\"xaxis\":\"x3\",\"y\":[2.4632716178894043,3.5073914527893066,1.9596012830734253],\"yaxis\":\"y3\",\"type\":\"scatter\"},{\"hovertemplate\":\"cancer_type=prostate<br>signature=lof_pat<br>tsne1=%{x}<br>tsne2=%{y}<extra></extra>\",\"legendgroup\":\"prostate\",\"marker\":{\"color\":\"#636efa\",\"symbol\":\"circle\"},\"mode\":\"markers\",\"name\":\"prostate\",\"orientation\":\"v\",\"showlegend\":false,\"x\":[0.6577968001365662,0.6272211670875549,1.031736969947815],\"xaxis\":\"x4\",\"y\":[-7.860036373138428,-10.840259552001953,-4.059778213500977],\"yaxis\":\"y4\",\"type\":\"scatter\"},{\"hovertemplate\":\"cancer_type=bladder<br>signature=all<br>tsne1=%{x}<br>tsne2=%{y}<extra></extra>\",\"legendgroup\":\"bladder\",\"marker\":{\"color\":\"#EF553B\",\"symbol\":\"circle\"},\"mode\":\"markers\",\"name\":\"bladder\",\"orientation\":\"v\",\"showlegend\":true,\"x\":[0.0014841194497421384,-0.1832498461008072,0.07522093504667282,-0.2569139003753662,-0.01395145058631897],\"xaxis\":\"x5\",\"y\":[-2.0077857971191406,0.049128081649541855,-0.2375144362449646,0.2928873300552368,-0.5761716961860657],\"yaxis\":\"y5\",\"type\":\"scatter\"},{\"hovertemplate\":\"cancer_type=bladder<br>signature=exp<br>tsne1=%{x}<br>tsne2=%{y}<extra></extra>\",\"legendgroup\":\"bladder\",\"marker\":{\"color\":\"#EF553B\",\"symbol\":\"circle\"},\"mode\":\"markers\",\"name\":\"bladder\",\"orientation\":\"v\",\"showlegend\":false,\"x\":[-0.9660962820053101,-1.377327799797058,-1.9750758409500122,-1.3803168535232544,-1.405098557472229],\"xaxis\":\"x6\",\"y\":[1.5769122838974,0.8442384004592896,1.3948032855987549,1.0429521799087524,0.7397114634513855],\"yaxis\":\"y6\",\"type\":\"scatter\"},{\"hovertemplate\":\"cancer_type=bladder<br>signature=cnv<br>tsne1=%{x}<br>tsne2=%{y}<extra></extra>\",\"legendgroup\":\"bladder\",\"marker\":{\"color\":\"#EF553B\",\"symbol\":\"circle\"},\"mode\":\"markers\",\"name\":\"bladder\",\"orientation\":\"v\",\"showlegend\":false,\"x\":[-1.2756688594818115,-1.4984428882598877,-0.9774916768074036,-1.6826454401016235,-0.8422057628631592],\"xaxis\":\"x7\",\"y\":[2.2264485359191895,0.700069785118103,1.240414023399353,-0.23818030953407288,0.98546302318573],\"yaxis\":\"y7\",\"type\":\"scatter\"},{\"hovertemplate\":\"cancer_type=bladder<br>signature=snv<br>tsne1=%{x}<br>tsne2=%{y}<extra></extra>\",\"legendgroup\":\"bladder\",\"marker\":{\"color\":\"#EF553B\",\"symbol\":\"circle\"},\"mode\":\"markers\",\"name\":\"bladder\",\"orientation\":\"v\",\"showlegend\":false,\"x\":[2.215576171875,0.17437238991260529,1.031296730041504,0.05830093100667,-0.01698247715830803],\"xaxis\":\"x8\",\"y\":[1.112123727798462,1.991016149520874,1.9557024240493774,1.9936736822128296,0.7867844104766846],\"yaxis\":\"y8\",\"type\":\"scatter\"},{\"hovertemplate\":\"cancer_type=bladder<br>signature=lof<br>tsne1=%{x}<br>tsne2=%{y}<extra></extra>\",\"legendgroup\":\"bladder\",\"marker\":{\"color\":\"#EF553B\",\"symbol\":\"circle\"},\"mode\":\"markers\",\"name\":\"bladder\",\"orientation\":\"v\",\"showlegend\":false,\"x\":[-2.476822853088379,-0.40892294049263,-0.3297921121120453,-0.32827410101890564,0.7701404690742493],\"xaxis\":\"x\",\"y\":[4.07204532623291,2.8497798442840576,3.357355833053589,2.199436664581299,2.9555864334106445],\"yaxis\":\"y\",\"type\":\"scatter\"},{\"hovertemplate\":\"cancer_type=bladder<br>signature=ddr<br>tsne1=%{x}<br>tsne2=%{y}<extra></extra>\",\"legendgroup\":\"bladder\",\"marker\":{\"color\":\"#EF553B\",\"symbol\":\"circle\"},\"mode\":\"markers\",\"name\":\"bladder\",\"orientation\":\"v\",\"showlegend\":false,\"x\":[3.0312578678131104,2.060358762741089,-1.8901981115341187,2.148857593536377,3.2391746044158936],\"xaxis\":\"x2\",\"y\":[2.2662160396575928,1.4042688608169556,1.0472590923309326,1.4204314947128296,1.5331120491027832],\"yaxis\":\"y2\",\"type\":\"scatter\"},{\"hovertemplate\":\"cancer_type=bladder<br>signature=coh_pat<br>tsne1=%{x}<br>tsne2=%{y}<extra></extra>\",\"legendgroup\":\"bladder\",\"marker\":{\"color\":\"#EF553B\",\"symbol\":\"circle\"},\"mode\":\"markers\",\"name\":\"bladder\",\"orientation\":\"v\",\"showlegend\":false,\"x\":[2.9764552116394043,2.5980827808380127,3.095524549484253,2.4997971057891846,1.3862550258636475],\"xaxis\":\"x3\",\"y\":[4.041059970855713,-1.6907269954681396,0.022431204095482826,-1.0414661169052124,-0.45853501558303833],\"yaxis\":\"y3\",\"type\":\"scatter\"},{\"hovertemplate\":\"cancer_type=bladder<br>signature=lof_pat<br>tsne1=%{x}<br>tsne2=%{y}<extra></extra>\",\"legendgroup\":\"bladder\",\"marker\":{\"color\":\"#EF553B\",\"symbol\":\"circle\"},\"mode\":\"markers\",\"name\":\"bladder\",\"orientation\":\"v\",\"showlegend\":false,\"x\":[1.649703860282898,1.6421507596969604,0.23961496353149414,1.7063422203063965,3.7485904693603516],\"xaxis\":\"x4\",\"y\":[-4.6789021492004395,-9.378748893737793,-9.113658905029297,-8.477452278137207,-7.131526470184326],\"yaxis\":\"y4\",\"type\":\"scatter\"},{\"hovertemplate\":\"cancer_type=kidney<br>signature=all<br>tsne1=%{x}<br>tsne2=%{y}<extra></extra>\",\"legendgroup\":\"kidney\",\"marker\":{\"color\":\"#00cc96\",\"symbol\":\"circle\"},\"mode\":\"markers\",\"name\":\"kidney\",\"orientation\":\"v\",\"showlegend\":true,\"x\":[0.05924491584300995,0.29100996255874634,0.7193372845649719,-1.3416810035705566,-0.09510257840156555],\"xaxis\":\"x5\",\"y\":[-0.2299298644065857,0.880831241607666,-0.25928422808647156,0.8472264409065247,0.26445844769477844],\"yaxis\":\"y5\",\"type\":\"scatter\"},{\"hovertemplate\":\"cancer_type=kidney<br>signature=exp<br>tsne1=%{x}<br>tsne2=%{y}<extra></extra>\",\"legendgroup\":\"kidney\",\"marker\":{\"color\":\"#00cc96\",\"symbol\":\"circle\"},\"mode\":\"markers\",\"name\":\"kidney\",\"orientation\":\"v\",\"showlegend\":false,\"x\":[-3.3707504272460938,-3.01263165473938,-2.833908796310425,-0.42433854937553406,-1.9873594045639038],\"xaxis\":\"x6\",\"y\":[2.504983901977539,2.984556198120117,2.5806870460510254,-1.0856267213821411,1.7849656343460083],\"yaxis\":\"y6\",\"type\":\"scatter\"},{\"hovertemplate\":\"cancer_type=kidney<br>signature=cnv<br>tsne1=%{x}<br>tsne2=%{y}<extra></extra>\",\"legendgroup\":\"kidney\",\"marker\":{\"color\":\"#00cc96\",\"symbol\":\"circle\"},\"mode\":\"markers\",\"name\":\"kidney\",\"orientation\":\"v\",\"showlegend\":false,\"x\":[-1.5470421314239502,-0.7312615513801575,-2.619642972946167,-1.8936538696289062,-0.9746313691139221],\"xaxis\":\"x7\",\"y\":[0.9003186821937561,-1.5846741199493408,-0.37115511298179626,-0.49438127875328064,-0.660626232624054],\"yaxis\":\"y7\",\"type\":\"scatter\"},{\"hovertemplate\":\"cancer_type=kidney<br>signature=snv<br>tsne1=%{x}<br>tsne2=%{y}<extra></extra>\",\"legendgroup\":\"kidney\",\"marker\":{\"color\":\"#00cc96\",\"symbol\":\"circle\"},\"mode\":\"markers\",\"name\":\"kidney\",\"orientation\":\"v\",\"showlegend\":false,\"x\":[1.761377215385437,1.0556429624557495,0.511493444442749,1.4560801982879639,1.0388824939727783],\"xaxis\":\"x8\",\"y\":[2.0279040336608887,1.952513337135315,1.067765235900879,1.2168952226638794,1.9656754732131958],\"yaxis\":\"y8\",\"type\":\"scatter\"},{\"hovertemplate\":\"cancer_type=kidney<br>signature=lof<br>tsne1=%{x}<br>tsne2=%{y}<extra></extra>\",\"legendgroup\":\"kidney\",\"marker\":{\"color\":\"#00cc96\",\"symbol\":\"circle\"},\"mode\":\"markers\",\"name\":\"kidney\",\"orientation\":\"v\",\"showlegend\":false,\"x\":[-0.10483454912900925,-0.5623875856399536,-1.6007808446884155,-0.32643982768058777,-0.5814957022666931],\"xaxis\":\"x\",\"y\":[3.1355457305908203,2.4957921504974365,1.5578023195266724,1.6029962301254272,2.4957644939422607],\"yaxis\":\"y\",\"type\":\"scatter\"},{\"hovertemplate\":\"cancer_type=kidney<br>signature=ddr<br>tsne1=%{x}<br>tsne2=%{y}<extra></extra>\",\"legendgroup\":\"kidney\",\"marker\":{\"color\":\"#00cc96\",\"symbol\":\"circle\"},\"mode\":\"markers\",\"name\":\"kidney\",\"orientation\":\"v\",\"showlegend\":false,\"x\":[2.4958112239837646,1.9693909883499146,0.3746936321258545,1.1300041675567627,-0.6701245903968811],\"xaxis\":\"x2\",\"y\":[4.903709411621094,3.001399278640747,1.547932744026184,-0.336370587348938,1.131453514099121],\"yaxis\":\"y2\",\"type\":\"scatter\"},{\"hovertemplate\":\"cancer_type=kidney<br>signature=coh_pat<br>tsne1=%{x}<br>tsne2=%{y}<extra></extra>\",\"legendgroup\":\"kidney\",\"marker\":{\"color\":\"#00cc96\",\"symbol\":\"circle\"},\"mode\":\"markers\",\"name\":\"kidney\",\"orientation\":\"v\",\"showlegend\":false,\"x\":[4.598404884338379,4.24760103225708,4.043618679046631,-2.560214042663574,3.6206371784210205],\"xaxis\":\"x3\",\"y\":[0.9094348549842834,2.0679469108581543,1.6508454084396362,-2.110271453857422,0.5896526575088501],\"yaxis\":\"y3\",\"type\":\"scatter\"},{\"hovertemplate\":\"cancer_type=kidney<br>signature=lof_pat<br>tsne1=%{x}<br>tsne2=%{y}<extra></extra>\",\"legendgroup\":\"kidney\",\"marker\":{\"color\":\"#00cc96\",\"symbol\":\"circle\"},\"mode\":\"markers\",\"name\":\"kidney\",\"orientation\":\"v\",\"showlegend\":false,\"x\":[1.7352761030197144,1.6716629266738892,3.148482084274292,3.516098737716675,2.2397985458374023],\"xaxis\":\"x4\",\"y\":[-10.275169372558594,-9.16345500946045,-7.2703142166137695,-8.69522476196289,-9.012434005737305],\"yaxis\":\"y4\",\"type\":\"scatter\"},{\"hovertemplate\":\"cancer_type=sarcoma<br>signature=all<br>tsne1=%{x}<br>tsne2=%{y}<extra></extra>\",\"legendgroup\":\"sarcoma\",\"marker\":{\"color\":\"#ab63fa\",\"symbol\":\"circle\"},\"mode\":\"markers\",\"name\":\"sarcoma\",\"orientation\":\"v\",\"showlegend\":true,\"x\":[-0.5546467304229736,-1.0863724946975708,-0.5692156553268433,-0.18283851444721222,-0.8323485851287842,-1.4067879915237427,-1.0913387537002563,-1.8227791786193848,-0.7236708402633667,-0.08736076951026917,-1.14689040184021,-0.631963312625885],\"xaxis\":\"x5\",\"y\":[0.3854164779186249,0.8300286531448364,-1.1029316186904907,0.054715752601623535,2.3066585063934326,1.3475298881530762,1.2669758796691895,1.9174280166625977,1.376352310180664,-0.9332325458526611,1.3093883991241455,-0.698137640953064],\"yaxis\":\"y5\",\"type\":\"scatter\"},{\"hovertemplate\":\"cancer_type=sarcoma<br>signature=exp<br>tsne1=%{x}<br>tsne2=%{y}<extra></extra>\",\"legendgroup\":\"sarcoma\",\"marker\":{\"color\":\"#ab63fa\",\"symbol\":\"circle\"},\"mode\":\"markers\",\"name\":\"sarcoma\",\"orientation\":\"v\",\"showlegend\":false,\"x\":[-1.8874175548553467,0.7853670716285706,-2.953284740447998,-2.7844717502593994,-2.43393874168396,0.8655787706375122,-2.829869270324707,1.205909013748169,-3.0291500091552734,-2.2585787773132324,-2.883852958679199,-1.9176175594329834],\"xaxis\":\"x6\",\"y\":[-0.7017102241516113,-1.246780276298523,0.9684202075004578,2.0922718048095703,0.11541779339313507,-1.3004908561706543,-1.011523962020874,-1.4623380899429321,0.12262088805437088,1.3036025762557983,-1.1064749956130981,0.4597427248954773],\"yaxis\":\"y6\",\"type\":\"scatter\"},{\"hovertemplate\":\"cancer_type=sarcoma<br>signature=cnv<br>tsne1=%{x}<br>tsne2=%{y}<extra></extra>\",\"legendgroup\":\"sarcoma\",\"marker\":{\"color\":\"#ab63fa\",\"symbol\":\"circle\"},\"mode\":\"markers\",\"name\":\"sarcoma\",\"orientation\":\"v\",\"showlegend\":false,\"x\":[-1.5989712476730347,-1.9748356342315674,0.2078087329864502,-1.5133168697357178,-3.204651117324829,-0.9987782835960388,-0.2011815309524536,-1.1936579942703247,-2.0465524196624756,-2.535127639770508,-0.2511224150657654,-0.6152963042259216],\"xaxis\":\"x7\",\"y\":[0.4346463978290558,0.60426926612854,1.2986220121383667,0.493339478969574,-0.6444421410560608,-1.4133358001708984,-1.2069485187530518,-1.5410064458847046,-1.2918823957443237,1.212085485458374,-1.1026691198349,1.596620798110962],\"yaxis\":\"y7\",\"type\":\"scatter\"},{\"hovertemplate\":\"cancer_type=sarcoma<br>signature=snv<br>tsne1=%{x}<br>tsne2=%{y}<extra></extra>\",\"legendgroup\":\"sarcoma\",\"marker\":{\"color\":\"#ab63fa\",\"symbol\":\"circle\"},\"mode\":\"markers\",\"name\":\"sarcoma\",\"orientation\":\"v\",\"showlegend\":false,\"x\":[1.890784740447998,1.0189708471298218,1.1164804697036743,1.0003266334533691,0.9496583938598633,0.5749331116676331,1.709518551826477,1.0666420459747314,0.6586023569107056,1.1042248010635376,1.9930696487426758,0.8797900080680847],\"xaxis\":\"x8\",\"y\":[2.3956210613250732,1.9751577377319336,0.6944185495376587,1.9187384843826294,2.072854518890381,1.5594414472579956,1.7369967699050903,1.9713035821914673,2.33046555519104,1.9409760236740112,1.6310821771621704,2.1066524982452393],\"yaxis\":\"y8\",\"type\":\"scatter\"},{\"hovertemplate\":\"cancer_type=sarcoma<br>signature=lof<br>tsne1=%{x}<br>tsne2=%{y}<extra></extra>\",\"legendgroup\":\"sarcoma\",\"marker\":{\"color\":\"#ab63fa\",\"symbol\":\"circle\"},\"mode\":\"markers\",\"name\":\"sarcoma\",\"orientation\":\"v\",\"showlegend\":false,\"x\":[-0.47190314531326294,0.11166844516992569,-1.2209885120391846,-0.5458956360816956,-2.5330216884613037,0.13732321560382843,-0.6534536480903625,-2.292840003967285,-0.5329803228378296,1.4089739322662354,-0.7977113127708435,-2.4817941188812256],\"xaxis\":\"x\",\"y\":[2.0612969398498535,1.3763550519943237,3.736997604370117,2.486748695373535,1.8161416053771973,2.507199764251709,2.600536346435547,1.3681855201721191,1.7123045921325684,2.609121084213257,2.6841554641723633,2.477288246154785],\"yaxis\":\"y\",\"type\":\"scatter\"},{\"hovertemplate\":\"cancer_type=sarcoma<br>signature=ddr<br>tsne1=%{x}<br>tsne2=%{y}<extra></extra>\",\"legendgroup\":\"sarcoma\",\"marker\":{\"color\":\"#ab63fa\",\"symbol\":\"circle\"},\"mode\":\"markers\",\"name\":\"sarcoma\",\"orientation\":\"v\",\"showlegend\":false,\"x\":[-0.0348435640335083,0.654879093170166,-0.48207101225852966,-0.5262998342514038,-1.2672574520111084,0.43737927079200745,1.1464918851852417,-0.29303765296936035,-1.5179489850997925,-0.29402032494544983,1.2802796363830566,0.59333735704422],\"xaxis\":\"x2\",\"y\":[1.038219690322876,0.7550327181816101,3.79585862159729,0.9247812032699585,4.301943302154541,1.0644217729568481,1.9012178182601929,2.5385265350341797,4.697695732116699,2.079500198364258,2.304398775100708,4.376997947692871],\"yaxis\":\"y2\",\"type\":\"scatter\"},{\"hovertemplate\":\"cancer_type=sarcoma<br>signature=coh_pat<br>tsne1=%{x}<br>tsne2=%{y}<extra></extra>\",\"legendgroup\":\"sarcoma\",\"marker\":{\"color\":\"#ab63fa\",\"symbol\":\"circle\"},\"mode\":\"markers\",\"name\":\"sarcoma\",\"orientation\":\"v\",\"showlegend\":false,\"x\":[-0.39752599596977234,-1.3836251497268677,2.797123908996582,4.405925273895264,0.9214048981666565,-1.6636663675308228,0.5157622694969177,-2.886906385421753,1.1993619203567505,2.7120532989501953,-0.7979063391685486,1.6968427896499634],\"xaxis\":\"x3\",\"y\":[-0.5069562196731567,-1.856900691986084,-1.0278431177139282,0.8574243187904358,-1.4553028345108032,-1.7619813680648804,-1.9522651433944702,0.5482244491577148,-1.3837313652038574,-0.4614454209804535,-1.9075279235839844,-1.0192439556121826],\"yaxis\":\"y3\",\"type\":\"scatter\"},{\"hovertemplate\":\"cancer_type=sarcoma<br>signature=lof_pat<br>tsne1=%{x}<br>tsne2=%{y}<extra></extra>\",\"legendgroup\":\"sarcoma\",\"marker\":{\"color\":\"#ab63fa\",\"symbol\":\"circle\"},\"mode\":\"markers\",\"name\":\"sarcoma\",\"orientation\":\"v\",\"showlegend\":false,\"x\":[1.3690346479415894,0.7347975373268127,-0.36700934171676636,1.4283009767532349,2.93110990524292,1.0669305324554443,2.1107726097106934,2.233771562576294,1.8457696437835693,0.4066459536552429,2.4961953163146973,2.39410400390625],\"xaxis\":\"x4\",\"y\":[-9.240819931030273,-9.946025848388672,-9.067312240600586,-9.103362083435059,-6.63891077041626,-9.809786796569824,-8.88943862915039,-5.3749847412109375,-8.473191261291504,-7.186285972595215,-8.772363662719727,-7.094290256500244],\"yaxis\":\"y4\",\"type\":\"scatter\"},{\"hovertemplate\":\"cancer_type=ovary<br>signature=all<br>tsne1=%{x}<br>tsne2=%{y}<extra></extra>\",\"legendgroup\":\"ovary\",\"marker\":{\"color\":\"#FFA15A\",\"symbol\":\"circle\"},\"mode\":\"markers\",\"name\":\"ovary\",\"orientation\":\"v\",\"showlegend\":true,\"x\":[-0.9228426814079285,2.151611089706421,1.1944060325622559,1.9390711784362793,0.8864070177078247,-0.11544444411993027],\"xaxis\":\"x5\",\"y\":[0.5818793177604675,-0.35541605949401855,1.8112308979034424,0.4269372820854187,-2.112945318222046,1.7812546491622925],\"yaxis\":\"y5\",\"type\":\"scatter\"},{\"hovertemplate\":\"cancer_type=ovary<br>signature=exp<br>tsne1=%{x}<br>tsne2=%{y}<extra></extra>\",\"legendgroup\":\"ovary\",\"marker\":{\"color\":\"#FFA15A\",\"symbol\":\"circle\"},\"mode\":\"markers\",\"name\":\"ovary\",\"orientation\":\"v\",\"showlegend\":false,\"x\":[0.1649385690689087,-1.7613612413406372,-0.3293241262435913,-0.9644672274589539,-1.0199288129806519,-1.1936441659927368],\"xaxis\":\"x6\",\"y\":[-0.3948783874511719,3.314824104309082,1.4316718578338623,3.7296371459960938,3.0091235637664795,1.9726083278656006],\"yaxis\":\"y6\",\"type\":\"scatter\"},{\"hovertemplate\":\"cancer_type=ovary<br>signature=cnv<br>tsne1=%{x}<br>tsne2=%{y}<extra></extra>\",\"legendgroup\":\"ovary\",\"marker\":{\"color\":\"#FFA15A\",\"symbol\":\"circle\"},\"mode\":\"markers\",\"name\":\"ovary\",\"orientation\":\"v\",\"showlegend\":false,\"x\":[-1.5534077882766724,-3.0513222217559814,-1.5103994607925415,-3.4226183891296387,-0.7309725880622864,-2.2437949180603027],\"xaxis\":\"x7\",\"y\":[0.004918730352073908,1.781795859336853,0.48829182982444763,0.4396233856678009,2.310096263885498,0.6206028461456299],\"yaxis\":\"y7\",\"type\":\"scatter\"},{\"hovertemplate\":\"cancer_type=ovary<br>signature=snv<br>tsne1=%{x}<br>tsne2=%{y}<extra></extra>\",\"legendgroup\":\"ovary\",\"marker\":{\"color\":\"#FFA15A\",\"symbol\":\"circle\"},\"mode\":\"markers\",\"name\":\"ovary\",\"orientation\":\"v\",\"showlegend\":false,\"x\":[1.6873934268951416,0.4950181245803833,-0.48270249366760254,1.5712862014770508,1.01875638961792,2.718482494354248],\"xaxis\":\"x8\",\"y\":[3.3354315757751465,3.055023431777954,1.5556672811508179,2.4395225048065186,2.6042962074279785,1.7113945484161377],\"yaxis\":\"y8\",\"type\":\"scatter\"},{\"hovertemplate\":\"cancer_type=ovary<br>signature=lof<br>tsne1=%{x}<br>tsne2=%{y}<extra></extra>\",\"legendgroup\":\"ovary\",\"marker\":{\"color\":\"#FFA15A\",\"symbol\":\"circle\"},\"mode\":\"markers\",\"name\":\"ovary\",\"orientation\":\"v\",\"showlegend\":false,\"x\":[-0.4582498073577881,1.369793176651001,0.505427360534668,-1.6897410154342651,1.4196534156799316,-0.4677564203739166],\"xaxis\":\"x\",\"y\":[2.077301263809204,4.163161754608154,1.690266489982605,1.2002679109573364,3.5447726249694824,0.5447403192520142],\"yaxis\":\"y\",\"type\":\"scatter\"},{\"hovertemplate\":\"cancer_type=ovary<br>signature=ddr<br>tsne1=%{x}<br>tsne2=%{y}<extra></extra>\",\"legendgroup\":\"ovary\",\"marker\":{\"color\":\"#FFA15A\",\"symbol\":\"circle\"},\"mode\":\"markers\",\"name\":\"ovary\",\"orientation\":\"v\",\"showlegend\":false,\"x\":[-0.4592348039150238,0.29589974880218506,-1.0571943521499634,1.7644459009170532,0.004012660123407841,-1.514735221862793],\"xaxis\":\"x2\",\"y\":[0.044116631150245667,4.175454139709473,-1.7353876829147339,5.239742279052734,5.294581413269043,-0.2425256073474884],\"yaxis\":\"y2\",\"type\":\"scatter\"},{\"hovertemplate\":\"cancer_type=ovary<br>signature=coh_pat<br>tsne1=%{x}<br>tsne2=%{y}<extra></extra>\",\"legendgroup\":\"ovary\",\"marker\":{\"color\":\"#FFA15A\",\"symbol\":\"circle\"},\"mode\":\"markers\",\"name\":\"ovary\",\"orientation\":\"v\",\"showlegend\":false,\"x\":[-0.6637825965881348,3.377549648284912,0.578910768032074,0.8315118551254272,0.9166698455810547,2.7728569507598877],\"xaxis\":\"x3\",\"y\":[-0.453598290681839,1.8480128049850464,2.044538974761963,2.5979809761047363,2.4440224170684814,3.5842034816741943],\"yaxis\":\"y3\",\"type\":\"scatter\"},{\"hovertemplate\":\"cancer_type=ovary<br>signature=lof_pat<br>tsne1=%{x}<br>tsne2=%{y}<extra></extra>\",\"legendgroup\":\"ovary\",\"marker\":{\"color\":\"#FFA15A\",\"symbol\":\"circle\"},\"mode\":\"markers\",\"name\":\"ovary\",\"orientation\":\"v\",\"showlegend\":false,\"x\":[1.5256874561309814,1.244935154914856,2.783679485321045,0.499925434589386,1.2242735624313354,3.4211835861206055],\"xaxis\":\"x4\",\"y\":[-9.17586898803711,-4.198731899261475,-10.675731658935547,-4.440341472625732,-4.220484256744385,-6.953482151031494],\"yaxis\":\"y4\",\"type\":\"scatter\"},{\"hovertemplate\":\"cancer_type=melanoma<br>signature=all<br>tsne1=%{x}<br>tsne2=%{y}<extra></extra>\",\"legendgroup\":\"melanoma\",\"marker\":{\"color\":\"#19d3f3\",\"symbol\":\"circle\"},\"mode\":\"markers\",\"name\":\"melanoma\",\"orientation\":\"v\",\"showlegend\":true,\"x\":[0.9886105060577393,-2.3397603034973145,-1.1917372941970825,-1.1353559494018555],\"xaxis\":\"x5\",\"y\":[-1.1683604717254639,-2.7368552684783936,-1.389585256576538,-1.3468897342681885],\"yaxis\":\"y5\",\"type\":\"scatter\"},{\"hovertemplate\":\"cancer_type=melanoma<br>signature=exp<br>tsne1=%{x}<br>tsne2=%{y}<extra></extra>\",\"legendgroup\":\"melanoma\",\"marker\":{\"color\":\"#19d3f3\",\"symbol\":\"circle\"},\"mode\":\"markers\",\"name\":\"melanoma\",\"orientation\":\"v\",\"showlegend\":false,\"x\":[-1.1984280347824097,-0.08939581364393234,-4.390261173248291,-4.420995712280273],\"xaxis\":\"x6\",\"y\":[0.0400523841381073,0.6372211575508118,0.5189960598945618,0.5146124362945557],\"yaxis\":\"y6\",\"type\":\"scatter\"},{\"hovertemplate\":\"cancer_type=melanoma<br>signature=cnv<br>tsne1=%{x}<br>tsne2=%{y}<extra></extra>\",\"legendgroup\":\"melanoma\",\"marker\":{\"color\":\"#19d3f3\",\"symbol\":\"circle\"},\"mode\":\"markers\",\"name\":\"melanoma\",\"orientation\":\"v\",\"showlegend\":false,\"x\":[-2.059427499771118,-1.4973129034042358,0.014995673671364784,-0.39791369438171387],\"xaxis\":\"x7\",\"y\":[1.6126948595046997,0.502983808517456,0.29455193877220154,0.44739383459091187],\"yaxis\":\"y7\",\"type\":\"scatter\"},{\"hovertemplate\":\"cancer_type=melanoma<br>signature=snv<br>tsne1=%{x}<br>tsne2=%{y}<extra></extra>\",\"legendgroup\":\"melanoma\",\"marker\":{\"color\":\"#19d3f3\",\"symbol\":\"circle\"},\"mode\":\"markers\",\"name\":\"melanoma\",\"orientation\":\"v\",\"showlegend\":false,\"x\":[-0.15992982685565948,2.673715114593506,1.5844558477401733,1.3206963539123535],\"xaxis\":\"x8\",\"y\":[2.2139883041381836,-0.17924021184444427,0.5926294326782227,3.5399065017700195],\"yaxis\":\"y8\",\"type\":\"scatter\"},{\"hovertemplate\":\"cancer_type=melanoma<br>signature=lof<br>tsne1=%{x}<br>tsne2=%{y}<extra></extra>\",\"legendgroup\":\"melanoma\",\"marker\":{\"color\":\"#19d3f3\",\"symbol\":\"circle\"},\"mode\":\"markers\",\"name\":\"melanoma\",\"orientation\":\"v\",\"showlegend\":false,\"x\":[-1.1652915477752686,0.6515416502952576,-1.8442414999008179,-1.7727311849594116],\"xaxis\":\"x\",\"y\":[4.300096035003662,-0.24077823758125305,3.268104314804077,3.234637975692749],\"yaxis\":\"y\",\"type\":\"scatter\"},{\"hovertemplate\":\"cancer_type=melanoma<br>signature=ddr<br>tsne1=%{x}<br>tsne2=%{y}<extra></extra>\",\"legendgroup\":\"melanoma\",\"marker\":{\"color\":\"#19d3f3\",\"symbol\":\"circle\"},\"mode\":\"markers\",\"name\":\"melanoma\",\"orientation\":\"v\",\"showlegend\":false,\"x\":[2.9322867393493652,0.8347640633583069,2.704756021499634,2.971508026123047],\"xaxis\":\"x2\",\"y\":[-1.1542822122573853,-3.310276508331299,-0.8492399454116821,-1.2233209609985352],\"yaxis\":\"y2\",\"type\":\"scatter\"},{\"hovertemplate\":\"cancer_type=melanoma<br>signature=coh_pat<br>tsne1=%{x}<br>tsne2=%{y}<extra></extra>\",\"legendgroup\":\"melanoma\",\"marker\":{\"color\":\"#19d3f3\",\"symbol\":\"circle\"},\"mode\":\"markers\",\"name\":\"melanoma\",\"orientation\":\"v\",\"showlegend\":false,\"x\":[0.2570422887802124,-0.6491668820381165,-1.0397416353225708,-1.0278213024139404],\"xaxis\":\"x3\",\"y\":[-0.9440563917160034,3.8261115550994873,0.04512525349855423,0.8993889689445496],\"yaxis\":\"y3\",\"type\":\"scatter\"},{\"hovertemplate\":\"cancer_type=melanoma<br>signature=lof_pat<br>tsne1=%{x}<br>tsne2=%{y}<extra></extra>\",\"legendgroup\":\"melanoma\",\"marker\":{\"color\":\"#19d3f3\",\"symbol\":\"circle\"},\"mode\":\"markers\",\"name\":\"melanoma\",\"orientation\":\"v\",\"showlegend\":false,\"x\":[1.9576433897018433,3.8047823905944824,1.3996671438217163,1.5485382080078125],\"xaxis\":\"x4\",\"y\":[-4.723669052124023,-5.03577184677124,-7.142477512359619,-7.038680076599121],\"yaxis\":\"y4\",\"type\":\"scatter\"},{\"hovertemplate\":\"cancer_type=lung<br>signature=all<br>tsne1=%{x}<br>tsne2=%{y}<extra></extra>\",\"legendgroup\":\"lung\",\"marker\":{\"color\":\"#FF6692\",\"symbol\":\"circle\"},\"mode\":\"markers\",\"name\":\"lung\",\"orientation\":\"v\",\"showlegend\":true,\"x\":[1.3967034816741943,1.2462040185928345,0.40511009097099304,-1.0117210149765015,-0.6895765662193298,-1.5995266437530518],\"xaxis\":\"x5\",\"y\":[-1.0068937540054321,-0.9402382373809814,0.23504817485809326,-0.6736080050468445,0.5494954586029053,0.7606604695320129],\"yaxis\":\"y5\",\"type\":\"scatter\"},{\"hovertemplate\":\"cancer_type=lung<br>signature=exp<br>tsne1=%{x}<br>tsne2=%{y}<extra></extra>\",\"legendgroup\":\"lung\",\"marker\":{\"color\":\"#FF6692\",\"symbol\":\"circle\"},\"mode\":\"markers\",\"name\":\"lung\",\"orientation\":\"v\",\"showlegend\":false,\"x\":[-0.6809313297271729,-0.953827440738678,-0.4104861915111542,-0.36802464723587036,-0.8749467730522156,-0.32823100686073303],\"xaxis\":\"x6\",\"y\":[0.8265515565872192,0.6312475800514221,2.9368839263916016,2.3055782318115234,0.09908076375722885,-1.3679370880126953],\"yaxis\":\"y6\",\"type\":\"scatter\"},{\"hovertemplate\":\"cancer_type=lung<br>signature=cnv<br>tsne1=%{x}<br>tsne2=%{y}<extra></extra>\",\"legendgroup\":\"lung\",\"marker\":{\"color\":\"#FF6692\",\"symbol\":\"circle\"},\"mode\":\"markers\",\"name\":\"lung\",\"orientation\":\"v\",\"showlegend\":false,\"x\":[-2.307976007461548,-2.136245012283325,-1.9584778547286987,0.10777163505554199,-1.5188539028167725,-1.6084470748901367],\"xaxis\":\"x7\",\"y\":[2.132884979248047,1.799200415611267,0.8127381205558777,-0.7072241902351379,-0.43541616201400757,0.012926360592246056],\"yaxis\":\"y7\",\"type\":\"scatter\"},{\"hovertemplate\":\"cancer_type=lung<br>signature=snv<br>tsne1=%{x}<br>tsne2=%{y}<extra></extra>\",\"legendgroup\":\"lung\",\"marker\":{\"color\":\"#FF6692\",\"symbol\":\"circle\"},\"mode\":\"markers\",\"name\":\"lung\",\"orientation\":\"v\",\"showlegend\":false,\"x\":[1.276644229888916,1.0034455060958862,1.109020709991455,0.4119100272655487,2.7233023643493652,1.173064112663269],\"xaxis\":\"x8\",\"y\":[2.9796316623687744,1.4515050649642944,0.8757862448692322,3.4955010414123535,2.025982618331909,1.2852957248687744],\"yaxis\":\"y8\",\"type\":\"scatter\"},{\"hovertemplate\":\"cancer_type=lung<br>signature=lof<br>tsne1=%{x}<br>tsne2=%{y}<extra></extra>\",\"legendgroup\":\"lung\",\"marker\":{\"color\":\"#FF6692\",\"symbol\":\"circle\"},\"mode\":\"markers\",\"name\":\"lung\",\"orientation\":\"v\",\"showlegend\":false,\"x\":[-0.509381115436554,-0.4930674135684967,-0.9069195985794067,-1.1874687671661377,-0.4672273099422455,-0.36402133107185364],\"xaxis\":\"x\",\"y\":[4.8828277587890625,4.872737884521484,1.2667081356048584,3.2791850566864014,1.9773083925247192,2.610830783843994],\"yaxis\":\"y\",\"type\":\"scatter\"},{\"hovertemplate\":\"cancer_type=lung<br>signature=ddr<br>tsne1=%{x}<br>tsne2=%{y}<extra></extra>\",\"legendgroup\":\"lung\",\"marker\":{\"color\":\"#FF6692\",\"symbol\":\"circle\"},\"mode\":\"markers\",\"name\":\"lung\",\"orientation\":\"v\",\"showlegend\":false,\"x\":[2.986301898956299,1.3557265996932983,-0.11918244510889053,3.351879358291626,3.128460645675659,-2.547623634338379],\"xaxis\":\"x2\",\"y\":[0.5188317894935608,4.45235538482666,1.1976361274719238,0.3036760985851288,4.6148152351379395,2.013185501098633],\"yaxis\":\"y2\",\"type\":\"scatter\"},{\"hovertemplate\":\"cancer_type=lung<br>signature=coh_pat<br>tsne1=%{x}<br>tsne2=%{y}<extra></extra>\",\"legendgroup\":\"lung\",\"marker\":{\"color\":\"#FF6692\",\"symbol\":\"circle\"},\"mode\":\"markers\",\"name\":\"lung\",\"orientation\":\"v\",\"showlegend\":false,\"x\":[0.10648229718208313,0.8798608183860779,3.24066424369812,2.928297519683838,-0.09757968038320541,-3.1489360332489014],\"xaxis\":\"x3\",\"y\":[0.3832324743270874,0.4985857605934143,2.415005922317505,2.503446340560913,0.006820864975452423,-2.2851080894470215],\"yaxis\":\"y3\",\"type\":\"scatter\"},{\"hovertemplate\":\"cancer_type=lung<br>signature=lof_pat<br>tsne1=%{x}<br>tsne2=%{y}<extra></extra>\",\"legendgroup\":\"lung\",\"marker\":{\"color\":\"#FF6692\",\"symbol\":\"circle\"},\"mode\":\"markers\",\"name\":\"lung\",\"orientation\":\"v\",\"showlegend\":false,\"x\":[-0.2879774570465088,-0.432356595993042,-0.6247671246528625,2.87908673286438,1.9593724012374878,1.6820372343063354],\"xaxis\":\"x4\",\"y\":[-5.401379108428955,-5.551192760467529,-6.171929359436035,-9.407303810119629,-8.712019920349121,-9.30833911895752],\"yaxis\":\"y4\",\"type\":\"scatter\"},{\"hovertemplate\":\"cancer_type=pancreas<br>signature=all<br>tsne1=%{x}<br>tsne2=%{y}<extra></extra>\",\"legendgroup\":\"pancreas\",\"marker\":{\"color\":\"#B6E880\",\"symbol\":\"circle\"},\"mode\":\"markers\",\"name\":\"pancreas\",\"orientation\":\"v\",\"showlegend\":true,\"x\":[0.3574100136756897,0.012012623250484467,-0.15021465718746185,1.7676631212234497,1.1244215965270996],\"xaxis\":\"x5\",\"y\":[1.018939733505249,0.3420470058917999,-2.0948445796966553,-0.4227069318294525,-0.6170178651809692],\"yaxis\":\"y5\",\"type\":\"scatter\"},{\"hovertemplate\":\"cancer_type=pancreas<br>signature=exp<br>tsne1=%{x}<br>tsne2=%{y}<extra></extra>\",\"legendgroup\":\"pancreas\",\"marker\":{\"color\":\"#B6E880\",\"symbol\":\"circle\"},\"mode\":\"markers\",\"name\":\"pancreas\",\"orientation\":\"v\",\"showlegend\":false,\"x\":[0.4798649847507477,-0.32908713817596436,-0.6016048789024353,-1.91429603099823,-0.6195555329322815],\"xaxis\":\"x6\",\"y\":[2.138902425765991,2.698180913925171,0.1784479171037674,2.2338364124298096,1.4363819360733032],\"yaxis\":\"y6\",\"type\":\"scatter\"},{\"hovertemplate\":\"cancer_type=pancreas<br>signature=cnv<br>tsne1=%{x}<br>tsne2=%{y}<extra></extra>\",\"legendgroup\":\"pancreas\",\"marker\":{\"color\":\"#B6E880\",\"symbol\":\"circle\"},\"mode\":\"markers\",\"name\":\"pancreas\",\"orientation\":\"v\",\"showlegend\":false,\"x\":[-0.6175664067268372,-1.4180902242660522,-1.2921686172485352,-2.982027769088745,-2.1372880935668945],\"xaxis\":\"x7\",\"y\":[-1.6287139654159546,0.5022435784339905,2.041511297225952,1.4297351837158203,1.4953101873397827],\"yaxis\":\"y7\",\"type\":\"scatter\"},{\"hovertemplate\":\"cancer_type=pancreas<br>signature=snv<br>tsne1=%{x}<br>tsne2=%{y}<extra></extra>\",\"legendgroup\":\"pancreas\",\"marker\":{\"color\":\"#B6E880\",\"symbol\":\"circle\"},\"mode\":\"markers\",\"name\":\"pancreas\",\"orientation\":\"v\",\"showlegend\":false,\"x\":[0.5747659206390381,0.735662579536438,1.1878713369369507,1.381089210510254,1.0559920072555542],\"xaxis\":\"x8\",\"y\":[1.1361160278320312,1.9976067543029785,3.3598849773406982,1.8146764039993286,1.6834886074066162],\"yaxis\":\"y8\",\"type\":\"scatter\"},{\"hovertemplate\":\"cancer_type=pancreas<br>signature=lof<br>tsne1=%{x}<br>tsne2=%{y}<extra></extra>\",\"legendgroup\":\"pancreas\",\"marker\":{\"color\":\"#B6E880\",\"symbol\":\"circle\"},\"mode\":\"markers\",\"name\":\"pancreas\",\"orientation\":\"v\",\"showlegend\":false,\"x\":[-0.4939565360546112,-0.47751861810684204,-2.5541083812713623,1.163966178894043,-0.6173310279846191],\"xaxis\":\"x\",\"y\":[2.334657669067383,2.348253011703491,3.861747980117798,4.050736904144287,4.327148914337158],\"yaxis\":\"y\",\"type\":\"scatter\"},{\"hovertemplate\":\"cancer_type=pancreas<br>signature=ddr<br>tsne1=%{x}<br>tsne2=%{y}<extra></extra>\",\"legendgroup\":\"pancreas\",\"marker\":{\"color\":\"#B6E880\",\"symbol\":\"circle\"},\"mode\":\"markers\",\"name\":\"pancreas\",\"orientation\":\"v\",\"showlegend\":false,\"x\":[2.2083168029785156,-0.17434383928775787,1.082484245300293,-0.24080826342105865,-1.7371299266815186],\"xaxis\":\"x2\",\"y\":[3.9091620445251465,2.663773775100708,2.7229840755462646,3.694286823272705,2.9806058406829834],\"yaxis\":\"y2\",\"type\":\"scatter\"},{\"hovertemplate\":\"cancer_type=pancreas<br>signature=coh_pat<br>tsne1=%{x}<br>tsne2=%{y}<extra></extra>\",\"legendgroup\":\"pancreas\",\"marker\":{\"color\":\"#B6E880\",\"symbol\":\"circle\"},\"mode\":\"markers\",\"name\":\"pancreas\",\"orientation\":\"v\",\"showlegend\":false,\"x\":[2.4519834518432617,2.392490863800049,1.307295560836792,3.0829896926879883,1.8868485689163208],\"xaxis\":\"x3\",\"y\":[2.4513638019561768,2.462899923324585,1.0210227966308594,1.3720371723175049,4.297593116760254],\"yaxis\":\"y3\",\"type\":\"scatter\"},{\"hovertemplate\":\"cancer_type=pancreas<br>signature=lof_pat<br>tsne1=%{x}<br>tsne2=%{y}<extra></extra>\",\"legendgroup\":\"pancreas\",\"marker\":{\"color\":\"#B6E880\",\"symbol\":\"circle\"},\"mode\":\"markers\",\"name\":\"pancreas\",\"orientation\":\"v\",\"showlegend\":false,\"x\":[1.3346856832504272,1.9455336332321167,1.1583079099655151,1.0179297924041748,-0.46432486176490784],\"xaxis\":\"x4\",\"y\":[-9.207229614257812,-9.382063865661621,-4.810461521148682,-3.9547150135040283,-5.6397271156311035],\"yaxis\":\"y4\",\"type\":\"scatter\"},{\"hovertemplate\":\"cancer_type=breast<br>signature=all<br>tsne1=%{x}<br>tsne2=%{y}<extra></extra>\",\"legendgroup\":\"breast\",\"marker\":{\"color\":\"#FF97FF\",\"symbol\":\"circle\"},\"mode\":\"markers\",\"name\":\"breast\",\"orientation\":\"v\",\"showlegend\":true,\"x\":[0.17112982273101807,-0.31104177236557007,0.7043118476867676,-1.2374138832092285,0.5302276015281677,-0.23647184669971466,-0.26365983486175537,0.7062210440635681],\"xaxis\":\"x5\",\"y\":[1.2051007747650146,0.04322829097509384,0.9786601066589355,2.7129342555999756,-1.475551724433899,2.5318851470947266,1.297020435333252,1.8439220190048218],\"yaxis\":\"y5\",\"type\":\"scatter\"},{\"hovertemplate\":\"cancer_type=breast<br>signature=exp<br>tsne1=%{x}<br>tsne2=%{y}<extra></extra>\",\"legendgroup\":\"breast\",\"marker\":{\"color\":\"#FF97FF\",\"symbol\":\"circle\"},\"mode\":\"markers\",\"name\":\"breast\",\"orientation\":\"v\",\"showlegend\":false,\"x\":[0.7931471467018127,-2.842902660369873,-2.0594654083251953,1.9129843711853027,-1.597873568534851,-1.7436449527740479,0.6852344274520874,0.2493102252483368],\"xaxis\":\"x6\",\"y\":[2.8336141109466553,1.2913917303085327,2.909372568130493,2.4721341133117676,1.1984162330627441,-0.2157316356897354,3.148721694946289,3.8473072052001953],\"yaxis\":\"y6\",\"type\":\"scatter\"},{\"hovertemplate\":\"cancer_type=breast<br>signature=cnv<br>tsne1=%{x}<br>tsne2=%{y}<extra></extra>\",\"legendgroup\":\"breast\",\"marker\":{\"color\":\"#FF97FF\",\"symbol\":\"circle\"},\"mode\":\"markers\",\"name\":\"breast\",\"orientation\":\"v\",\"showlegend\":false,\"x\":[0.3357471823692322,-0.48346036672592163,0.40948328375816345,-3.3667705059051514,-1.785510778427124,-2.6158859729766846,-0.24475915729999542,0.4235687851905823],\"xaxis\":\"x7\",\"y\":[-0.19842739403247833,0.30975279211997986,0.9175843000411987,0.9607407450675964,2.1271798610687256,-1.1604527235031128,-0.35688599944114685,0.39352279901504517],\"yaxis\":\"y7\",\"type\":\"scatter\"},{\"hovertemplate\":\"cancer_type=breast<br>signature=snv<br>tsne1=%{x}<br>tsne2=%{y}<extra></extra>\",\"legendgroup\":\"breast\",\"marker\":{\"color\":\"#FF97FF\",\"symbol\":\"circle\"},\"mode\":\"markers\",\"name\":\"breast\",\"orientation\":\"v\",\"showlegend\":false,\"x\":[0.25068914890289307,0.6204313039779663,1.0582865476608276,1.8305716514587402,2.0839028358459473,1.1922396421432495,2.4859015941619873,1.1681056022644043],\"xaxis\":\"x8\",\"y\":[3.1203205585479736,1.7997409105300903,1.9857538938522339,1.274664044380188,1.9807982444763184,0.2789856493473053,1.3560640811920166,2.13105845451355],\"yaxis\":\"y8\",\"type\":\"scatter\"},{\"hovertemplate\":\"cancer_type=breast<br>signature=lof<br>tsne1=%{x}<br>tsne2=%{y}<extra></extra>\",\"legendgroup\":\"breast\",\"marker\":{\"color\":\"#FF97FF\",\"symbol\":\"circle\"},\"mode\":\"markers\",\"name\":\"breast\",\"orientation\":\"v\",\"showlegend\":false,\"x\":[-0.7619901895523071,-0.5617568492889404,-0.0987619012594223,-1.0438971519470215,-1.6135276556015015,0.6776636242866516,-0.4908597767353058,0.7490524649620056],\"xaxis\":\"x\",\"y\":[2.813565969467163,2.45001482963562,1.8532977104187012,0.5451416969299316,0.7436626553535461,1.0713553428649902,2.301054000854492,2.564915418624878],\"yaxis\":\"y\",\"type\":\"scatter\"},{\"hovertemplate\":\"cancer_type=breast<br>signature=ddr<br>tsne1=%{x}<br>tsne2=%{y}<extra></extra>\",\"legendgroup\":\"breast\",\"marker\":{\"color\":\"#FF97FF\",\"symbol\":\"circle\"},\"mode\":\"markers\",\"name\":\"breast\",\"orientation\":\"v\",\"showlegend\":false,\"x\":[1.6310641765594482,-0.5099810361862183,-0.2979779839515686,0.2401663362979889,0.7037752866744995,0.7622881531715393,1.8114694356918335,3.861124038696289],\"xaxis\":\"x2\",\"y\":[5.173473834991455,1.9947023391723633,3.4218103885650635,3.7984957695007324,3.5702474117279053,5.731407165527344,3.6305651664733887,3.0319902896881104],\"yaxis\":\"y2\",\"type\":\"scatter\"},{\"hovertemplate\":\"cancer_type=breast<br>signature=coh_pat<br>tsne1=%{x}<br>tsne2=%{y}<extra></extra>\",\"legendgroup\":\"breast\",\"marker\":{\"color\":\"#FF97FF\",\"symbol\":\"circle\"},\"mode\":\"markers\",\"name\":\"breast\",\"orientation\":\"v\",\"showlegend\":false,\"x\":[1.3127599954605103,4.507588863372803,3.7662086486816406,-2.1939592361450195,2.535176992416382,2.209484100341797,0.12614504992961884,-1.71018648147583],\"xaxis\":\"x3\",\"y\":[2.891608953475952,-0.07746174931526184,2.883408308029175,2.446077346801758,0.1366404891014099,1.0595992803573608,3.0313732624053955,2.47755765914917],\"yaxis\":\"y3\",\"type\":\"scatter\"},{\"hovertemplate\":\"cancer_type=breast<br>signature=lof_pat<br>tsne1=%{x}<br>tsne2=%{y}<extra></extra>\",\"legendgroup\":\"breast\",\"marker\":{\"color\":\"#FF97FF\",\"symbol\":\"circle\"},\"mode\":\"markers\",\"name\":\"breast\",\"orientation\":\"v\",\"showlegend\":false,\"x\":[2.215512275695801,1.686346411705017,0.3268663287162781,0.9592844843864441,0.8134271502494812,1.9203834533691406,1.8551486730575562,1.3367491960525513],\"xaxis\":\"x4\",\"y\":[-9.577369689941406,-9.189850807189941,-9.887765884399414,-5.825939178466797,-4.638548851013184,-4.591809272766113,-9.379652976989746,-10.74333381652832],\"yaxis\":\"y4\",\"type\":\"scatter\"},{\"hovertemplate\":\"cancer_type=cervix<br>signature=all<br>tsne1=%{x}<br>tsne2=%{y}<extra></extra>\",\"legendgroup\":\"cervix\",\"marker\":{\"color\":\"#FECB52\",\"symbol\":\"circle\"},\"mode\":\"markers\",\"name\":\"cervix\",\"orientation\":\"v\",\"showlegend\":true,\"x\":[-2.1843314170837402,0.20728325843811035,-0.40404391288757324],\"xaxis\":\"x5\",\"y\":[1.621132493019104,0.006590546108782291,0.457950621843338],\"yaxis\":\"y5\",\"type\":\"scatter\"},{\"hovertemplate\":\"cancer_type=cervix<br>signature=exp<br>tsne1=%{x}<br>tsne2=%{y}<extra></extra>\",\"legendgroup\":\"cervix\",\"marker\":{\"color\":\"#FECB52\",\"symbol\":\"circle\"},\"mode\":\"markers\",\"name\":\"cervix\",\"orientation\":\"v\",\"showlegend\":false,\"x\":[-0.5053443908691406,-0.7124128341674805,-1.4257252216339111],\"xaxis\":\"x6\",\"y\":[-0.7629455327987671,2.225039005279541,0.3959091603755951],\"yaxis\":\"y6\",\"type\":\"scatter\"},{\"hovertemplate\":\"cancer_type=cervix<br>signature=cnv<br>tsne1=%{x}<br>tsne2=%{y}<extra></extra>\",\"legendgroup\":\"cervix\",\"marker\":{\"color\":\"#FECB52\",\"symbol\":\"circle\"},\"mode\":\"markers\",\"name\":\"cervix\",\"orientation\":\"v\",\"showlegend\":false,\"x\":[-1.490991234779358,-0.45565304160118103,-2.2461137771606445],\"xaxis\":\"x7\",\"y\":[0.3690342903137207,1.1303120851516724,-0.1168452724814415],\"yaxis\":\"y7\",\"type\":\"scatter\"},{\"hovertemplate\":\"cancer_type=cervix<br>signature=snv<br>tsne1=%{x}<br>tsne2=%{y}<extra></extra>\",\"legendgroup\":\"cervix\",\"marker\":{\"color\":\"#FECB52\",\"symbol\":\"circle\"},\"mode\":\"markers\",\"name\":\"cervix\",\"orientation\":\"v\",\"showlegend\":false,\"x\":[2.2942512035369873,0.5865742564201355,1.9513201713562012],\"xaxis\":\"x8\",\"y\":[3.1275768280029297,0.34073740243911743,3.140686273574829],\"yaxis\":\"y8\",\"type\":\"scatter\"},{\"hovertemplate\":\"cancer_type=cervix<br>signature=lof<br>tsne1=%{x}<br>tsne2=%{y}<extra></extra>\",\"legendgroup\":\"cervix\",\"marker\":{\"color\":\"#FECB52\",\"symbol\":\"circle\"},\"mode\":\"markers\",\"name\":\"cervix\",\"orientation\":\"v\",\"showlegend\":false,\"x\":[0.036289114505052567,0.06375951319932938,-0.491921991109848],\"xaxis\":\"x\",\"y\":[1.19210684299469,2.8951666355133057,1.8407185077667236],\"yaxis\":\"y\",\"type\":\"scatter\"},{\"hovertemplate\":\"cancer_type=cervix<br>signature=ddr<br>tsne1=%{x}<br>tsne2=%{y}<extra></extra>\",\"legendgroup\":\"cervix\",\"marker\":{\"color\":\"#FECB52\",\"symbol\":\"circle\"},\"mode\":\"markers\",\"name\":\"cervix\",\"orientation\":\"v\",\"showlegend\":false,\"x\":[-1.0262839794158936,3.2006969451904297,0.5650282502174377],\"xaxis\":\"x2\",\"y\":[-1.7228456735610962,2.474970817565918,1.2106425762176514],\"yaxis\":\"y2\",\"type\":\"scatter\"},{\"hovertemplate\":\"cancer_type=cervix<br>signature=coh_pat<br>tsne1=%{x}<br>tsne2=%{y}<extra></extra>\",\"legendgroup\":\"cervix\",\"marker\":{\"color\":\"#FECB52\",\"symbol\":\"circle\"},\"mode\":\"markers\",\"name\":\"cervix\",\"orientation\":\"v\",\"showlegend\":false,\"x\":[-2.6046946048736572,2.0047998428344727,1.259425163269043],\"xaxis\":\"x3\",\"y\":[-2.3578972816467285,3.2588565349578857,0.09498140215873718],\"yaxis\":\"y3\",\"type\":\"scatter\"},{\"hovertemplate\":\"cancer_type=cervix<br>signature=lof_pat<br>tsne1=%{x}<br>tsne2=%{y}<extra></extra>\",\"legendgroup\":\"cervix\",\"marker\":{\"color\":\"#FECB52\",\"symbol\":\"circle\"},\"mode\":\"markers\",\"name\":\"cervix\",\"orientation\":\"v\",\"showlegend\":false,\"x\":[2.200735092163086,2.71482515335083,1.4535655975341797],\"xaxis\":\"x4\",\"y\":[-10.698463439941406,-9.551538467407227,-8.704143524169922],\"yaxis\":\"y4\",\"type\":\"scatter\"},{\"hovertemplate\":\"cancer_type=colon<br>signature=all<br>tsne1=%{x}<br>tsne2=%{y}<extra></extra>\",\"legendgroup\":\"colon\",\"marker\":{\"color\":\"#636efa\",\"symbol\":\"circle\"},\"mode\":\"markers\",\"name\":\"colon\",\"orientation\":\"v\",\"showlegend\":true,\"x\":[0.6995261907577515,1.1986843347549438,0.9118300676345825,-2.3442904949188232,0.5354079008102417,-2.338710069656372,1.0214542150497437,-1.775320053100586,-2.3659958839416504,-0.6369866728782654],\"xaxis\":\"x5\",\"y\":[0.10088130831718445,0.4920772612094879,0.6079342365264893,-2.7509377002716064,2.59720778465271,-2.7354259490966797,0.23747050762176514,-1.2052388191223145,-1.1936663389205933,0.44360417127609253],\"yaxis\":\"y5\",\"type\":\"scatter\"},{\"hovertemplate\":\"cancer_type=colon<br>signature=exp<br>tsne1=%{x}<br>tsne2=%{y}<extra></extra>\",\"legendgroup\":\"colon\",\"marker\":{\"color\":\"#636efa\",\"symbol\":\"circle\"},\"mode\":\"markers\",\"name\":\"colon\",\"orientation\":\"v\",\"showlegend\":false,\"x\":[0.3732359707355499,1.1208168268203735,0.7370526790618896,-0.10095637291669846,0.08473491668701172,-0.07989608496427536,0.3473198413848877,0.6747536063194275,0.8650930523872375,0.420269638299942],\"xaxis\":\"x6\",\"y\":[1.3602510690689087,1.4085315465927124,1.902073621749878,0.8518096804618835,0.7801640629768372,0.6956731677055359,1.4707403182983398,0.7196233868598938,0.7153832912445068,0.174979105591774],\"yaxis\":\"y6\",\"type\":\"scatter\"},{\"hovertemplate\":\"cancer_type=colon<br>signature=cnv<br>tsne1=%{x}<br>tsne2=%{y}<extra></extra>\",\"legendgroup\":\"colon\",\"marker\":{\"color\":\"#636efa\",\"symbol\":\"circle\"},\"mode\":\"markers\",\"name\":\"colon\",\"orientation\":\"v\",\"showlegend\":false,\"x\":[-2.6093602180480957,-2.6590511798858643,-1.7339551448822021,-1.460282564163208,-1.553665041923523,-1.4957503080368042,-2.8100459575653076,-1.24624764919281,-1.3090914487838745,-1.1195735931396484],\"xaxis\":\"x7\",\"y\":[0.11977963894605637,-0.7729594707489014,-1.3236045837402344,0.4867355525493622,0.44675305485725403,0.5024160146713257,0.7557229399681091,-0.504235565662384,0.36865633726119995,-0.5219623446464539],\"yaxis\":\"y7\",\"type\":\"scatter\"},{\"hovertemplate\":\"cancer_type=colon<br>signature=snv<br>tsne1=%{x}<br>tsne2=%{y}<extra></extra>\",\"legendgroup\":\"colon\",\"marker\":{\"color\":\"#636efa\",\"symbol\":\"circle\"},\"mode\":\"markers\",\"name\":\"colon\",\"orientation\":\"v\",\"showlegend\":false,\"x\":[0.8889911770820618,1.0402659177780151,1.261863112449646,2.686068534851074,-0.30803921818733215,2.6778857707977295,1.8473659753799438,0.6410912275314331,-0.6030902862548828,0.35279470682144165],\"xaxis\":\"x8\",\"y\":[2.424237012863159,1.946728229522705,2.3217933177948,-0.19370140135288239,2.872959613800049,-0.17971131205558777,2.799649238586426,3.5735466480255127,1.9693251848220825,0.4507315754890442],\"yaxis\":\"y8\",\"type\":\"scatter\"},{\"hovertemplate\":\"cancer_type=colon<br>signature=lof<br>tsne1=%{x}<br>tsne2=%{y}<extra></extra>\",\"legendgroup\":\"colon\",\"marker\":{\"color\":\"#636efa\",\"symbol\":\"circle\"},\"mode\":\"markers\",\"name\":\"colon\",\"orientation\":\"v\",\"showlegend\":false,\"x\":[-0.546152651309967,-0.7589409947395325,-1.0340849161148071,0.6468908786773682,1.0196605920791626,0.6508814692497253,-1.8718470335006714,0.5925501585006714,0.931075394153595,-0.33524343371391296],\"xaxis\":\"x\",\"y\":[3.6101081371307373,3.963827133178711,3.1572346687316895,-0.2314199060201645,1.438004970550537,-0.23985038697719574,1.58408784866333,2.1799252033233643,1.956177830696106,2.0161893367767334],\"yaxis\":\"y\",\"type\":\"scatter\"},{\"hovertemplate\":\"cancer_type=colon<br>signature=ddr<br>tsne1=%{x}<br>tsne2=%{y}<extra></extra>\",\"legendgroup\":\"colon\",\"marker\":{\"color\":\"#636efa\",\"symbol\":\"circle\"},\"mode\":\"markers\",\"name\":\"colon\",\"orientation\":\"v\",\"showlegend\":false,\"x\":[2.106368064880371,0.1288238912820816,0.522484540939331,0.8226569890975952,-1.139129638671875,0.8363896012306213,0.8294622898101807,-1.0505181550979614,-1.6864068508148193,2.1151504516601562],\"xaxis\":\"x2\",\"y\":[1.5358879566192627,1.6788119077682495,1.7845982313156128,-3.303605079650879,-1.7964662313461304,-3.3117387294769287,2.257310628890991,-1.7760393619537354,-2.161608934402466,0.17761221528053284],\"yaxis\":\"y2\",\"type\":\"scatter\"},{\"hovertemplate\":\"cancer_type=colon<br>signature=coh_pat<br>tsne1=%{x}<br>tsne2=%{y}<extra></extra>\",\"legendgroup\":\"colon\",\"marker\":{\"color\":\"#636efa\",\"symbol\":\"circle\"},\"mode\":\"markers\",\"name\":\"colon\",\"orientation\":\"v\",\"showlegend\":false,\"x\":[0.9157978892326355,-0.43526574969291687,1.575765609741211,0.014082366600632668,-0.05616002902388573,-0.5674473643302917,0.28747767210006714,-0.3698856234550476,-1.1024692058563232,-1.4221203327178955],\"xaxis\":\"x3\",\"y\":[4.101930141448975,4.36976432800293,4.23406982421875,4.093491077423096,2.6524417400360107,3.5609285831451416,4.4109206199646,2.476638078689575,2.706458330154419,3.1953983306884766],\"yaxis\":\"y3\",\"type\":\"scatter\"},{\"hovertemplate\":\"cancer_type=colon<br>signature=lof_pat<br>tsne1=%{x}<br>tsne2=%{y}<extra></extra>\",\"legendgroup\":\"colon\",\"marker\":{\"color\":\"#636efa\",\"symbol\":\"circle\"},\"mode\":\"markers\",\"name\":\"colon\",\"orientation\":\"v\",\"showlegend\":false,\"x\":[-0.7738234400749207,-0.02693229541182518,1.4159045219421387,3.7768588066101074,3.041883707046509,3.8047611713409424,2.4078876972198486,3.2370386123657227,3.169964551925659,1.3967705965042114],\"xaxis\":\"x4\",\"y\":[-6.387794017791748,-8.02377700805664,-7.968364238739014,-5.01967716217041,-11.132808685302734,-5.0423479080200195,-7.011319160461426,-10.212512016296387,-10.939266204833984,-9.119590759277344],\"yaxis\":\"y4\",\"type\":\"scatter\"},{\"hovertemplate\":\"cancer_type=hematological<br>signature=all<br>tsne1=%{x}<br>tsne2=%{y}<extra></extra>\",\"legendgroup\":\"hematological\",\"marker\":{\"color\":\"#EF553B\",\"symbol\":\"circle\"},\"mode\":\"markers\",\"name\":\"hematological\",\"orientation\":\"v\",\"showlegend\":true,\"x\":[-2.043339490890503,-2.148895502090454,-2.9186501502990723,-1.7802822589874268,-1.7654155492782593,-2.3085153102874756,-1.535207748413086,-1.88209867477417,-2.0298070907592773,-2.217952013015747,-2.067918539047241,-2.7960503101348877],\"xaxis\":\"x5\",\"y\":[-0.08105915784835815,0.3499715030193329,0.586785614490509,0.22281384468078613,0.17229202389717102,0.024247024208307266,0.34118103981018066,0.178812637925148,0.11980662494897842,0.01133604347705841,0.6578335762023926,-0.15889638662338257],\"yaxis\":\"y5\",\"type\":\"scatter\"},{\"hovertemplate\":\"cancer_type=hematological<br>signature=exp<br>tsne1=%{x}<br>tsne2=%{y}<extra></extra>\",\"legendgroup\":\"hematological\",\"marker\":{\"color\":\"#EF553B\",\"symbol\":\"circle\"},\"mode\":\"markers\",\"name\":\"hematological\",\"orientation\":\"v\",\"showlegend\":false,\"x\":[-1.2956939935684204,-0.2855001389980316,1.6830220222473145,-0.07633671164512634,-1.4032623767852783,-1.2178951501846313,0.011236578226089478,-1.5128138065338135,-1.5328023433685303,-1.5083763599395752,0.1419733762741089,-1.4711579084396362],\"xaxis\":\"x6\",\"y\":[-2.903536319732666,-2.679931640625,-0.640336811542511,-2.7553470134735107,-2.1477344036102295,-2.974961519241333,-2.905125856399536,-3.4593749046325684,-3.5387325286865234,-3.481050491333008,-2.9636285305023193,-3.4541196823120117],\"yaxis\":\"y6\",\"type\":\"scatter\"},{\"hovertemplate\":\"cancer_type=hematological<br>signature=cnv<br>tsne1=%{x}<br>tsne2=%{y}<extra></extra>\",\"legendgroup\":\"hematological\",\"marker\":{\"color\":\"#EF553B\",\"symbol\":\"circle\"},\"mode\":\"markers\",\"name\":\"hematological\",\"orientation\":\"v\",\"showlegend\":false,\"x\":[-2.0519986152648926,-1.4900184869766235,-0.1897965967655182,-1.8222906589508057,-1.1772894859313965,-0.6712109446525574,-1.2642039060592651,-1.4264461994171143,-1.2574131488800049,-1.0211576223373413,-1.998939871788025,-1.7904267311096191],\"xaxis\":\"x7\",\"y\":[0.7731062173843384,0.7708505988121033,1.633042335510254,0.6869632601737976,-0.366202712059021,0.5564753413200378,0.3321405053138733,0.5129687786102295,0.3423098921775818,0.8783091306686401,-0.9193753004074097,0.40650680661201477],\"yaxis\":\"y7\",\"type\":\"scatter\"},{\"hovertemplate\":\"cancer_type=hematological<br>signature=snv<br>tsne1=%{x}<br>tsne2=%{y}<extra></extra>\",\"legendgroup\":\"hematological\",\"marker\":{\"color\":\"#EF553B\",\"symbol\":\"circle\"},\"mode\":\"markers\",\"name\":\"hematological\",\"orientation\":\"v\",\"showlegend\":false,\"x\":[1.0317726135253906,0.3262432813644409,1.005238652229309,0.9280034899711609,1.8760263919830322,0.40388932824134827,1.0237677097320557,0.9952857494354248,0.20992068946361542,-0.4081285893917084,1.0272853374481201,-0.5718144774436951],\"xaxis\":\"x8\",\"y\":[1.947555661201477,1.388724446296692,1.920924425125122,2.6691665649414062,0.7854733467102051,1.9929131269454956,1.9553438425064087,1.982282280921936,2.6982500553131104,1.2921849489212036,1.9079564809799194,2.28960919380188],\"yaxis\":\"y8\",\"type\":\"scatter\"},{\"hovertemplate\":\"cancer_type=hematological<br>signature=lof<br>tsne1=%{x}<br>tsne2=%{y}<extra></extra>\",\"legendgroup\":\"hematological\",\"marker\":{\"color\":\"#EF553B\",\"symbol\":\"circle\"},\"mode\":\"markers\",\"name\":\"hematological\",\"orientation\":\"v\",\"showlegend\":false,\"x\":[-0.8416574001312256,-2.012072801589966,1.5449250936508179,-1.1559162139892578,-0.9198604226112366,0.7863816618919373,-0.5513692498207092,-0.7175695896148682,-0.585299551486969,-0.353721022605896,-1.1057418584823608,-0.42458897829055786],\"xaxis\":\"x\",\"y\":[0.9254035353660583,2.699180841445923,1.949215292930603,2.077728509902954,2.6612138748168945,3.1494908332824707,2.4982709884643555,2.3991010189056396,2.452692747116089,2.9939112663269043,2.4943885803222656,1.1138334274291992],\"yaxis\":\"y\",\"type\":\"scatter\"},{\"hovertemplate\":\"cancer_type=hematological<br>signature=ddr<br>tsne1=%{x}<br>tsne2=%{y}<extra></extra>\",\"legendgroup\":\"hematological\",\"marker\":{\"color\":\"#EF553B\",\"symbol\":\"circle\"},\"mode\":\"markers\",\"name\":\"hematological\",\"orientation\":\"v\",\"showlegend\":false,\"x\":[-0.6693236827850342,1.1582926511764526,1.975943922996521,-0.8397740721702576,1.3440765142440796,0.18291540443897247,-0.1540972739458084,-0.02487008459866047,2.493230104446411,-2.7787861824035645,1.1440633535385132,-2.0747857093811035],\"xaxis\":\"x2\",\"y\":[1.2864242792129517,-0.564494252204895,1.3341162204742432,2.2181570529937744,0.8941065669059753,2.5034334659576416,1.1237571239471436,0.37080758810043335,3.203099250793457,1.97549569606781,1.0288909673690796,-0.8900040984153748],\"yaxis\":\"y2\",\"type\":\"scatter\"},{\"hovertemplate\":\"cancer_type=hematological<br>signature=coh_pat<br>tsne1=%{x}<br>tsne2=%{y}<extra></extra>\",\"legendgroup\":\"hematological\",\"marker\":{\"color\":\"#EF553B\",\"symbol\":\"circle\"},\"mode\":\"markers\",\"name\":\"hematological\",\"orientation\":\"v\",\"showlegend\":false,\"x\":[-4.1916584968566895,-3.674771308898926,-3.238644599914551,-3.556065320968628,-4.090142250061035,-3.943350076675415,-3.9000353813171387,-4.244064807891846,-4.542757511138916,-4.186331748962402,-3.0719614028930664,-3.847465753555298],\"xaxis\":\"x3\",\"y\":[-2.323727607727051,-1.64891517162323,-2.100933074951172,-0.790519118309021,-1.2399684190750122,-1.906583547592163,-1.1050978899002075,-2.084124803543091,-1.6776986122131348,-1.873965859413147,-1.1742987632751465,-2.617889404296875],\"yaxis\":\"y3\",\"type\":\"scatter\"},{\"hovertemplate\":\"cancer_type=hematological<br>signature=lof_pat<br>tsne1=%{x}<br>tsne2=%{y}<extra></extra>\",\"legendgroup\":\"hematological\",\"marker\":{\"color\":\"#EF553B\",\"symbol\":\"circle\"},\"mode\":\"markers\",\"name\":\"hematological\",\"orientation\":\"v\",\"showlegend\":false,\"x\":[-0.7028928399085999,1.6980608701705933,2.3051648139953613,3.0253820419311523,1.64405357837677,3.6304268836975098,1.9086488485336304,1.6573748588562012,1.586472749710083,1.1628775596618652,0.7519781589508057,-0.04431137442588806],\"xaxis\":\"x4\",\"y\":[-6.226865291595459,-10.723541259765625,-5.587414741516113,-8.025375366210938,-9.218836784362793,-9.312102317810059,-9.409685134887695,-9.187765121459961,-9.726492881774902,-8.702047348022461,-8.95170783996582,-9.66951847076416],\"yaxis\":\"y4\",\"type\":\"scatter\"},{\"hovertemplate\":\"cancer_type=liver<br>signature=all<br>tsne1=%{x}<br>tsne2=%{y}<extra></extra>\",\"legendgroup\":\"liver\",\"marker\":{\"color\":\"#00cc96\",\"symbol\":\"circle\"},\"mode\":\"markers\",\"name\":\"liver\",\"orientation\":\"v\",\"showlegend\":true,\"x\":[-0.5067684650421143,0.0038011011201888323,0.6004086136817932],\"xaxis\":\"x5\",\"y\":[0.816514790058136,0.8569862842559814,-0.804161012172699],\"yaxis\":\"y5\",\"type\":\"scatter\"},{\"hovertemplate\":\"cancer_type=liver<br>signature=exp<br>tsne1=%{x}<br>tsne2=%{y}<extra></extra>\",\"legendgroup\":\"liver\",\"marker\":{\"color\":\"#00cc96\",\"symbol\":\"circle\"},\"mode\":\"markers\",\"name\":\"liver\",\"orientation\":\"v\",\"showlegend\":false,\"x\":[2.172959089279175,1.849312424659729,-1.8279445171356201],\"xaxis\":\"x6\",\"y\":[0.9687349200248718,1.0161508321762085,1.2383931875228882],\"yaxis\":\"y6\",\"type\":\"scatter\"},{\"hovertemplate\":\"cancer_type=liver<br>signature=cnv<br>tsne1=%{x}<br>tsne2=%{y}<extra></extra>\",\"legendgroup\":\"liver\",\"marker\":{\"color\":\"#00cc96\",\"symbol\":\"circle\"},\"mode\":\"markers\",\"name\":\"liver\",\"orientation\":\"v\",\"showlegend\":false,\"x\":[-0.49159446358680725,-1.264857530593872,-1.8201757669448853],\"xaxis\":\"x7\",\"y\":[-0.2539490759372711,1.2013027667999268,1.5433398485183716],\"yaxis\":\"y7\",\"type\":\"scatter\"},{\"hovertemplate\":\"cancer_type=liver<br>signature=snv<br>tsne1=%{x}<br>tsne2=%{y}<extra></extra>\",\"legendgroup\":\"liver\",\"marker\":{\"color\":\"#00cc96\",\"symbol\":\"circle\"},\"mode\":\"markers\",\"name\":\"liver\",\"orientation\":\"v\",\"showlegend\":false,\"x\":[2.2800638675689697,-0.2611243724822998,1.0637667179107666],\"xaxis\":\"x8\",\"y\":[2.3640339374542236,0.9546688795089722,1.9352083206176758],\"yaxis\":\"y8\",\"type\":\"scatter\"},{\"hovertemplate\":\"cancer_type=liver<br>signature=lof<br>tsne1=%{x}<br>tsne2=%{y}<extra></extra>\",\"legendgroup\":\"liver\",\"marker\":{\"color\":\"#00cc96\",\"symbol\":\"circle\"},\"mode\":\"markers\",\"name\":\"liver\",\"orientation\":\"v\",\"showlegend\":false,\"x\":[-0.5566081404685974,0.18750135600566864,0.5994381308555603],\"xaxis\":\"x\",\"y\":[2.5141706466674805,3.234583616256714,3.959470272064209],\"yaxis\":\"y\",\"type\":\"scatter\"},{\"hovertemplate\":\"cancer_type=liver<br>signature=ddr<br>tsne1=%{x}<br>tsne2=%{y}<extra></extra>\",\"legendgroup\":\"liver\",\"marker\":{\"color\":\"#00cc96\",\"symbol\":\"circle\"},\"mode\":\"markers\",\"name\":\"liver\",\"orientation\":\"v\",\"showlegend\":false,\"x\":[1.7567353248596191,4.425689220428467,-0.1355951428413391],\"xaxis\":\"x2\",\"y\":[2.652438163757324,1.7107638120651245,1.3202745914459229],\"yaxis\":\"y2\",\"type\":\"scatter\"},{\"hovertemplate\":\"cancer_type=liver<br>signature=coh_pat<br>tsne1=%{x}<br>tsne2=%{y}<extra></extra>\",\"legendgroup\":\"liver\",\"marker\":{\"color\":\"#00cc96\",\"symbol\":\"circle\"},\"mode\":\"markers\",\"name\":\"liver\",\"orientation\":\"v\",\"showlegend\":false,\"x\":[-1.016412615776062,-0.3764161467552185,4.019863605499268],\"xaxis\":\"x3\",\"y\":[1.8006212711334229,1.8545395135879517,-1.320823073387146],\"yaxis\":\"y3\",\"type\":\"scatter\"},{\"hovertemplate\":\"cancer_type=liver<br>signature=lof_pat<br>tsne1=%{x}<br>tsne2=%{y}<extra></extra>\",\"legendgroup\":\"liver\",\"marker\":{\"color\":\"#00cc96\",\"symbol\":\"circle\"},\"mode\":\"markers\",\"name\":\"liver\",\"orientation\":\"v\",\"showlegend\":false,\"x\":[1.4935969114303589,0.09939548373222351,3.9137134552001953],\"xaxis\":\"x4\",\"y\":[-8.863977432250977,-8.480039596557617,-8.435226440429688],\"yaxis\":\"y4\",\"type\":\"scatter\"},{\"hovertemplate\":\"cancer_type=brain<br>signature=all<br>tsne1=%{x}<br>tsne2=%{y}<extra></extra>\",\"legendgroup\":\"brain\",\"marker\":{\"color\":\"#ab63fa\",\"symbol\":\"circle\"},\"mode\":\"markers\",\"name\":\"brain\",\"orientation\":\"v\",\"showlegend\":true,\"x\":[-0.43452244997024536,-0.6745837330818176,-0.09490698575973511,-0.08500269055366516],\"xaxis\":\"x5\",\"y\":[0.05958016216754913,-0.25065016746520996,-1.6674596071243286,-0.5434806942939758],\"yaxis\":\"y5\",\"type\":\"scatter\"},{\"hovertemplate\":\"cancer_type=brain<br>signature=exp<br>tsne1=%{x}<br>tsne2=%{y}<extra></extra>\",\"legendgroup\":\"brain\",\"marker\":{\"color\":\"#ab63fa\",\"symbol\":\"circle\"},\"mode\":\"markers\",\"name\":\"brain\",\"orientation\":\"v\",\"showlegend\":false,\"x\":[-2.3799195289611816,-1.9987584352493286,-3.2425122261047363,-3.1212470531463623],\"xaxis\":\"x6\",\"y\":[1.01101815700531,0.8624823093414307,1.1481033563613892,1.3637315034866333],\"yaxis\":\"y6\",\"type\":\"scatter\"},{\"hovertemplate\":\"cancer_type=brain<br>signature=cnv<br>tsne1=%{x}<br>tsne2=%{y}<extra></extra>\",\"legendgroup\":\"brain\",\"marker\":{\"color\":\"#ab63fa\",\"symbol\":\"circle\"},\"mode\":\"markers\",\"name\":\"brain\",\"orientation\":\"v\",\"showlegend\":false,\"x\":[-2.6673965454101562,-0.7032763957977295,-1.2813559770584106,-1.506120204925537],\"xaxis\":\"x7\",\"y\":[0.3978896737098694,-0.024106184020638466,1.6340653896331787,0.8218405842781067],\"yaxis\":\"y7\",\"type\":\"scatter\"},{\"hovertemplate\":\"cancer_type=brain<br>signature=snv<br>tsne1=%{x}<br>tsne2=%{y}<extra></extra>\",\"legendgroup\":\"brain\",\"marker\":{\"color\":\"#ab63fa\",\"symbol\":\"circle\"},\"mode\":\"markers\",\"name\":\"brain\",\"orientation\":\"v\",\"showlegend\":false,\"x\":[1.6184754371643066,1.0129314661026,1.0230801105499268,1.0468096733093262],\"xaxis\":\"x8\",\"y\":[1.6629835367202759,1.9671900272369385,1.9904611110687256,1.9578033685684204],\"yaxis\":\"y8\",\"type\":\"scatter\"},{\"hovertemplate\":\"cancer_type=brain<br>signature=lof<br>tsne1=%{x}<br>tsne2=%{y}<extra></extra>\",\"legendgroup\":\"brain\",\"marker\":{\"color\":\"#ab63fa\",\"symbol\":\"circle\"},\"mode\":\"markers\",\"name\":\"brain\",\"orientation\":\"v\",\"showlegend\":false,\"x\":[-0.6075640916824341,-1.718875527381897,-2.377584457397461,-1.6793407201766968],\"xaxis\":\"x\",\"y\":[1.8945120573043823,2.7834792137145996,3.895068645477295,2.1621973514556885],\"yaxis\":\"y\",\"type\":\"scatter\"},{\"hovertemplate\":\"cancer_type=brain<br>signature=ddr<br>tsne1=%{x}<br>tsne2=%{y}<extra></extra>\",\"legendgroup\":\"brain\",\"marker\":{\"color\":\"#ab63fa\",\"symbol\":\"circle\"},\"mode\":\"markers\",\"name\":\"brain\",\"orientation\":\"v\",\"showlegend\":false,\"x\":[1.4518071413040161,0.9048780798912048,-0.5904417634010315,2.181918144226074],\"xaxis\":\"x2\",\"y\":[3.285223960876465,1.8909205198287964,2.4437029361724854,3.4489614963531494],\"yaxis\":\"y2\",\"type\":\"scatter\"},{\"hovertemplate\":\"cancer_type=brain<br>signature=coh_pat<br>tsne1=%{x}<br>tsne2=%{y}<extra></extra>\",\"legendgroup\":\"brain\",\"marker\":{\"color\":\"#ab63fa\",\"symbol\":\"circle\"},\"mode\":\"markers\",\"name\":\"brain\",\"orientation\":\"v\",\"showlegend\":false,\"x\":[1.8544042110443115,2.229067325592041,3.390296220779419,2.022298812866211],\"xaxis\":\"x3\",\"y\":[-1.1158605813980103,-0.49643296003341675,-0.42488542199134827,-0.05257677286863327],\"yaxis\":\"y3\",\"type\":\"scatter\"},{\"hovertemplate\":\"cancer_type=brain<br>signature=lof_pat<br>tsne1=%{x}<br>tsne2=%{y}<extra></extra>\",\"legendgroup\":\"brain\",\"marker\":{\"color\":\"#ab63fa\",\"symbol\":\"circle\"},\"mode\":\"markers\",\"name\":\"brain\",\"orientation\":\"v\",\"showlegend\":false,\"x\":[2.6848909854888916,1.4413535594940186,1.4688894748687744,0.8424227237701416],\"xaxis\":\"x4\",\"y\":[-8.321366310119629,-6.245624542236328,-5.042860507965088,-7.09020471572876],\"yaxis\":\"y4\",\"type\":\"scatter\"}],                        {\"template\":{\"data\":{\"histogram2dcontour\":[{\"type\":\"histogram2dcontour\",\"colorbar\":{\"outlinewidth\":0,\"ticks\":\"\"},\"colorscale\":[[0.0,\"#0d0887\"],[0.1111111111111111,\"#46039f\"],[0.2222222222222222,\"#7201a8\"],[0.3333333333333333,\"#9c179e\"],[0.4444444444444444,\"#bd3786\"],[0.5555555555555556,\"#d8576b\"],[0.6666666666666666,\"#ed7953\"],[0.7777777777777778,\"#fb9f3a\"],[0.8888888888888888,\"#fdca26\"],[1.0,\"#f0f921\"]]}],\"choropleth\":[{\"type\":\"choropleth\",\"colorbar\":{\"outlinewidth\":0,\"ticks\":\"\"}}],\"histogram2d\":[{\"type\":\"histogram2d\",\"colorbar\":{\"outlinewidth\":0,\"ticks\":\"\"},\"colorscale\":[[0.0,\"#0d0887\"],[0.1111111111111111,\"#46039f\"],[0.2222222222222222,\"#7201a8\"],[0.3333333333333333,\"#9c179e\"],[0.4444444444444444,\"#bd3786\"],[0.5555555555555556,\"#d8576b\"],[0.6666666666666666,\"#ed7953\"],[0.7777777777777778,\"#fb9f3a\"],[0.8888888888888888,\"#fdca26\"],[1.0,\"#f0f921\"]]}],\"heatmap\":[{\"type\":\"heatmap\",\"colorbar\":{\"outlinewidth\":0,\"ticks\":\"\"},\"colorscale\":[[0.0,\"#0d0887\"],[0.1111111111111111,\"#46039f\"],[0.2222222222222222,\"#7201a8\"],[0.3333333333333333,\"#9c179e\"],[0.4444444444444444,\"#bd3786\"],[0.5555555555555556,\"#d8576b\"],[0.6666666666666666,\"#ed7953\"],[0.7777777777777778,\"#fb9f3a\"],[0.8888888888888888,\"#fdca26\"],[1.0,\"#f0f921\"]]}],\"heatmapgl\":[{\"type\":\"heatmapgl\",\"colorbar\":{\"outlinewidth\":0,\"ticks\":\"\"},\"colorscale\":[[0.0,\"#0d0887\"],[0.1111111111111111,\"#46039f\"],[0.2222222222222222,\"#7201a8\"],[0.3333333333333333,\"#9c179e\"],[0.4444444444444444,\"#bd3786\"],[0.5555555555555556,\"#d8576b\"],[0.6666666666666666,\"#ed7953\"],[0.7777777777777778,\"#fb9f3a\"],[0.8888888888888888,\"#fdca26\"],[1.0,\"#f0f921\"]]}],\"contourcarpet\":[{\"type\":\"contourcarpet\",\"colorbar\":{\"outlinewidth\":0,\"ticks\":\"\"}}],\"contour\":[{\"type\":\"contour\",\"colorbar\":{\"outlinewidth\":0,\"ticks\":\"\"},\"colorscale\":[[0.0,\"#0d0887\"],[0.1111111111111111,\"#46039f\"],[0.2222222222222222,\"#7201a8\"],[0.3333333333333333,\"#9c179e\"],[0.4444444444444444,\"#bd3786\"],[0.5555555555555556,\"#d8576b\"],[0.6666666666666666,\"#ed7953\"],[0.7777777777777778,\"#fb9f3a\"],[0.8888888888888888,\"#fdca26\"],[1.0,\"#f0f921\"]]}],\"surface\":[{\"type\":\"surface\",\"colorbar\":{\"outlinewidth\":0,\"ticks\":\"\"},\"colorscale\":[[0.0,\"#0d0887\"],[0.1111111111111111,\"#46039f\"],[0.2222222222222222,\"#7201a8\"],[0.3333333333333333,\"#9c179e\"],[0.4444444444444444,\"#bd3786\"],[0.5555555555555556,\"#d8576b\"],[0.6666666666666666,\"#ed7953\"],[0.7777777777777778,\"#fb9f3a\"],[0.8888888888888888,\"#fdca26\"],[1.0,\"#f0f921\"]]}],\"mesh3d\":[{\"type\":\"mesh3d\",\"colorbar\":{\"outlinewidth\":0,\"ticks\":\"\"}}],\"scatter\":[{\"fillpattern\":{\"fillmode\":\"overlay\",\"size\":10,\"solidity\":0.2},\"type\":\"scatter\"}],\"parcoords\":[{\"type\":\"parcoords\",\"line\":{\"colorbar\":{\"outlinewidth\":0,\"ticks\":\"\"}}}],\"scatterpolargl\":[{\"type\":\"scatterpolargl\",\"marker\":{\"colorbar\":{\"outlinewidth\":0,\"ticks\":\"\"}}}],\"bar\":[{\"error_x\":{\"color\":\"#2a3f5f\"},\"error_y\":{\"color\":\"#2a3f5f\"},\"marker\":{\"line\":{\"color\":\"#E5ECF6\",\"width\":0.5},\"pattern\":{\"fillmode\":\"overlay\",\"size\":10,\"solidity\":0.2}},\"type\":\"bar\"}],\"scattergeo\":[{\"type\":\"scattergeo\",\"marker\":{\"colorbar\":{\"outlinewidth\":0,\"ticks\":\"\"}}}],\"scatterpolar\":[{\"type\":\"scatterpolar\",\"marker\":{\"colorbar\":{\"outlinewidth\":0,\"ticks\":\"\"}}}],\"histogram\":[{\"marker\":{\"pattern\":{\"fillmode\":\"overlay\",\"size\":10,\"solidity\":0.2}},\"type\":\"histogram\"}],\"scattergl\":[{\"type\":\"scattergl\",\"marker\":{\"colorbar\":{\"outlinewidth\":0,\"ticks\":\"\"}}}],\"scatter3d\":[{\"type\":\"scatter3d\",\"line\":{\"colorbar\":{\"outlinewidth\":0,\"ticks\":\"\"}},\"marker\":{\"colorbar\":{\"outlinewidth\":0,\"ticks\":\"\"}}}],\"scattermapbox\":[{\"type\":\"scattermapbox\",\"marker\":{\"colorbar\":{\"outlinewidth\":0,\"ticks\":\"\"}}}],\"scatterternary\":[{\"type\":\"scatterternary\",\"marker\":{\"colorbar\":{\"outlinewidth\":0,\"ticks\":\"\"}}}],\"scattercarpet\":[{\"type\":\"scattercarpet\",\"marker\":{\"colorbar\":{\"outlinewidth\":0,\"ticks\":\"\"}}}],\"carpet\":[{\"aaxis\":{\"endlinecolor\":\"#2a3f5f\",\"gridcolor\":\"white\",\"linecolor\":\"white\",\"minorgridcolor\":\"white\",\"startlinecolor\":\"#2a3f5f\"},\"baxis\":{\"endlinecolor\":\"#2a3f5f\",\"gridcolor\":\"white\",\"linecolor\":\"white\",\"minorgridcolor\":\"white\",\"startlinecolor\":\"#2a3f5f\"},\"type\":\"carpet\"}],\"table\":[{\"cells\":{\"fill\":{\"color\":\"#EBF0F8\"},\"line\":{\"color\":\"white\"}},\"header\":{\"fill\":{\"color\":\"#C8D4E3\"},\"line\":{\"color\":\"white\"}},\"type\":\"table\"}],\"barpolar\":[{\"marker\":{\"line\":{\"color\":\"#E5ECF6\",\"width\":0.5},\"pattern\":{\"fillmode\":\"overlay\",\"size\":10,\"solidity\":0.2}},\"type\":\"barpolar\"}],\"pie\":[{\"automargin\":true,\"type\":\"pie\"}]},\"layout\":{\"autotypenumbers\":\"strict\",\"colorway\":[\"#636efa\",\"#EF553B\",\"#00cc96\",\"#ab63fa\",\"#FFA15A\",\"#19d3f3\",\"#FF6692\",\"#B6E880\",\"#FF97FF\",\"#FECB52\"],\"font\":{\"color\":\"#2a3f5f\"},\"hovermode\":\"closest\",\"hoverlabel\":{\"align\":\"left\"},\"paper_bgcolor\":\"white\",\"plot_bgcolor\":\"#E5ECF6\",\"polar\":{\"bgcolor\":\"#E5ECF6\",\"angularaxis\":{\"gridcolor\":\"white\",\"linecolor\":\"white\",\"ticks\":\"\"},\"radialaxis\":{\"gridcolor\":\"white\",\"linecolor\":\"white\",\"ticks\":\"\"}},\"ternary\":{\"bgcolor\":\"#E5ECF6\",\"aaxis\":{\"gridcolor\":\"white\",\"linecolor\":\"white\",\"ticks\":\"\"},\"baxis\":{\"gridcolor\":\"white\",\"linecolor\":\"white\",\"ticks\":\"\"},\"caxis\":{\"gridcolor\":\"white\",\"linecolor\":\"white\",\"ticks\":\"\"}},\"coloraxis\":{\"colorbar\":{\"outlinewidth\":0,\"ticks\":\"\"}},\"colorscale\":{\"sequential\":[[0.0,\"#0d0887\"],[0.1111111111111111,\"#46039f\"],[0.2222222222222222,\"#7201a8\"],[0.3333333333333333,\"#9c179e\"],[0.4444444444444444,\"#bd3786\"],[0.5555555555555556,\"#d8576b\"],[0.6666666666666666,\"#ed7953\"],[0.7777777777777778,\"#fb9f3a\"],[0.8888888888888888,\"#fdca26\"],[1.0,\"#f0f921\"]],\"sequentialminus\":[[0.0,\"#0d0887\"],[0.1111111111111111,\"#46039f\"],[0.2222222222222222,\"#7201a8\"],[0.3333333333333333,\"#9c179e\"],[0.4444444444444444,\"#bd3786\"],[0.5555555555555556,\"#d8576b\"],[0.6666666666666666,\"#ed7953\"],[0.7777777777777778,\"#fb9f3a\"],[0.8888888888888888,\"#fdca26\"],[1.0,\"#f0f921\"]],\"diverging\":[[0,\"#8e0152\"],[0.1,\"#c51b7d\"],[0.2,\"#de77ae\"],[0.3,\"#f1b6da\"],[0.4,\"#fde0ef\"],[0.5,\"#f7f7f7\"],[0.6,\"#e6f5d0\"],[0.7,\"#b8e186\"],[0.8,\"#7fbc41\"],[0.9,\"#4d9221\"],[1,\"#276419\"]]},\"xaxis\":{\"gridcolor\":\"white\",\"linecolor\":\"white\",\"ticks\":\"\",\"title\":{\"standoff\":15},\"zerolinecolor\":\"white\",\"automargin\":true,\"zerolinewidth\":2},\"yaxis\":{\"gridcolor\":\"white\",\"linecolor\":\"white\",\"ticks\":\"\",\"title\":{\"standoff\":15},\"zerolinecolor\":\"white\",\"automargin\":true,\"zerolinewidth\":2},\"scene\":{\"xaxis\":{\"backgroundcolor\":\"#E5ECF6\",\"gridcolor\":\"white\",\"linecolor\":\"white\",\"showbackground\":true,\"ticks\":\"\",\"zerolinecolor\":\"white\",\"gridwidth\":2},\"yaxis\":{\"backgroundcolor\":\"#E5ECF6\",\"gridcolor\":\"white\",\"linecolor\":\"white\",\"showbackground\":true,\"ticks\":\"\",\"zerolinecolor\":\"white\",\"gridwidth\":2},\"zaxis\":{\"backgroundcolor\":\"#E5ECF6\",\"gridcolor\":\"white\",\"linecolor\":\"white\",\"showbackground\":true,\"ticks\":\"\",\"zerolinecolor\":\"white\",\"gridwidth\":2}},\"shapedefaults\":{\"line\":{\"color\":\"#2a3f5f\"}},\"annotationdefaults\":{\"arrowcolor\":\"#2a3f5f\",\"arrowhead\":0,\"arrowwidth\":1},\"geo\":{\"bgcolor\":\"white\",\"landcolor\":\"#E5ECF6\",\"subunitcolor\":\"white\",\"showland\":true,\"showlakes\":true,\"lakecolor\":\"white\"},\"title\":{\"x\":0.05},\"mapbox\":{\"style\":\"light\"}}},\"xaxis\":{\"anchor\":\"y\",\"domain\":[0.0,0.235],\"title\":{\"text\":\"tsne1\"}},\"yaxis\":{\"anchor\":\"x\",\"domain\":[0.0,0.46499999999999997],\"title\":{\"text\":\"tsne2\"}},\"xaxis2\":{\"anchor\":\"y2\",\"domain\":[0.255,0.49],\"title\":{\"text\":\"tsne1\"}},\"yaxis2\":{\"anchor\":\"x2\",\"domain\":[0.0,0.46499999999999997],\"showticklabels\":false},\"xaxis3\":{\"anchor\":\"y3\",\"domain\":[0.51,0.745],\"title\":{\"text\":\"tsne1\"}},\"yaxis3\":{\"anchor\":\"x3\",\"domain\":[0.0,0.46499999999999997],\"showticklabels\":false},\"xaxis4\":{\"anchor\":\"y4\",\"domain\":[0.7649999999999999,0.9999999999999999],\"title\":{\"text\":\"tsne1\"}},\"yaxis4\":{\"anchor\":\"x4\",\"domain\":[0.0,0.46499999999999997],\"showticklabels\":false},\"xaxis5\":{\"anchor\":\"y5\",\"domain\":[0.0,0.235],\"showticklabels\":false},\"yaxis5\":{\"anchor\":\"x5\",\"domain\":[0.5349999999999999,0.9999999999999999],\"title\":{\"text\":\"tsne2\"}},\"xaxis6\":{\"anchor\":\"y6\",\"domain\":[0.255,0.49],\"showticklabels\":false},\"yaxis6\":{\"anchor\":\"x6\",\"domain\":[0.5349999999999999,0.9999999999999999],\"showticklabels\":false},\"xaxis7\":{\"anchor\":\"y7\",\"domain\":[0.51,0.745],\"showticklabels\":false},\"yaxis7\":{\"anchor\":\"x7\",\"domain\":[0.5349999999999999,0.9999999999999999],\"showticklabels\":false},\"xaxis8\":{\"anchor\":\"y8\",\"domain\":[0.7649999999999999,0.9999999999999999],\"showticklabels\":false},\"yaxis8\":{\"anchor\":\"x8\",\"domain\":[0.5349999999999999,0.9999999999999999],\"showticklabels\":false},\"annotations\":[{\"font\":{},\"showarrow\":false,\"text\":\"signature=lof\",\"x\":0.1175,\"xanchor\":\"center\",\"xref\":\"paper\",\"y\":0.46499999999999997,\"yanchor\":\"bottom\",\"yref\":\"paper\"},{\"font\":{},\"showarrow\":false,\"text\":\"signature=ddr\",\"x\":0.3725,\"xanchor\":\"center\",\"xref\":\"paper\",\"y\":0.46499999999999997,\"yanchor\":\"bottom\",\"yref\":\"paper\"},{\"font\":{},\"showarrow\":false,\"text\":\"signature=coh_pat\",\"x\":0.6275,\"xanchor\":\"center\",\"xref\":\"paper\",\"y\":0.46499999999999997,\"yanchor\":\"bottom\",\"yref\":\"paper\"},{\"font\":{},\"showarrow\":false,\"text\":\"signature=lof_pat\",\"x\":0.8824999999999998,\"xanchor\":\"center\",\"xref\":\"paper\",\"y\":0.46499999999999997,\"yanchor\":\"bottom\",\"yref\":\"paper\"},{\"font\":{},\"showarrow\":false,\"text\":\"signature=all\",\"x\":0.1175,\"xanchor\":\"center\",\"xref\":\"paper\",\"y\":0.9999999999999999,\"yanchor\":\"bottom\",\"yref\":\"paper\"},{\"font\":{},\"showarrow\":false,\"text\":\"signature=exp\",\"x\":0.3725,\"xanchor\":\"center\",\"xref\":\"paper\",\"y\":0.9999999999999999,\"yanchor\":\"bottom\",\"yref\":\"paper\"},{\"font\":{},\"showarrow\":false,\"text\":\"signature=cnv\",\"x\":0.6275,\"xanchor\":\"center\",\"xref\":\"paper\",\"y\":0.9999999999999999,\"yanchor\":\"bottom\",\"yref\":\"paper\"},{\"font\":{},\"showarrow\":false,\"text\":\"signature=snv\",\"x\":0.8824999999999998,\"xanchor\":\"center\",\"xref\":\"paper\",\"y\":0.9999999999999999,\"yanchor\":\"bottom\",\"yref\":\"paper\"}],\"legend\":{\"title\":{\"text\":\"cancer_type\"},\"tracegroupgap\":0},\"margin\":{\"t\":60},\"height\":600,\"width\":1200},                        {\"responsive\": true}                    ).then(function(){\n",
       "                            \n",
       "var gd = document.getElementById('48ed02da-6c9f-4ce4-a023-2e78c4b8aae4');\n",
       "var x = new MutationObserver(function (mutations, observer) {{\n",
       "        var display = window.getComputedStyle(gd).display;\n",
       "        if (!display || display === 'none') {{\n",
       "            console.log([gd, 'removed!']);\n",
       "            Plotly.purge(gd);\n",
       "            observer.disconnect();\n",
       "        }}\n",
       "}});\n",
       "\n",
       "// Listen for the removal of the full notebook cells\n",
       "var notebookContainer = gd.closest('#notebook-container');\n",
       "if (notebookContainer) {{\n",
       "    x.observe(notebookContainer, {childList: true});\n",
       "}}\n",
       "\n",
       "// Listen for the clearing of the current output cell\n",
       "var outputEl = gd.closest('.output');\n",
       "if (outputEl) {{\n",
       "    x.observe(outputEl, {childList: true});\n",
       "}}\n",
       "\n",
       "                        })                };                });            </script>        </div>"
      ]
     },
     "metadata": {},
     "output_type": "display_data"
    }
   ],
   "source": [
    "# plot clustering of cell lines in tsne with different features\n",
    "os.makedirs('./figures', exist_ok=True)\n",
    "os.makedirs('./figures/tsne_original', exist_ok=True)\n",
    "all_tsne = tsne(df_mol,r= 100)\n",
    "exp_tsne = tsne(df_mol, '_exp')\n",
    "cnv_tsne = tsne(df_mol, '_cnv')\n",
    "snv_tsne = tsne(df_mol, '_snv')\n",
    "lof_tsne = tsne(df_mol, '_lof')\n",
    "ddr_tsne = tsne(df_mol, '_ddr')\n",
    "#coh_pat_tsne = tsne(df_mol, '__coh_pat')\n",
    "lof_pat_tsne = tsne(df_mol, '__lof_pat')\n",
    "tsne_all = pd.concat([all_tsne, exp_tsne, cnv_tsne, snv_tsne, lof_tsne, ddr_tsne, coh_pat_tsne, lof_pat_tsne])\n",
    "tsne_all.to_csv('./figures/tsne_original/tsne_all.csv', index=False)\n",
    "fig = px.scatter(tsne_all, x=\"tsne1\", y=\"tsne2\", color=\"cancer_type\", facet_col='signature',facet_col_wrap=4, width=1200, height=600).update_yaxes(matches=None).update_xaxes(matches=None)\n",
    "fig.show()\n",
    "fig.write_image(\"./figures/tsne.pdf\")"
   ]
  },
  {
   "cell_type": "code",
   "execution_count": 140,
   "metadata": {},
   "outputs": [
    {
     "data": {
      "application/vnd.plotly.v1+json": {
       "config": {
        "plotlyServerURL": "https://plot.ly"
       },
       "data": [
        {
         "hovertemplate": "cancer_type=prostate<br>signature=all<br>tsne1=%{x}<br>tsne2=%{y}<extra></extra>",
         "legendgroup": "prostate",
         "marker": {
          "color": "#636efa",
          "size": 5,
          "symbol": "circle"
         },
         "mode": "markers",
         "name": "prostate",
         "orientation": "v",
         "showlegend": true,
         "type": "scatter",
         "x": [
          -2.8298420906066895,
          1.8521966934204102,
          1.5361469984054565
         ],
         "xaxis": "x",
         "y": [
          1.4975316524505615,
          1.3301074504852295,
          -1.6163114309310913
         ],
         "yaxis": "y"
        },
        {
         "hovertemplate": "cancer_type=bladder<br>signature=all<br>tsne1=%{x}<br>tsne2=%{y}<extra></extra>",
         "legendgroup": "bladder",
         "marker": {
          "color": "#EF553B",
          "size": 5,
          "symbol": "circle"
         },
         "mode": "markers",
         "name": "bladder",
         "orientation": "v",
         "showlegend": true,
         "type": "scatter",
         "x": [
          0.0014841194497421384,
          -0.1832498461008072,
          0.07522093504667282,
          -0.2569139003753662,
          -0.01395145058631897
         ],
         "xaxis": "x",
         "y": [
          -2.0077857971191406,
          0.049128081649541855,
          -0.2375144362449646,
          0.2928873300552368,
          -0.5761716961860657
         ],
         "yaxis": "y"
        },
        {
         "hovertemplate": "cancer_type=kidney<br>signature=all<br>tsne1=%{x}<br>tsne2=%{y}<extra></extra>",
         "legendgroup": "kidney",
         "marker": {
          "color": "#00cc96",
          "size": 5,
          "symbol": "circle"
         },
         "mode": "markers",
         "name": "kidney",
         "orientation": "v",
         "showlegend": true,
         "type": "scatter",
         "x": [
          0.05924491584300995,
          0.29100996255874634,
          0.7193372845649719,
          -1.3416810035705566,
          -0.09510257840156555
         ],
         "xaxis": "x",
         "y": [
          -0.2299298644065857,
          0.880831241607666,
          -0.25928422808647156,
          0.8472264409065247,
          0.26445844769477844
         ],
         "yaxis": "y"
        },
        {
         "hovertemplate": "cancer_type=sarcoma<br>signature=all<br>tsne1=%{x}<br>tsne2=%{y}<extra></extra>",
         "legendgroup": "sarcoma",
         "marker": {
          "color": "#ab63fa",
          "size": 5,
          "symbol": "circle"
         },
         "mode": "markers",
         "name": "sarcoma",
         "orientation": "v",
         "showlegend": true,
         "type": "scatter",
         "x": [
          -0.5546467304229736,
          -1.0863724946975708,
          -0.5692156553268433,
          -0.18283851444721222,
          -0.8323485851287842,
          -1.4067879915237427,
          -1.0913387537002563,
          -1.8227791786193848,
          -0.7236708402633667,
          -0.08736076951026917,
          -1.14689040184021,
          -0.631963312625885
         ],
         "xaxis": "x",
         "y": [
          0.3854164779186249,
          0.8300286531448364,
          -1.1029316186904907,
          0.054715752601623535,
          2.3066585063934326,
          1.3475298881530762,
          1.2669758796691895,
          1.9174280166625977,
          1.376352310180664,
          -0.9332325458526611,
          1.3093883991241455,
          -0.698137640953064
         ],
         "yaxis": "y"
        },
        {
         "hovertemplate": "cancer_type=ovary<br>signature=all<br>tsne1=%{x}<br>tsne2=%{y}<extra></extra>",
         "legendgroup": "ovary",
         "marker": {
          "color": "#FFA15A",
          "size": 5,
          "symbol": "circle"
         },
         "mode": "markers",
         "name": "ovary",
         "orientation": "v",
         "showlegend": true,
         "type": "scatter",
         "x": [
          -0.9228426814079285,
          2.151611089706421,
          1.1944060325622559,
          1.9390711784362793,
          0.8864070177078247,
          -0.11544444411993027
         ],
         "xaxis": "x",
         "y": [
          0.5818793177604675,
          -0.35541605949401855,
          1.8112308979034424,
          0.4269372820854187,
          -2.112945318222046,
          1.7812546491622925
         ],
         "yaxis": "y"
        },
        {
         "hovertemplate": "cancer_type=melanoma<br>signature=all<br>tsne1=%{x}<br>tsne2=%{y}<extra></extra>",
         "legendgroup": "melanoma",
         "marker": {
          "color": "#19d3f3",
          "size": 5,
          "symbol": "circle"
         },
         "mode": "markers",
         "name": "melanoma",
         "orientation": "v",
         "showlegend": true,
         "type": "scatter",
         "x": [
          0.9886105060577393,
          -2.3397603034973145,
          -1.1917372941970825,
          -1.1353559494018555
         ],
         "xaxis": "x",
         "y": [
          -1.1683604717254639,
          -2.7368552684783936,
          -1.389585256576538,
          -1.3468897342681885
         ],
         "yaxis": "y"
        },
        {
         "hovertemplate": "cancer_type=lung<br>signature=all<br>tsne1=%{x}<br>tsne2=%{y}<extra></extra>",
         "legendgroup": "lung",
         "marker": {
          "color": "#FF6692",
          "size": 5,
          "symbol": "circle"
         },
         "mode": "markers",
         "name": "lung",
         "orientation": "v",
         "showlegend": true,
         "type": "scatter",
         "x": [
          1.3967034816741943,
          1.2462040185928345,
          0.40511009097099304,
          -1.0117210149765015,
          -0.6895765662193298,
          -1.5995266437530518
         ],
         "xaxis": "x",
         "y": [
          -1.0068937540054321,
          -0.9402382373809814,
          0.23504817485809326,
          -0.6736080050468445,
          0.5494954586029053,
          0.7606604695320129
         ],
         "yaxis": "y"
        },
        {
         "hovertemplate": "cancer_type=pancreas<br>signature=all<br>tsne1=%{x}<br>tsne2=%{y}<extra></extra>",
         "legendgroup": "pancreas",
         "marker": {
          "color": "#B6E880",
          "size": 5,
          "symbol": "circle"
         },
         "mode": "markers",
         "name": "pancreas",
         "orientation": "v",
         "showlegend": true,
         "type": "scatter",
         "x": [
          0.3574100136756897,
          0.012012623250484467,
          -0.15021465718746185,
          1.7676631212234497,
          1.1244215965270996
         ],
         "xaxis": "x",
         "y": [
          1.018939733505249,
          0.3420470058917999,
          -2.0948445796966553,
          -0.4227069318294525,
          -0.6170178651809692
         ],
         "yaxis": "y"
        },
        {
         "hovertemplate": "cancer_type=breast<br>signature=all<br>tsne1=%{x}<br>tsne2=%{y}<extra></extra>",
         "legendgroup": "breast",
         "marker": {
          "color": "#FF97FF",
          "size": 5,
          "symbol": "circle"
         },
         "mode": "markers",
         "name": "breast",
         "orientation": "v",
         "showlegend": true,
         "type": "scatter",
         "x": [
          0.17112982273101807,
          -0.31104177236557007,
          0.7043118476867676,
          -1.2374138832092285,
          0.5302276015281677,
          -0.23647184669971466,
          -0.26365983486175537,
          0.7062210440635681
         ],
         "xaxis": "x",
         "y": [
          1.2051007747650146,
          0.04322829097509384,
          0.9786601066589355,
          2.7129342555999756,
          -1.475551724433899,
          2.5318851470947266,
          1.297020435333252,
          1.8439220190048218
         ],
         "yaxis": "y"
        },
        {
         "hovertemplate": "cancer_type=cervix<br>signature=all<br>tsne1=%{x}<br>tsne2=%{y}<extra></extra>",
         "legendgroup": "cervix",
         "marker": {
          "color": "#FECB52",
          "size": 5,
          "symbol": "circle"
         },
         "mode": "markers",
         "name": "cervix",
         "orientation": "v",
         "showlegend": true,
         "type": "scatter",
         "x": [
          -2.1843314170837402,
          0.20728325843811035,
          -0.40404391288757324
         ],
         "xaxis": "x",
         "y": [
          1.621132493019104,
          0.006590546108782291,
          0.457950621843338
         ],
         "yaxis": "y"
        },
        {
         "hovertemplate": "cancer_type=colon<br>signature=all<br>tsne1=%{x}<br>tsne2=%{y}<extra></extra>",
         "legendgroup": "colon",
         "marker": {
          "color": "#636efa",
          "size": 5,
          "symbol": "circle"
         },
         "mode": "markers",
         "name": "colon",
         "orientation": "v",
         "showlegend": true,
         "type": "scatter",
         "x": [
          0.6995261907577515,
          1.1986843347549438,
          0.9118300676345825,
          -2.3442904949188232,
          0.5354079008102417,
          -2.338710069656372,
          1.0214542150497437,
          -1.775320053100586,
          -2.3659958839416504,
          -0.6369866728782654
         ],
         "xaxis": "x",
         "y": [
          0.10088130831718445,
          0.4920772612094879,
          0.6079342365264893,
          -2.7509377002716064,
          2.59720778465271,
          -2.7354259490966797,
          0.23747050762176514,
          -1.2052388191223145,
          -1.1936663389205933,
          0.44360417127609253
         ],
         "yaxis": "y"
        },
        {
         "hovertemplate": "cancer_type=hematological<br>signature=all<br>tsne1=%{x}<br>tsne2=%{y}<extra></extra>",
         "legendgroup": "hematological",
         "marker": {
          "color": "#EF553B",
          "size": 5,
          "symbol": "circle"
         },
         "mode": "markers",
         "name": "hematological",
         "orientation": "v",
         "showlegend": true,
         "type": "scatter",
         "x": [
          -2.043339490890503,
          -2.148895502090454,
          -2.9186501502990723,
          -1.7802822589874268,
          -1.7654155492782593,
          -2.3085153102874756,
          -1.535207748413086,
          -1.88209867477417,
          -2.0298070907592773,
          -2.217952013015747,
          -2.067918539047241,
          -2.7960503101348877
         ],
         "xaxis": "x",
         "y": [
          -0.08105915784835815,
          0.3499715030193329,
          0.586785614490509,
          0.22281384468078613,
          0.17229202389717102,
          0.024247024208307266,
          0.34118103981018066,
          0.178812637925148,
          0.11980662494897842,
          0.01133604347705841,
          0.6578335762023926,
          -0.15889638662338257
         ],
         "yaxis": "y"
        },
        {
         "hovertemplate": "cancer_type=liver<br>signature=all<br>tsne1=%{x}<br>tsne2=%{y}<extra></extra>",
         "legendgroup": "liver",
         "marker": {
          "color": "#00cc96",
          "size": 5,
          "symbol": "circle"
         },
         "mode": "markers",
         "name": "liver",
         "orientation": "v",
         "showlegend": true,
         "type": "scatter",
         "x": [
          -0.5067684650421143,
          0.0038011011201888323,
          0.6004086136817932
         ],
         "xaxis": "x",
         "y": [
          0.816514790058136,
          0.8569862842559814,
          -0.804161012172699
         ],
         "yaxis": "y"
        },
        {
         "hovertemplate": "cancer_type=brain<br>signature=all<br>tsne1=%{x}<br>tsne2=%{y}<extra></extra>",
         "legendgroup": "brain",
         "marker": {
          "color": "#ab63fa",
          "size": 5,
          "symbol": "circle"
         },
         "mode": "markers",
         "name": "brain",
         "orientation": "v",
         "showlegend": true,
         "type": "scatter",
         "x": [
          -0.43452244997024536,
          -0.6745837330818176,
          -0.09490698575973511,
          -0.08500269055366516
         ],
         "xaxis": "x",
         "y": [
          0.05958016216754913,
          -0.25065016746520996,
          -1.6674596071243286,
          -0.5434806942939758
         ],
         "yaxis": "y"
        }
       ],
       "layout": {
        "annotations": [
         {
          "font": {},
          "showarrow": false,
          "text": "signature=all",
          "x": 0.5,
          "xanchor": "center",
          "xref": "paper",
          "y": 1,
          "yanchor": "bottom",
          "yref": "paper"
         }
        ],
        "height": 190,
        "legend": {
         "title": {
          "text": "cancer_type"
         },
         "tracegroupgap": 0
        },
        "margin": {
         "b": 10,
         "l": 10,
         "r": 10,
         "t": 10
        },
        "template": {
         "data": {
          "bar": [
           {
            "error_x": {
             "color": "#2a3f5f"
            },
            "error_y": {
             "color": "#2a3f5f"
            },
            "marker": {
             "line": {
              "color": "#E5ECF6",
              "width": 0.5
             },
             "pattern": {
              "fillmode": "overlay",
              "size": 10,
              "solidity": 0.2
             }
            },
            "type": "bar"
           }
          ],
          "barpolar": [
           {
            "marker": {
             "line": {
              "color": "#E5ECF6",
              "width": 0.5
             },
             "pattern": {
              "fillmode": "overlay",
              "size": 10,
              "solidity": 0.2
             }
            },
            "type": "barpolar"
           }
          ],
          "carpet": [
           {
            "aaxis": {
             "endlinecolor": "#2a3f5f",
             "gridcolor": "white",
             "linecolor": "white",
             "minorgridcolor": "white",
             "startlinecolor": "#2a3f5f"
            },
            "baxis": {
             "endlinecolor": "#2a3f5f",
             "gridcolor": "white",
             "linecolor": "white",
             "minorgridcolor": "white",
             "startlinecolor": "#2a3f5f"
            },
            "type": "carpet"
           }
          ],
          "choropleth": [
           {
            "colorbar": {
             "outlinewidth": 0,
             "ticks": ""
            },
            "type": "choropleth"
           }
          ],
          "contour": [
           {
            "colorbar": {
             "outlinewidth": 0,
             "ticks": ""
            },
            "colorscale": [
             [
              0,
              "#0d0887"
             ],
             [
              0.1111111111111111,
              "#46039f"
             ],
             [
              0.2222222222222222,
              "#7201a8"
             ],
             [
              0.3333333333333333,
              "#9c179e"
             ],
             [
              0.4444444444444444,
              "#bd3786"
             ],
             [
              0.5555555555555556,
              "#d8576b"
             ],
             [
              0.6666666666666666,
              "#ed7953"
             ],
             [
              0.7777777777777778,
              "#fb9f3a"
             ],
             [
              0.8888888888888888,
              "#fdca26"
             ],
             [
              1,
              "#f0f921"
             ]
            ],
            "type": "contour"
           }
          ],
          "contourcarpet": [
           {
            "colorbar": {
             "outlinewidth": 0,
             "ticks": ""
            },
            "type": "contourcarpet"
           }
          ],
          "heatmap": [
           {
            "colorbar": {
             "outlinewidth": 0,
             "ticks": ""
            },
            "colorscale": [
             [
              0,
              "#0d0887"
             ],
             [
              0.1111111111111111,
              "#46039f"
             ],
             [
              0.2222222222222222,
              "#7201a8"
             ],
             [
              0.3333333333333333,
              "#9c179e"
             ],
             [
              0.4444444444444444,
              "#bd3786"
             ],
             [
              0.5555555555555556,
              "#d8576b"
             ],
             [
              0.6666666666666666,
              "#ed7953"
             ],
             [
              0.7777777777777778,
              "#fb9f3a"
             ],
             [
              0.8888888888888888,
              "#fdca26"
             ],
             [
              1,
              "#f0f921"
             ]
            ],
            "type": "heatmap"
           }
          ],
          "heatmapgl": [
           {
            "colorbar": {
             "outlinewidth": 0,
             "ticks": ""
            },
            "colorscale": [
             [
              0,
              "#0d0887"
             ],
             [
              0.1111111111111111,
              "#46039f"
             ],
             [
              0.2222222222222222,
              "#7201a8"
             ],
             [
              0.3333333333333333,
              "#9c179e"
             ],
             [
              0.4444444444444444,
              "#bd3786"
             ],
             [
              0.5555555555555556,
              "#d8576b"
             ],
             [
              0.6666666666666666,
              "#ed7953"
             ],
             [
              0.7777777777777778,
              "#fb9f3a"
             ],
             [
              0.8888888888888888,
              "#fdca26"
             ],
             [
              1,
              "#f0f921"
             ]
            ],
            "type": "heatmapgl"
           }
          ],
          "histogram": [
           {
            "marker": {
             "pattern": {
              "fillmode": "overlay",
              "size": 10,
              "solidity": 0.2
             }
            },
            "type": "histogram"
           }
          ],
          "histogram2d": [
           {
            "colorbar": {
             "outlinewidth": 0,
             "ticks": ""
            },
            "colorscale": [
             [
              0,
              "#0d0887"
             ],
             [
              0.1111111111111111,
              "#46039f"
             ],
             [
              0.2222222222222222,
              "#7201a8"
             ],
             [
              0.3333333333333333,
              "#9c179e"
             ],
             [
              0.4444444444444444,
              "#bd3786"
             ],
             [
              0.5555555555555556,
              "#d8576b"
             ],
             [
              0.6666666666666666,
              "#ed7953"
             ],
             [
              0.7777777777777778,
              "#fb9f3a"
             ],
             [
              0.8888888888888888,
              "#fdca26"
             ],
             [
              1,
              "#f0f921"
             ]
            ],
            "type": "histogram2d"
           }
          ],
          "histogram2dcontour": [
           {
            "colorbar": {
             "outlinewidth": 0,
             "ticks": ""
            },
            "colorscale": [
             [
              0,
              "#0d0887"
             ],
             [
              0.1111111111111111,
              "#46039f"
             ],
             [
              0.2222222222222222,
              "#7201a8"
             ],
             [
              0.3333333333333333,
              "#9c179e"
             ],
             [
              0.4444444444444444,
              "#bd3786"
             ],
             [
              0.5555555555555556,
              "#d8576b"
             ],
             [
              0.6666666666666666,
              "#ed7953"
             ],
             [
              0.7777777777777778,
              "#fb9f3a"
             ],
             [
              0.8888888888888888,
              "#fdca26"
             ],
             [
              1,
              "#f0f921"
             ]
            ],
            "type": "histogram2dcontour"
           }
          ],
          "mesh3d": [
           {
            "colorbar": {
             "outlinewidth": 0,
             "ticks": ""
            },
            "type": "mesh3d"
           }
          ],
          "parcoords": [
           {
            "line": {
             "colorbar": {
              "outlinewidth": 0,
              "ticks": ""
             }
            },
            "type": "parcoords"
           }
          ],
          "pie": [
           {
            "automargin": true,
            "type": "pie"
           }
          ],
          "scatter": [
           {
            "fillpattern": {
             "fillmode": "overlay",
             "size": 10,
             "solidity": 0.2
            },
            "type": "scatter"
           }
          ],
          "scatter3d": [
           {
            "line": {
             "colorbar": {
              "outlinewidth": 0,
              "ticks": ""
             }
            },
            "marker": {
             "colorbar": {
              "outlinewidth": 0,
              "ticks": ""
             }
            },
            "type": "scatter3d"
           }
          ],
          "scattercarpet": [
           {
            "marker": {
             "colorbar": {
              "outlinewidth": 0,
              "ticks": ""
             }
            },
            "type": "scattercarpet"
           }
          ],
          "scattergeo": [
           {
            "marker": {
             "colorbar": {
              "outlinewidth": 0,
              "ticks": ""
             }
            },
            "type": "scattergeo"
           }
          ],
          "scattergl": [
           {
            "marker": {
             "colorbar": {
              "outlinewidth": 0,
              "ticks": ""
             }
            },
            "type": "scattergl"
           }
          ],
          "scattermapbox": [
           {
            "marker": {
             "colorbar": {
              "outlinewidth": 0,
              "ticks": ""
             }
            },
            "type": "scattermapbox"
           }
          ],
          "scatterpolar": [
           {
            "marker": {
             "colorbar": {
              "outlinewidth": 0,
              "ticks": ""
             }
            },
            "type": "scatterpolar"
           }
          ],
          "scatterpolargl": [
           {
            "marker": {
             "colorbar": {
              "outlinewidth": 0,
              "ticks": ""
             }
            },
            "type": "scatterpolargl"
           }
          ],
          "scatterternary": [
           {
            "marker": {
             "colorbar": {
              "outlinewidth": 0,
              "ticks": ""
             }
            },
            "type": "scatterternary"
           }
          ],
          "surface": [
           {
            "colorbar": {
             "outlinewidth": 0,
             "ticks": ""
            },
            "colorscale": [
             [
              0,
              "#0d0887"
             ],
             [
              0.1111111111111111,
              "#46039f"
             ],
             [
              0.2222222222222222,
              "#7201a8"
             ],
             [
              0.3333333333333333,
              "#9c179e"
             ],
             [
              0.4444444444444444,
              "#bd3786"
             ],
             [
              0.5555555555555556,
              "#d8576b"
             ],
             [
              0.6666666666666666,
              "#ed7953"
             ],
             [
              0.7777777777777778,
              "#fb9f3a"
             ],
             [
              0.8888888888888888,
              "#fdca26"
             ],
             [
              1,
              "#f0f921"
             ]
            ],
            "type": "surface"
           }
          ],
          "table": [
           {
            "cells": {
             "fill": {
              "color": "#EBF0F8"
             },
             "line": {
              "color": "white"
             }
            },
            "header": {
             "fill": {
              "color": "#C8D4E3"
             },
             "line": {
              "color": "white"
             }
            },
            "type": "table"
           }
          ]
         },
         "layout": {
          "annotationdefaults": {
           "arrowcolor": "#2a3f5f",
           "arrowhead": 0,
           "arrowwidth": 1
          },
          "autotypenumbers": "strict",
          "coloraxis": {
           "colorbar": {
            "outlinewidth": 0,
            "ticks": ""
           }
          },
          "colorscale": {
           "diverging": [
            [
             0,
             "#8e0152"
            ],
            [
             0.1,
             "#c51b7d"
            ],
            [
             0.2,
             "#de77ae"
            ],
            [
             0.3,
             "#f1b6da"
            ],
            [
             0.4,
             "#fde0ef"
            ],
            [
             0.5,
             "#f7f7f7"
            ],
            [
             0.6,
             "#e6f5d0"
            ],
            [
             0.7,
             "#b8e186"
            ],
            [
             0.8,
             "#7fbc41"
            ],
            [
             0.9,
             "#4d9221"
            ],
            [
             1,
             "#276419"
            ]
           ],
           "sequential": [
            [
             0,
             "#0d0887"
            ],
            [
             0.1111111111111111,
             "#46039f"
            ],
            [
             0.2222222222222222,
             "#7201a8"
            ],
            [
             0.3333333333333333,
             "#9c179e"
            ],
            [
             0.4444444444444444,
             "#bd3786"
            ],
            [
             0.5555555555555556,
             "#d8576b"
            ],
            [
             0.6666666666666666,
             "#ed7953"
            ],
            [
             0.7777777777777778,
             "#fb9f3a"
            ],
            [
             0.8888888888888888,
             "#fdca26"
            ],
            [
             1,
             "#f0f921"
            ]
           ],
           "sequentialminus": [
            [
             0,
             "#0d0887"
            ],
            [
             0.1111111111111111,
             "#46039f"
            ],
            [
             0.2222222222222222,
             "#7201a8"
            ],
            [
             0.3333333333333333,
             "#9c179e"
            ],
            [
             0.4444444444444444,
             "#bd3786"
            ],
            [
             0.5555555555555556,
             "#d8576b"
            ],
            [
             0.6666666666666666,
             "#ed7953"
            ],
            [
             0.7777777777777778,
             "#fb9f3a"
            ],
            [
             0.8888888888888888,
             "#fdca26"
            ],
            [
             1,
             "#f0f921"
            ]
           ]
          },
          "colorway": [
           "#636efa",
           "#EF553B",
           "#00cc96",
           "#ab63fa",
           "#FFA15A",
           "#19d3f3",
           "#FF6692",
           "#B6E880",
           "#FF97FF",
           "#FECB52"
          ],
          "font": {
           "color": "#2a3f5f"
          },
          "geo": {
           "bgcolor": "white",
           "lakecolor": "white",
           "landcolor": "#E5ECF6",
           "showlakes": true,
           "showland": true,
           "subunitcolor": "white"
          },
          "hoverlabel": {
           "align": "left"
          },
          "hovermode": "closest",
          "mapbox": {
           "style": "light"
          },
          "paper_bgcolor": "white",
          "plot_bgcolor": "#E5ECF6",
          "polar": {
           "angularaxis": {
            "gridcolor": "white",
            "linecolor": "white",
            "ticks": ""
           },
           "bgcolor": "#E5ECF6",
           "radialaxis": {
            "gridcolor": "white",
            "linecolor": "white",
            "ticks": ""
           }
          },
          "scene": {
           "xaxis": {
            "backgroundcolor": "#E5ECF6",
            "gridcolor": "white",
            "gridwidth": 2,
            "linecolor": "white",
            "showbackground": true,
            "ticks": "",
            "zerolinecolor": "white"
           },
           "yaxis": {
            "backgroundcolor": "#E5ECF6",
            "gridcolor": "white",
            "gridwidth": 2,
            "linecolor": "white",
            "showbackground": true,
            "ticks": "",
            "zerolinecolor": "white"
           },
           "zaxis": {
            "backgroundcolor": "#E5ECF6",
            "gridcolor": "white",
            "gridwidth": 2,
            "linecolor": "white",
            "showbackground": true,
            "ticks": "",
            "zerolinecolor": "white"
           }
          },
          "shapedefaults": {
           "line": {
            "color": "#2a3f5f"
           }
          },
          "ternary": {
           "aaxis": {
            "gridcolor": "white",
            "linecolor": "white",
            "ticks": ""
           },
           "baxis": {
            "gridcolor": "white",
            "linecolor": "white",
            "ticks": ""
           },
           "bgcolor": "#E5ECF6",
           "caxis": {
            "gridcolor": "white",
            "linecolor": "white",
            "ticks": ""
           }
          },
          "title": {
           "x": 0.05
          },
          "xaxis": {
           "automargin": true,
           "gridcolor": "white",
           "linecolor": "white",
           "ticks": "",
           "title": {
            "standoff": 15
           },
           "zerolinecolor": "white",
           "zerolinewidth": 2
          },
          "yaxis": {
           "automargin": true,
           "gridcolor": "white",
           "linecolor": "white",
           "ticks": "",
           "title": {
            "standoff": 15
           },
           "zerolinecolor": "white",
           "zerolinewidth": 2
          }
         }
        },
        "width": 320,
        "xaxis": {
         "anchor": "y",
         "domain": [
          0,
          1
         ],
         "title": {
          "text": "tsne1"
         }
        },
        "yaxis": {
         "anchor": "x",
         "domain": [
          0,
          1
         ],
         "title": {
          "text": "tsne2"
         }
        }
       }
      },
      "text/html": [
       "<div>                            <div id=\"6ee50d76-c281-4c4e-bd88-2a2d3f45dab4\" class=\"plotly-graph-div\" style=\"height:190px; width:320px;\"></div>            <script type=\"text/javascript\">                require([\"plotly\"], function(Plotly) {                    window.PLOTLYENV=window.PLOTLYENV || {};                                    if (document.getElementById(\"6ee50d76-c281-4c4e-bd88-2a2d3f45dab4\")) {                    Plotly.newPlot(                        \"6ee50d76-c281-4c4e-bd88-2a2d3f45dab4\",                        [{\"hovertemplate\":\"cancer_type=prostate<br>signature=all<br>tsne1=%{x}<br>tsne2=%{y}<extra></extra>\",\"legendgroup\":\"prostate\",\"marker\":{\"color\":\"#636efa\",\"symbol\":\"circle\",\"size\":5},\"mode\":\"markers\",\"name\":\"prostate\",\"orientation\":\"v\",\"showlegend\":true,\"x\":[-2.8298420906066895,1.8521966934204102,1.5361469984054565],\"xaxis\":\"x\",\"y\":[1.4975316524505615,1.3301074504852295,-1.6163114309310913],\"yaxis\":\"y\",\"type\":\"scatter\"},{\"hovertemplate\":\"cancer_type=bladder<br>signature=all<br>tsne1=%{x}<br>tsne2=%{y}<extra></extra>\",\"legendgroup\":\"bladder\",\"marker\":{\"color\":\"#EF553B\",\"symbol\":\"circle\",\"size\":5},\"mode\":\"markers\",\"name\":\"bladder\",\"orientation\":\"v\",\"showlegend\":true,\"x\":[0.0014841194497421384,-0.1832498461008072,0.07522093504667282,-0.2569139003753662,-0.01395145058631897],\"xaxis\":\"x\",\"y\":[-2.0077857971191406,0.049128081649541855,-0.2375144362449646,0.2928873300552368,-0.5761716961860657],\"yaxis\":\"y\",\"type\":\"scatter\"},{\"hovertemplate\":\"cancer_type=kidney<br>signature=all<br>tsne1=%{x}<br>tsne2=%{y}<extra></extra>\",\"legendgroup\":\"kidney\",\"marker\":{\"color\":\"#00cc96\",\"symbol\":\"circle\",\"size\":5},\"mode\":\"markers\",\"name\":\"kidney\",\"orientation\":\"v\",\"showlegend\":true,\"x\":[0.05924491584300995,0.29100996255874634,0.7193372845649719,-1.3416810035705566,-0.09510257840156555],\"xaxis\":\"x\",\"y\":[-0.2299298644065857,0.880831241607666,-0.25928422808647156,0.8472264409065247,0.26445844769477844],\"yaxis\":\"y\",\"type\":\"scatter\"},{\"hovertemplate\":\"cancer_type=sarcoma<br>signature=all<br>tsne1=%{x}<br>tsne2=%{y}<extra></extra>\",\"legendgroup\":\"sarcoma\",\"marker\":{\"color\":\"#ab63fa\",\"symbol\":\"circle\",\"size\":5},\"mode\":\"markers\",\"name\":\"sarcoma\",\"orientation\":\"v\",\"showlegend\":true,\"x\":[-0.5546467304229736,-1.0863724946975708,-0.5692156553268433,-0.18283851444721222,-0.8323485851287842,-1.4067879915237427,-1.0913387537002563,-1.8227791786193848,-0.7236708402633667,-0.08736076951026917,-1.14689040184021,-0.631963312625885],\"xaxis\":\"x\",\"y\":[0.3854164779186249,0.8300286531448364,-1.1029316186904907,0.054715752601623535,2.3066585063934326,1.3475298881530762,1.2669758796691895,1.9174280166625977,1.376352310180664,-0.9332325458526611,1.3093883991241455,-0.698137640953064],\"yaxis\":\"y\",\"type\":\"scatter\"},{\"hovertemplate\":\"cancer_type=ovary<br>signature=all<br>tsne1=%{x}<br>tsne2=%{y}<extra></extra>\",\"legendgroup\":\"ovary\",\"marker\":{\"color\":\"#FFA15A\",\"symbol\":\"circle\",\"size\":5},\"mode\":\"markers\",\"name\":\"ovary\",\"orientation\":\"v\",\"showlegend\":true,\"x\":[-0.9228426814079285,2.151611089706421,1.1944060325622559,1.9390711784362793,0.8864070177078247,-0.11544444411993027],\"xaxis\":\"x\",\"y\":[0.5818793177604675,-0.35541605949401855,1.8112308979034424,0.4269372820854187,-2.112945318222046,1.7812546491622925],\"yaxis\":\"y\",\"type\":\"scatter\"},{\"hovertemplate\":\"cancer_type=melanoma<br>signature=all<br>tsne1=%{x}<br>tsne2=%{y}<extra></extra>\",\"legendgroup\":\"melanoma\",\"marker\":{\"color\":\"#19d3f3\",\"symbol\":\"circle\",\"size\":5},\"mode\":\"markers\",\"name\":\"melanoma\",\"orientation\":\"v\",\"showlegend\":true,\"x\":[0.9886105060577393,-2.3397603034973145,-1.1917372941970825,-1.1353559494018555],\"xaxis\":\"x\",\"y\":[-1.1683604717254639,-2.7368552684783936,-1.389585256576538,-1.3468897342681885],\"yaxis\":\"y\",\"type\":\"scatter\"},{\"hovertemplate\":\"cancer_type=lung<br>signature=all<br>tsne1=%{x}<br>tsne2=%{y}<extra></extra>\",\"legendgroup\":\"lung\",\"marker\":{\"color\":\"#FF6692\",\"symbol\":\"circle\",\"size\":5},\"mode\":\"markers\",\"name\":\"lung\",\"orientation\":\"v\",\"showlegend\":true,\"x\":[1.3967034816741943,1.2462040185928345,0.40511009097099304,-1.0117210149765015,-0.6895765662193298,-1.5995266437530518],\"xaxis\":\"x\",\"y\":[-1.0068937540054321,-0.9402382373809814,0.23504817485809326,-0.6736080050468445,0.5494954586029053,0.7606604695320129],\"yaxis\":\"y\",\"type\":\"scatter\"},{\"hovertemplate\":\"cancer_type=pancreas<br>signature=all<br>tsne1=%{x}<br>tsne2=%{y}<extra></extra>\",\"legendgroup\":\"pancreas\",\"marker\":{\"color\":\"#B6E880\",\"symbol\":\"circle\",\"size\":5},\"mode\":\"markers\",\"name\":\"pancreas\",\"orientation\":\"v\",\"showlegend\":true,\"x\":[0.3574100136756897,0.012012623250484467,-0.15021465718746185,1.7676631212234497,1.1244215965270996],\"xaxis\":\"x\",\"y\":[1.018939733505249,0.3420470058917999,-2.0948445796966553,-0.4227069318294525,-0.6170178651809692],\"yaxis\":\"y\",\"type\":\"scatter\"},{\"hovertemplate\":\"cancer_type=breast<br>signature=all<br>tsne1=%{x}<br>tsne2=%{y}<extra></extra>\",\"legendgroup\":\"breast\",\"marker\":{\"color\":\"#FF97FF\",\"symbol\":\"circle\",\"size\":5},\"mode\":\"markers\",\"name\":\"breast\",\"orientation\":\"v\",\"showlegend\":true,\"x\":[0.17112982273101807,-0.31104177236557007,0.7043118476867676,-1.2374138832092285,0.5302276015281677,-0.23647184669971466,-0.26365983486175537,0.7062210440635681],\"xaxis\":\"x\",\"y\":[1.2051007747650146,0.04322829097509384,0.9786601066589355,2.7129342555999756,-1.475551724433899,2.5318851470947266,1.297020435333252,1.8439220190048218],\"yaxis\":\"y\",\"type\":\"scatter\"},{\"hovertemplate\":\"cancer_type=cervix<br>signature=all<br>tsne1=%{x}<br>tsne2=%{y}<extra></extra>\",\"legendgroup\":\"cervix\",\"marker\":{\"color\":\"#FECB52\",\"symbol\":\"circle\",\"size\":5},\"mode\":\"markers\",\"name\":\"cervix\",\"orientation\":\"v\",\"showlegend\":true,\"x\":[-2.1843314170837402,0.20728325843811035,-0.40404391288757324],\"xaxis\":\"x\",\"y\":[1.621132493019104,0.006590546108782291,0.457950621843338],\"yaxis\":\"y\",\"type\":\"scatter\"},{\"hovertemplate\":\"cancer_type=colon<br>signature=all<br>tsne1=%{x}<br>tsne2=%{y}<extra></extra>\",\"legendgroup\":\"colon\",\"marker\":{\"color\":\"#636efa\",\"symbol\":\"circle\",\"size\":5},\"mode\":\"markers\",\"name\":\"colon\",\"orientation\":\"v\",\"showlegend\":true,\"x\":[0.6995261907577515,1.1986843347549438,0.9118300676345825,-2.3442904949188232,0.5354079008102417,-2.338710069656372,1.0214542150497437,-1.775320053100586,-2.3659958839416504,-0.6369866728782654],\"xaxis\":\"x\",\"y\":[0.10088130831718445,0.4920772612094879,0.6079342365264893,-2.7509377002716064,2.59720778465271,-2.7354259490966797,0.23747050762176514,-1.2052388191223145,-1.1936663389205933,0.44360417127609253],\"yaxis\":\"y\",\"type\":\"scatter\"},{\"hovertemplate\":\"cancer_type=hematological<br>signature=all<br>tsne1=%{x}<br>tsne2=%{y}<extra></extra>\",\"legendgroup\":\"hematological\",\"marker\":{\"color\":\"#EF553B\",\"symbol\":\"circle\",\"size\":5},\"mode\":\"markers\",\"name\":\"hematological\",\"orientation\":\"v\",\"showlegend\":true,\"x\":[-2.043339490890503,-2.148895502090454,-2.9186501502990723,-1.7802822589874268,-1.7654155492782593,-2.3085153102874756,-1.535207748413086,-1.88209867477417,-2.0298070907592773,-2.217952013015747,-2.067918539047241,-2.7960503101348877],\"xaxis\":\"x\",\"y\":[-0.08105915784835815,0.3499715030193329,0.586785614490509,0.22281384468078613,0.17229202389717102,0.024247024208307266,0.34118103981018066,0.178812637925148,0.11980662494897842,0.01133604347705841,0.6578335762023926,-0.15889638662338257],\"yaxis\":\"y\",\"type\":\"scatter\"},{\"hovertemplate\":\"cancer_type=liver<br>signature=all<br>tsne1=%{x}<br>tsne2=%{y}<extra></extra>\",\"legendgroup\":\"liver\",\"marker\":{\"color\":\"#00cc96\",\"symbol\":\"circle\",\"size\":5},\"mode\":\"markers\",\"name\":\"liver\",\"orientation\":\"v\",\"showlegend\":true,\"x\":[-0.5067684650421143,0.0038011011201888323,0.6004086136817932],\"xaxis\":\"x\",\"y\":[0.816514790058136,0.8569862842559814,-0.804161012172699],\"yaxis\":\"y\",\"type\":\"scatter\"},{\"hovertemplate\":\"cancer_type=brain<br>signature=all<br>tsne1=%{x}<br>tsne2=%{y}<extra></extra>\",\"legendgroup\":\"brain\",\"marker\":{\"color\":\"#ab63fa\",\"symbol\":\"circle\",\"size\":5},\"mode\":\"markers\",\"name\":\"brain\",\"orientation\":\"v\",\"showlegend\":true,\"x\":[-0.43452244997024536,-0.6745837330818176,-0.09490698575973511,-0.08500269055366516],\"xaxis\":\"x\",\"y\":[0.05958016216754913,-0.25065016746520996,-1.6674596071243286,-0.5434806942939758],\"yaxis\":\"y\",\"type\":\"scatter\"}],                        {\"template\":{\"data\":{\"histogram2dcontour\":[{\"type\":\"histogram2dcontour\",\"colorbar\":{\"outlinewidth\":0,\"ticks\":\"\"},\"colorscale\":[[0.0,\"#0d0887\"],[0.1111111111111111,\"#46039f\"],[0.2222222222222222,\"#7201a8\"],[0.3333333333333333,\"#9c179e\"],[0.4444444444444444,\"#bd3786\"],[0.5555555555555556,\"#d8576b\"],[0.6666666666666666,\"#ed7953\"],[0.7777777777777778,\"#fb9f3a\"],[0.8888888888888888,\"#fdca26\"],[1.0,\"#f0f921\"]]}],\"choropleth\":[{\"type\":\"choropleth\",\"colorbar\":{\"outlinewidth\":0,\"ticks\":\"\"}}],\"histogram2d\":[{\"type\":\"histogram2d\",\"colorbar\":{\"outlinewidth\":0,\"ticks\":\"\"},\"colorscale\":[[0.0,\"#0d0887\"],[0.1111111111111111,\"#46039f\"],[0.2222222222222222,\"#7201a8\"],[0.3333333333333333,\"#9c179e\"],[0.4444444444444444,\"#bd3786\"],[0.5555555555555556,\"#d8576b\"],[0.6666666666666666,\"#ed7953\"],[0.7777777777777778,\"#fb9f3a\"],[0.8888888888888888,\"#fdca26\"],[1.0,\"#f0f921\"]]}],\"heatmap\":[{\"type\":\"heatmap\",\"colorbar\":{\"outlinewidth\":0,\"ticks\":\"\"},\"colorscale\":[[0.0,\"#0d0887\"],[0.1111111111111111,\"#46039f\"],[0.2222222222222222,\"#7201a8\"],[0.3333333333333333,\"#9c179e\"],[0.4444444444444444,\"#bd3786\"],[0.5555555555555556,\"#d8576b\"],[0.6666666666666666,\"#ed7953\"],[0.7777777777777778,\"#fb9f3a\"],[0.8888888888888888,\"#fdca26\"],[1.0,\"#f0f921\"]]}],\"heatmapgl\":[{\"type\":\"heatmapgl\",\"colorbar\":{\"outlinewidth\":0,\"ticks\":\"\"},\"colorscale\":[[0.0,\"#0d0887\"],[0.1111111111111111,\"#46039f\"],[0.2222222222222222,\"#7201a8\"],[0.3333333333333333,\"#9c179e\"],[0.4444444444444444,\"#bd3786\"],[0.5555555555555556,\"#d8576b\"],[0.6666666666666666,\"#ed7953\"],[0.7777777777777778,\"#fb9f3a\"],[0.8888888888888888,\"#fdca26\"],[1.0,\"#f0f921\"]]}],\"contourcarpet\":[{\"type\":\"contourcarpet\",\"colorbar\":{\"outlinewidth\":0,\"ticks\":\"\"}}],\"contour\":[{\"type\":\"contour\",\"colorbar\":{\"outlinewidth\":0,\"ticks\":\"\"},\"colorscale\":[[0.0,\"#0d0887\"],[0.1111111111111111,\"#46039f\"],[0.2222222222222222,\"#7201a8\"],[0.3333333333333333,\"#9c179e\"],[0.4444444444444444,\"#bd3786\"],[0.5555555555555556,\"#d8576b\"],[0.6666666666666666,\"#ed7953\"],[0.7777777777777778,\"#fb9f3a\"],[0.8888888888888888,\"#fdca26\"],[1.0,\"#f0f921\"]]}],\"surface\":[{\"type\":\"surface\",\"colorbar\":{\"outlinewidth\":0,\"ticks\":\"\"},\"colorscale\":[[0.0,\"#0d0887\"],[0.1111111111111111,\"#46039f\"],[0.2222222222222222,\"#7201a8\"],[0.3333333333333333,\"#9c179e\"],[0.4444444444444444,\"#bd3786\"],[0.5555555555555556,\"#d8576b\"],[0.6666666666666666,\"#ed7953\"],[0.7777777777777778,\"#fb9f3a\"],[0.8888888888888888,\"#fdca26\"],[1.0,\"#f0f921\"]]}],\"mesh3d\":[{\"type\":\"mesh3d\",\"colorbar\":{\"outlinewidth\":0,\"ticks\":\"\"}}],\"scatter\":[{\"fillpattern\":{\"fillmode\":\"overlay\",\"size\":10,\"solidity\":0.2},\"type\":\"scatter\"}],\"parcoords\":[{\"type\":\"parcoords\",\"line\":{\"colorbar\":{\"outlinewidth\":0,\"ticks\":\"\"}}}],\"scatterpolargl\":[{\"type\":\"scatterpolargl\",\"marker\":{\"colorbar\":{\"outlinewidth\":0,\"ticks\":\"\"}}}],\"bar\":[{\"error_x\":{\"color\":\"#2a3f5f\"},\"error_y\":{\"color\":\"#2a3f5f\"},\"marker\":{\"line\":{\"color\":\"#E5ECF6\",\"width\":0.5},\"pattern\":{\"fillmode\":\"overlay\",\"size\":10,\"solidity\":0.2}},\"type\":\"bar\"}],\"scattergeo\":[{\"type\":\"scattergeo\",\"marker\":{\"colorbar\":{\"outlinewidth\":0,\"ticks\":\"\"}}}],\"scatterpolar\":[{\"type\":\"scatterpolar\",\"marker\":{\"colorbar\":{\"outlinewidth\":0,\"ticks\":\"\"}}}],\"histogram\":[{\"marker\":{\"pattern\":{\"fillmode\":\"overlay\",\"size\":10,\"solidity\":0.2}},\"type\":\"histogram\"}],\"scattergl\":[{\"type\":\"scattergl\",\"marker\":{\"colorbar\":{\"outlinewidth\":0,\"ticks\":\"\"}}}],\"scatter3d\":[{\"type\":\"scatter3d\",\"line\":{\"colorbar\":{\"outlinewidth\":0,\"ticks\":\"\"}},\"marker\":{\"colorbar\":{\"outlinewidth\":0,\"ticks\":\"\"}}}],\"scattermapbox\":[{\"type\":\"scattermapbox\",\"marker\":{\"colorbar\":{\"outlinewidth\":0,\"ticks\":\"\"}}}],\"scatterternary\":[{\"type\":\"scatterternary\",\"marker\":{\"colorbar\":{\"outlinewidth\":0,\"ticks\":\"\"}}}],\"scattercarpet\":[{\"type\":\"scattercarpet\",\"marker\":{\"colorbar\":{\"outlinewidth\":0,\"ticks\":\"\"}}}],\"carpet\":[{\"aaxis\":{\"endlinecolor\":\"#2a3f5f\",\"gridcolor\":\"white\",\"linecolor\":\"white\",\"minorgridcolor\":\"white\",\"startlinecolor\":\"#2a3f5f\"},\"baxis\":{\"endlinecolor\":\"#2a3f5f\",\"gridcolor\":\"white\",\"linecolor\":\"white\",\"minorgridcolor\":\"white\",\"startlinecolor\":\"#2a3f5f\"},\"type\":\"carpet\"}],\"table\":[{\"cells\":{\"fill\":{\"color\":\"#EBF0F8\"},\"line\":{\"color\":\"white\"}},\"header\":{\"fill\":{\"color\":\"#C8D4E3\"},\"line\":{\"color\":\"white\"}},\"type\":\"table\"}],\"barpolar\":[{\"marker\":{\"line\":{\"color\":\"#E5ECF6\",\"width\":0.5},\"pattern\":{\"fillmode\":\"overlay\",\"size\":10,\"solidity\":0.2}},\"type\":\"barpolar\"}],\"pie\":[{\"automargin\":true,\"type\":\"pie\"}]},\"layout\":{\"autotypenumbers\":\"strict\",\"colorway\":[\"#636efa\",\"#EF553B\",\"#00cc96\",\"#ab63fa\",\"#FFA15A\",\"#19d3f3\",\"#FF6692\",\"#B6E880\",\"#FF97FF\",\"#FECB52\"],\"font\":{\"color\":\"#2a3f5f\"},\"hovermode\":\"closest\",\"hoverlabel\":{\"align\":\"left\"},\"paper_bgcolor\":\"white\",\"plot_bgcolor\":\"#E5ECF6\",\"polar\":{\"bgcolor\":\"#E5ECF6\",\"angularaxis\":{\"gridcolor\":\"white\",\"linecolor\":\"white\",\"ticks\":\"\"},\"radialaxis\":{\"gridcolor\":\"white\",\"linecolor\":\"white\",\"ticks\":\"\"}},\"ternary\":{\"bgcolor\":\"#E5ECF6\",\"aaxis\":{\"gridcolor\":\"white\",\"linecolor\":\"white\",\"ticks\":\"\"},\"baxis\":{\"gridcolor\":\"white\",\"linecolor\":\"white\",\"ticks\":\"\"},\"caxis\":{\"gridcolor\":\"white\",\"linecolor\":\"white\",\"ticks\":\"\"}},\"coloraxis\":{\"colorbar\":{\"outlinewidth\":0,\"ticks\":\"\"}},\"colorscale\":{\"sequential\":[[0.0,\"#0d0887\"],[0.1111111111111111,\"#46039f\"],[0.2222222222222222,\"#7201a8\"],[0.3333333333333333,\"#9c179e\"],[0.4444444444444444,\"#bd3786\"],[0.5555555555555556,\"#d8576b\"],[0.6666666666666666,\"#ed7953\"],[0.7777777777777778,\"#fb9f3a\"],[0.8888888888888888,\"#fdca26\"],[1.0,\"#f0f921\"]],\"sequentialminus\":[[0.0,\"#0d0887\"],[0.1111111111111111,\"#46039f\"],[0.2222222222222222,\"#7201a8\"],[0.3333333333333333,\"#9c179e\"],[0.4444444444444444,\"#bd3786\"],[0.5555555555555556,\"#d8576b\"],[0.6666666666666666,\"#ed7953\"],[0.7777777777777778,\"#fb9f3a\"],[0.8888888888888888,\"#fdca26\"],[1.0,\"#f0f921\"]],\"diverging\":[[0,\"#8e0152\"],[0.1,\"#c51b7d\"],[0.2,\"#de77ae\"],[0.3,\"#f1b6da\"],[0.4,\"#fde0ef\"],[0.5,\"#f7f7f7\"],[0.6,\"#e6f5d0\"],[0.7,\"#b8e186\"],[0.8,\"#7fbc41\"],[0.9,\"#4d9221\"],[1,\"#276419\"]]},\"xaxis\":{\"gridcolor\":\"white\",\"linecolor\":\"white\",\"ticks\":\"\",\"title\":{\"standoff\":15},\"zerolinecolor\":\"white\",\"automargin\":true,\"zerolinewidth\":2},\"yaxis\":{\"gridcolor\":\"white\",\"linecolor\":\"white\",\"ticks\":\"\",\"title\":{\"standoff\":15},\"zerolinecolor\":\"white\",\"automargin\":true,\"zerolinewidth\":2},\"scene\":{\"xaxis\":{\"backgroundcolor\":\"#E5ECF6\",\"gridcolor\":\"white\",\"linecolor\":\"white\",\"showbackground\":true,\"ticks\":\"\",\"zerolinecolor\":\"white\",\"gridwidth\":2},\"yaxis\":{\"backgroundcolor\":\"#E5ECF6\",\"gridcolor\":\"white\",\"linecolor\":\"white\",\"showbackground\":true,\"ticks\":\"\",\"zerolinecolor\":\"white\",\"gridwidth\":2},\"zaxis\":{\"backgroundcolor\":\"#E5ECF6\",\"gridcolor\":\"white\",\"linecolor\":\"white\",\"showbackground\":true,\"ticks\":\"\",\"zerolinecolor\":\"white\",\"gridwidth\":2}},\"shapedefaults\":{\"line\":{\"color\":\"#2a3f5f\"}},\"annotationdefaults\":{\"arrowcolor\":\"#2a3f5f\",\"arrowhead\":0,\"arrowwidth\":1},\"geo\":{\"bgcolor\":\"white\",\"landcolor\":\"#E5ECF6\",\"subunitcolor\":\"white\",\"showland\":true,\"showlakes\":true,\"lakecolor\":\"white\"},\"title\":{\"x\":0.05},\"mapbox\":{\"style\":\"light\"}}},\"xaxis\":{\"anchor\":\"y\",\"domain\":[0.0,1.0],\"title\":{\"text\":\"tsne1\"}},\"yaxis\":{\"anchor\":\"x\",\"domain\":[0.0,1.0],\"title\":{\"text\":\"tsne2\"}},\"annotations\":[{\"font\":{},\"showarrow\":false,\"text\":\"signature=all\",\"x\":0.5,\"xanchor\":\"center\",\"xref\":\"paper\",\"y\":1.0,\"yanchor\":\"bottom\",\"yref\":\"paper\"}],\"legend\":{\"title\":{\"text\":\"cancer_type\"},\"tracegroupgap\":0},\"margin\":{\"t\":10,\"l\":10,\"r\":10,\"b\":10},\"height\":190,\"width\":320},                        {\"responsive\": true}                    ).then(function(){\n",
       "                            \n",
       "var gd = document.getElementById('6ee50d76-c281-4c4e-bd88-2a2d3f45dab4');\n",
       "var x = new MutationObserver(function (mutations, observer) {{\n",
       "        var display = window.getComputedStyle(gd).display;\n",
       "        if (!display || display === 'none') {{\n",
       "            console.log([gd, 'removed!']);\n",
       "            Plotly.purge(gd);\n",
       "            observer.disconnect();\n",
       "        }}\n",
       "}});\n",
       "\n",
       "// Listen for the removal of the full notebook cells\n",
       "var notebookContainer = gd.closest('#notebook-container');\n",
       "if (notebookContainer) {{\n",
       "    x.observe(notebookContainer, {childList: true});\n",
       "}}\n",
       "\n",
       "// Listen for the clearing of the current output cell\n",
       "var outputEl = gd.closest('.output');\n",
       "if (outputEl) {{\n",
       "    x.observe(outputEl, {childList: true});\n",
       "}}\n",
       "\n",
       "                        })                };                });            </script>        </div>"
      ]
     },
     "metadata": {},
     "output_type": "display_data"
    },
    {
     "data": {
      "application/vnd.plotly.v1+json": {
       "config": {
        "plotlyServerURL": "https://plot.ly"
       },
       "data": [
        {
         "hovertemplate": "dataset=ho1<br>signature=all<br>tsne1=%{x}<br>tsne2=%{y}<extra></extra>",
         "legendgroup": "ho1",
         "marker": {
          "color": "#636efa",
          "size": 5,
          "symbol": "circle"
         },
         "mode": "markers",
         "name": "ho1",
         "orientation": "v",
         "showlegend": true,
         "type": "scatter",
         "x": [
          -2.8298420906066895,
          0.0014841194497421384,
          0.9886105060577393,
          -1.0863724946975708,
          0.17112982273101807,
          1.2462040185928345,
          0.9118300676345825,
          -2.043339490890503,
          0.5354079008102417,
          -2.9186501502990723,
          -1.2374138832092285,
          -0.8323485851287842,
          1.1244215965270996,
          0.6004086136817932,
          -0.11544444411993027,
          -0.09490698575973511
         ],
         "xaxis": "x",
         "y": [
          1.4975316524505615,
          -2.0077857971191406,
          -1.1683604717254639,
          0.8300286531448364,
          1.2051007747650146,
          -0.9402382373809814,
          0.6079342365264893,
          -0.08105915784835815,
          2.59720778465271,
          0.586785614490509,
          2.7129342555999756,
          2.3066585063934326,
          -0.6170178651809692,
          -0.804161012172699,
          1.7812546491622925,
          -1.6674596071243286
         ],
         "yaxis": "y"
        },
        {
         "hovertemplate": "dataset=ho2<br>signature=all<br>tsne1=%{x}<br>tsne2=%{y}<extra></extra>",
         "legendgroup": "ho2",
         "marker": {
          "color": "#EF553B",
          "size": 5,
          "symbol": "circle"
         },
         "mode": "markers",
         "name": "ho2",
         "orientation": "v",
         "showlegend": true,
         "type": "scatter",
         "x": [
          0.05924491584300995,
          0.29100996255874634,
          -2.1843314170837402,
          0.7193372845649719,
          0.20728325843811035,
          -1.3416810035705566,
          -0.40404391288757324,
          -0.09510257840156555
         ],
         "xaxis": "x",
         "y": [
          -0.2299298644065857,
          0.880831241607666,
          1.621132493019104,
          -0.25928422808647156,
          0.006590546108782291,
          0.8472264409065247,
          0.457950621843338,
          0.26445844769477844
         ],
         "yaxis": "y"
        },
        {
         "hovertemplate": "dataset=train<br>signature=all<br>tsne1=%{x}<br>tsne2=%{y}<extra></extra>",
         "legendgroup": "train",
         "marker": {
          "color": "#00cc96",
          "size": 5,
          "symbol": "circle"
         },
         "mode": "markers",
         "name": "train",
         "orientation": "v",
         "showlegend": true,
         "type": "scatter",
         "x": [
          -0.5546467304229736,
          -0.9228426814079285,
          1.3967034816741943,
          0.3574100136756897,
          0.012012623250484467,
          0.6995261907577515,
          1.1986843347549438,
          -2.3442904949188232,
          1.8521966934204102,
          2.151611089706421,
          -0.1832498461008072,
          -2.338710069656372,
          -0.5067684650421143,
          -2.148895502090454,
          -0.31104177236557007,
          -0.5692156553268433,
          -0.18283851444721222,
          1.0214542150497437,
          1.1944060325622559,
          0.07522093504667282,
          0.7043118476867676,
          -1.7802822589874268,
          -1.7654155492782593,
          -1.775320053100586,
          0.5302276015281677,
          -2.3397603034973145,
          -0.23647184669971466,
          -0.26365983486175537,
          -1.4067879915237427,
          -0.15021465718746185,
          -2.3085153102874756,
          -2.3659958839416504,
          -1.535207748413086,
          0.40511009097099304,
          -1.0117210149765015,
          -0.6895765662193298,
          -1.5995266437530518,
          1.9390711784362793,
          0.8864070177078247,
          1.7676631212234497,
          1.5361469984054565,
          0.0038011011201888323,
          -1.88209867477417,
          -1.0913387537002563,
          -1.8227791786193848,
          -0.7236708402633667,
          -0.43452244997024536,
          -0.6745837330818176,
          0.7062210440635681,
          -0.08736076951026917,
          -1.1917372941970825,
          -1.1353559494018555,
          -2.0298070907592773,
          -2.217952013015747,
          -0.6369866728782654,
          -0.2569139003753662,
          -1.14689040184021,
          -2.067918539047241,
          -0.631963312625885,
          -0.08500269055366516,
          -0.01395145058631897,
          -2.7960503101348877
         ],
         "xaxis": "x",
         "y": [
          0.3854164779186249,
          0.5818793177604675,
          -1.0068937540054321,
          1.018939733505249,
          0.3420470058917999,
          0.10088130831718445,
          0.4920772612094879,
          -2.7509377002716064,
          1.3301074504852295,
          -0.35541605949401855,
          0.049128081649541855,
          -2.7354259490966797,
          0.816514790058136,
          0.3499715030193329,
          0.04322829097509384,
          -1.1029316186904907,
          0.054715752601623535,
          0.23747050762176514,
          1.8112308979034424,
          -0.2375144362449646,
          0.9786601066589355,
          0.22281384468078613,
          0.17229202389717102,
          -1.2052388191223145,
          -1.475551724433899,
          -2.7368552684783936,
          2.5318851470947266,
          1.297020435333252,
          1.3475298881530762,
          -2.0948445796966553,
          0.024247024208307266,
          -1.1936663389205933,
          0.34118103981018066,
          0.23504817485809326,
          -0.6736080050468445,
          0.5494954586029053,
          0.7606604695320129,
          0.4269372820854187,
          -2.112945318222046,
          -0.4227069318294525,
          -1.6163114309310913,
          0.8569862842559814,
          0.178812637925148,
          1.2669758796691895,
          1.9174280166625977,
          1.376352310180664,
          0.05958016216754913,
          -0.25065016746520996,
          1.8439220190048218,
          -0.9332325458526611,
          -1.389585256576538,
          -1.3468897342681885,
          0.11980662494897842,
          0.01133604347705841,
          0.44360417127609253,
          0.2928873300552368,
          1.3093883991241455,
          0.6578335762023926,
          -0.698137640953064,
          -0.5434806942939758,
          -0.5761716961860657,
          -0.15889638662338257
         ],
         "yaxis": "y"
        }
       ],
       "layout": {
        "annotations": [
         {
          "font": {},
          "showarrow": false,
          "text": "signature=all",
          "x": 0.5,
          "xanchor": "center",
          "xref": "paper",
          "y": 1,
          "yanchor": "bottom",
          "yref": "paper"
         }
        ],
        "height": 190,
        "legend": {
         "title": {
          "text": "dataset"
         },
         "tracegroupgap": 0
        },
        "margin": {
         "b": 10,
         "l": 10,
         "r": 10,
         "t": 10
        },
        "template": {
         "data": {
          "bar": [
           {
            "error_x": {
             "color": "#2a3f5f"
            },
            "error_y": {
             "color": "#2a3f5f"
            },
            "marker": {
             "line": {
              "color": "#E5ECF6",
              "width": 0.5
             },
             "pattern": {
              "fillmode": "overlay",
              "size": 10,
              "solidity": 0.2
             }
            },
            "type": "bar"
           }
          ],
          "barpolar": [
           {
            "marker": {
             "line": {
              "color": "#E5ECF6",
              "width": 0.5
             },
             "pattern": {
              "fillmode": "overlay",
              "size": 10,
              "solidity": 0.2
             }
            },
            "type": "barpolar"
           }
          ],
          "carpet": [
           {
            "aaxis": {
             "endlinecolor": "#2a3f5f",
             "gridcolor": "white",
             "linecolor": "white",
             "minorgridcolor": "white",
             "startlinecolor": "#2a3f5f"
            },
            "baxis": {
             "endlinecolor": "#2a3f5f",
             "gridcolor": "white",
             "linecolor": "white",
             "minorgridcolor": "white",
             "startlinecolor": "#2a3f5f"
            },
            "type": "carpet"
           }
          ],
          "choropleth": [
           {
            "colorbar": {
             "outlinewidth": 0,
             "ticks": ""
            },
            "type": "choropleth"
           }
          ],
          "contour": [
           {
            "colorbar": {
             "outlinewidth": 0,
             "ticks": ""
            },
            "colorscale": [
             [
              0,
              "#0d0887"
             ],
             [
              0.1111111111111111,
              "#46039f"
             ],
             [
              0.2222222222222222,
              "#7201a8"
             ],
             [
              0.3333333333333333,
              "#9c179e"
             ],
             [
              0.4444444444444444,
              "#bd3786"
             ],
             [
              0.5555555555555556,
              "#d8576b"
             ],
             [
              0.6666666666666666,
              "#ed7953"
             ],
             [
              0.7777777777777778,
              "#fb9f3a"
             ],
             [
              0.8888888888888888,
              "#fdca26"
             ],
             [
              1,
              "#f0f921"
             ]
            ],
            "type": "contour"
           }
          ],
          "contourcarpet": [
           {
            "colorbar": {
             "outlinewidth": 0,
             "ticks": ""
            },
            "type": "contourcarpet"
           }
          ],
          "heatmap": [
           {
            "colorbar": {
             "outlinewidth": 0,
             "ticks": ""
            },
            "colorscale": [
             [
              0,
              "#0d0887"
             ],
             [
              0.1111111111111111,
              "#46039f"
             ],
             [
              0.2222222222222222,
              "#7201a8"
             ],
             [
              0.3333333333333333,
              "#9c179e"
             ],
             [
              0.4444444444444444,
              "#bd3786"
             ],
             [
              0.5555555555555556,
              "#d8576b"
             ],
             [
              0.6666666666666666,
              "#ed7953"
             ],
             [
              0.7777777777777778,
              "#fb9f3a"
             ],
             [
              0.8888888888888888,
              "#fdca26"
             ],
             [
              1,
              "#f0f921"
             ]
            ],
            "type": "heatmap"
           }
          ],
          "heatmapgl": [
           {
            "colorbar": {
             "outlinewidth": 0,
             "ticks": ""
            },
            "colorscale": [
             [
              0,
              "#0d0887"
             ],
             [
              0.1111111111111111,
              "#46039f"
             ],
             [
              0.2222222222222222,
              "#7201a8"
             ],
             [
              0.3333333333333333,
              "#9c179e"
             ],
             [
              0.4444444444444444,
              "#bd3786"
             ],
             [
              0.5555555555555556,
              "#d8576b"
             ],
             [
              0.6666666666666666,
              "#ed7953"
             ],
             [
              0.7777777777777778,
              "#fb9f3a"
             ],
             [
              0.8888888888888888,
              "#fdca26"
             ],
             [
              1,
              "#f0f921"
             ]
            ],
            "type": "heatmapgl"
           }
          ],
          "histogram": [
           {
            "marker": {
             "pattern": {
              "fillmode": "overlay",
              "size": 10,
              "solidity": 0.2
             }
            },
            "type": "histogram"
           }
          ],
          "histogram2d": [
           {
            "colorbar": {
             "outlinewidth": 0,
             "ticks": ""
            },
            "colorscale": [
             [
              0,
              "#0d0887"
             ],
             [
              0.1111111111111111,
              "#46039f"
             ],
             [
              0.2222222222222222,
              "#7201a8"
             ],
             [
              0.3333333333333333,
              "#9c179e"
             ],
             [
              0.4444444444444444,
              "#bd3786"
             ],
             [
              0.5555555555555556,
              "#d8576b"
             ],
             [
              0.6666666666666666,
              "#ed7953"
             ],
             [
              0.7777777777777778,
              "#fb9f3a"
             ],
             [
              0.8888888888888888,
              "#fdca26"
             ],
             [
              1,
              "#f0f921"
             ]
            ],
            "type": "histogram2d"
           }
          ],
          "histogram2dcontour": [
           {
            "colorbar": {
             "outlinewidth": 0,
             "ticks": ""
            },
            "colorscale": [
             [
              0,
              "#0d0887"
             ],
             [
              0.1111111111111111,
              "#46039f"
             ],
             [
              0.2222222222222222,
              "#7201a8"
             ],
             [
              0.3333333333333333,
              "#9c179e"
             ],
             [
              0.4444444444444444,
              "#bd3786"
             ],
             [
              0.5555555555555556,
              "#d8576b"
             ],
             [
              0.6666666666666666,
              "#ed7953"
             ],
             [
              0.7777777777777778,
              "#fb9f3a"
             ],
             [
              0.8888888888888888,
              "#fdca26"
             ],
             [
              1,
              "#f0f921"
             ]
            ],
            "type": "histogram2dcontour"
           }
          ],
          "mesh3d": [
           {
            "colorbar": {
             "outlinewidth": 0,
             "ticks": ""
            },
            "type": "mesh3d"
           }
          ],
          "parcoords": [
           {
            "line": {
             "colorbar": {
              "outlinewidth": 0,
              "ticks": ""
             }
            },
            "type": "parcoords"
           }
          ],
          "pie": [
           {
            "automargin": true,
            "type": "pie"
           }
          ],
          "scatter": [
           {
            "fillpattern": {
             "fillmode": "overlay",
             "size": 10,
             "solidity": 0.2
            },
            "type": "scatter"
           }
          ],
          "scatter3d": [
           {
            "line": {
             "colorbar": {
              "outlinewidth": 0,
              "ticks": ""
             }
            },
            "marker": {
             "colorbar": {
              "outlinewidth": 0,
              "ticks": ""
             }
            },
            "type": "scatter3d"
           }
          ],
          "scattercarpet": [
           {
            "marker": {
             "colorbar": {
              "outlinewidth": 0,
              "ticks": ""
             }
            },
            "type": "scattercarpet"
           }
          ],
          "scattergeo": [
           {
            "marker": {
             "colorbar": {
              "outlinewidth": 0,
              "ticks": ""
             }
            },
            "type": "scattergeo"
           }
          ],
          "scattergl": [
           {
            "marker": {
             "colorbar": {
              "outlinewidth": 0,
              "ticks": ""
             }
            },
            "type": "scattergl"
           }
          ],
          "scattermapbox": [
           {
            "marker": {
             "colorbar": {
              "outlinewidth": 0,
              "ticks": ""
             }
            },
            "type": "scattermapbox"
           }
          ],
          "scatterpolar": [
           {
            "marker": {
             "colorbar": {
              "outlinewidth": 0,
              "ticks": ""
             }
            },
            "type": "scatterpolar"
           }
          ],
          "scatterpolargl": [
           {
            "marker": {
             "colorbar": {
              "outlinewidth": 0,
              "ticks": ""
             }
            },
            "type": "scatterpolargl"
           }
          ],
          "scatterternary": [
           {
            "marker": {
             "colorbar": {
              "outlinewidth": 0,
              "ticks": ""
             }
            },
            "type": "scatterternary"
           }
          ],
          "surface": [
           {
            "colorbar": {
             "outlinewidth": 0,
             "ticks": ""
            },
            "colorscale": [
             [
              0,
              "#0d0887"
             ],
             [
              0.1111111111111111,
              "#46039f"
             ],
             [
              0.2222222222222222,
              "#7201a8"
             ],
             [
              0.3333333333333333,
              "#9c179e"
             ],
             [
              0.4444444444444444,
              "#bd3786"
             ],
             [
              0.5555555555555556,
              "#d8576b"
             ],
             [
              0.6666666666666666,
              "#ed7953"
             ],
             [
              0.7777777777777778,
              "#fb9f3a"
             ],
             [
              0.8888888888888888,
              "#fdca26"
             ],
             [
              1,
              "#f0f921"
             ]
            ],
            "type": "surface"
           }
          ],
          "table": [
           {
            "cells": {
             "fill": {
              "color": "#EBF0F8"
             },
             "line": {
              "color": "white"
             }
            },
            "header": {
             "fill": {
              "color": "#C8D4E3"
             },
             "line": {
              "color": "white"
             }
            },
            "type": "table"
           }
          ]
         },
         "layout": {
          "annotationdefaults": {
           "arrowcolor": "#2a3f5f",
           "arrowhead": 0,
           "arrowwidth": 1
          },
          "autotypenumbers": "strict",
          "coloraxis": {
           "colorbar": {
            "outlinewidth": 0,
            "ticks": ""
           }
          },
          "colorscale": {
           "diverging": [
            [
             0,
             "#8e0152"
            ],
            [
             0.1,
             "#c51b7d"
            ],
            [
             0.2,
             "#de77ae"
            ],
            [
             0.3,
             "#f1b6da"
            ],
            [
             0.4,
             "#fde0ef"
            ],
            [
             0.5,
             "#f7f7f7"
            ],
            [
             0.6,
             "#e6f5d0"
            ],
            [
             0.7,
             "#b8e186"
            ],
            [
             0.8,
             "#7fbc41"
            ],
            [
             0.9,
             "#4d9221"
            ],
            [
             1,
             "#276419"
            ]
           ],
           "sequential": [
            [
             0,
             "#0d0887"
            ],
            [
             0.1111111111111111,
             "#46039f"
            ],
            [
             0.2222222222222222,
             "#7201a8"
            ],
            [
             0.3333333333333333,
             "#9c179e"
            ],
            [
             0.4444444444444444,
             "#bd3786"
            ],
            [
             0.5555555555555556,
             "#d8576b"
            ],
            [
             0.6666666666666666,
             "#ed7953"
            ],
            [
             0.7777777777777778,
             "#fb9f3a"
            ],
            [
             0.8888888888888888,
             "#fdca26"
            ],
            [
             1,
             "#f0f921"
            ]
           ],
           "sequentialminus": [
            [
             0,
             "#0d0887"
            ],
            [
             0.1111111111111111,
             "#46039f"
            ],
            [
             0.2222222222222222,
             "#7201a8"
            ],
            [
             0.3333333333333333,
             "#9c179e"
            ],
            [
             0.4444444444444444,
             "#bd3786"
            ],
            [
             0.5555555555555556,
             "#d8576b"
            ],
            [
             0.6666666666666666,
             "#ed7953"
            ],
            [
             0.7777777777777778,
             "#fb9f3a"
            ],
            [
             0.8888888888888888,
             "#fdca26"
            ],
            [
             1,
             "#f0f921"
            ]
           ]
          },
          "colorway": [
           "#636efa",
           "#EF553B",
           "#00cc96",
           "#ab63fa",
           "#FFA15A",
           "#19d3f3",
           "#FF6692",
           "#B6E880",
           "#FF97FF",
           "#FECB52"
          ],
          "font": {
           "color": "#2a3f5f"
          },
          "geo": {
           "bgcolor": "white",
           "lakecolor": "white",
           "landcolor": "#E5ECF6",
           "showlakes": true,
           "showland": true,
           "subunitcolor": "white"
          },
          "hoverlabel": {
           "align": "left"
          },
          "hovermode": "closest",
          "mapbox": {
           "style": "light"
          },
          "paper_bgcolor": "white",
          "plot_bgcolor": "#E5ECF6",
          "polar": {
           "angularaxis": {
            "gridcolor": "white",
            "linecolor": "white",
            "ticks": ""
           },
           "bgcolor": "#E5ECF6",
           "radialaxis": {
            "gridcolor": "white",
            "linecolor": "white",
            "ticks": ""
           }
          },
          "scene": {
           "xaxis": {
            "backgroundcolor": "#E5ECF6",
            "gridcolor": "white",
            "gridwidth": 2,
            "linecolor": "white",
            "showbackground": true,
            "ticks": "",
            "zerolinecolor": "white"
           },
           "yaxis": {
            "backgroundcolor": "#E5ECF6",
            "gridcolor": "white",
            "gridwidth": 2,
            "linecolor": "white",
            "showbackground": true,
            "ticks": "",
            "zerolinecolor": "white"
           },
           "zaxis": {
            "backgroundcolor": "#E5ECF6",
            "gridcolor": "white",
            "gridwidth": 2,
            "linecolor": "white",
            "showbackground": true,
            "ticks": "",
            "zerolinecolor": "white"
           }
          },
          "shapedefaults": {
           "line": {
            "color": "#2a3f5f"
           }
          },
          "ternary": {
           "aaxis": {
            "gridcolor": "white",
            "linecolor": "white",
            "ticks": ""
           },
           "baxis": {
            "gridcolor": "white",
            "linecolor": "white",
            "ticks": ""
           },
           "bgcolor": "#E5ECF6",
           "caxis": {
            "gridcolor": "white",
            "linecolor": "white",
            "ticks": ""
           }
          },
          "title": {
           "x": 0.05
          },
          "xaxis": {
           "automargin": true,
           "gridcolor": "white",
           "linecolor": "white",
           "ticks": "",
           "title": {
            "standoff": 15
           },
           "zerolinecolor": "white",
           "zerolinewidth": 2
          },
          "yaxis": {
           "automargin": true,
           "gridcolor": "white",
           "linecolor": "white",
           "ticks": "",
           "title": {
            "standoff": 15
           },
           "zerolinecolor": "white",
           "zerolinewidth": 2
          }
         }
        },
        "width": 265,
        "xaxis": {
         "anchor": "y",
         "domain": [
          0,
          1
         ],
         "title": {
          "text": "tsne1"
         }
        },
        "yaxis": {
         "anchor": "x",
         "domain": [
          0,
          1
         ],
         "title": {
          "text": "tsne2"
         }
        }
       }
      },
      "text/html": [
       "<div>                            <div id=\"3a320450-7766-4584-b48f-a004a56ebfd9\" class=\"plotly-graph-div\" style=\"height:190px; width:265px;\"></div>            <script type=\"text/javascript\">                require([\"plotly\"], function(Plotly) {                    window.PLOTLYENV=window.PLOTLYENV || {};                                    if (document.getElementById(\"3a320450-7766-4584-b48f-a004a56ebfd9\")) {                    Plotly.newPlot(                        \"3a320450-7766-4584-b48f-a004a56ebfd9\",                        [{\"hovertemplate\":\"dataset=ho1<br>signature=all<br>tsne1=%{x}<br>tsne2=%{y}<extra></extra>\",\"legendgroup\":\"ho1\",\"marker\":{\"color\":\"#636efa\",\"symbol\":\"circle\",\"size\":5},\"mode\":\"markers\",\"name\":\"ho1\",\"orientation\":\"v\",\"showlegend\":true,\"x\":[-2.8298420906066895,0.0014841194497421384,0.9886105060577393,-1.0863724946975708,0.17112982273101807,1.2462040185928345,0.9118300676345825,-2.043339490890503,0.5354079008102417,-2.9186501502990723,-1.2374138832092285,-0.8323485851287842,1.1244215965270996,0.6004086136817932,-0.11544444411993027,-0.09490698575973511],\"xaxis\":\"x\",\"y\":[1.4975316524505615,-2.0077857971191406,-1.1683604717254639,0.8300286531448364,1.2051007747650146,-0.9402382373809814,0.6079342365264893,-0.08105915784835815,2.59720778465271,0.586785614490509,2.7129342555999756,2.3066585063934326,-0.6170178651809692,-0.804161012172699,1.7812546491622925,-1.6674596071243286],\"yaxis\":\"y\",\"type\":\"scatter\"},{\"hovertemplate\":\"dataset=ho2<br>signature=all<br>tsne1=%{x}<br>tsne2=%{y}<extra></extra>\",\"legendgroup\":\"ho2\",\"marker\":{\"color\":\"#EF553B\",\"symbol\":\"circle\",\"size\":5},\"mode\":\"markers\",\"name\":\"ho2\",\"orientation\":\"v\",\"showlegend\":true,\"x\":[0.05924491584300995,0.29100996255874634,-2.1843314170837402,0.7193372845649719,0.20728325843811035,-1.3416810035705566,-0.40404391288757324,-0.09510257840156555],\"xaxis\":\"x\",\"y\":[-0.2299298644065857,0.880831241607666,1.621132493019104,-0.25928422808647156,0.006590546108782291,0.8472264409065247,0.457950621843338,0.26445844769477844],\"yaxis\":\"y\",\"type\":\"scatter\"},{\"hovertemplate\":\"dataset=train<br>signature=all<br>tsne1=%{x}<br>tsne2=%{y}<extra></extra>\",\"legendgroup\":\"train\",\"marker\":{\"color\":\"#00cc96\",\"symbol\":\"circle\",\"size\":5},\"mode\":\"markers\",\"name\":\"train\",\"orientation\":\"v\",\"showlegend\":true,\"x\":[-0.5546467304229736,-0.9228426814079285,1.3967034816741943,0.3574100136756897,0.012012623250484467,0.6995261907577515,1.1986843347549438,-2.3442904949188232,1.8521966934204102,2.151611089706421,-0.1832498461008072,-2.338710069656372,-0.5067684650421143,-2.148895502090454,-0.31104177236557007,-0.5692156553268433,-0.18283851444721222,1.0214542150497437,1.1944060325622559,0.07522093504667282,0.7043118476867676,-1.7802822589874268,-1.7654155492782593,-1.775320053100586,0.5302276015281677,-2.3397603034973145,-0.23647184669971466,-0.26365983486175537,-1.4067879915237427,-0.15021465718746185,-2.3085153102874756,-2.3659958839416504,-1.535207748413086,0.40511009097099304,-1.0117210149765015,-0.6895765662193298,-1.5995266437530518,1.9390711784362793,0.8864070177078247,1.7676631212234497,1.5361469984054565,0.0038011011201888323,-1.88209867477417,-1.0913387537002563,-1.8227791786193848,-0.7236708402633667,-0.43452244997024536,-0.6745837330818176,0.7062210440635681,-0.08736076951026917,-1.1917372941970825,-1.1353559494018555,-2.0298070907592773,-2.217952013015747,-0.6369866728782654,-0.2569139003753662,-1.14689040184021,-2.067918539047241,-0.631963312625885,-0.08500269055366516,-0.01395145058631897,-2.7960503101348877],\"xaxis\":\"x\",\"y\":[0.3854164779186249,0.5818793177604675,-1.0068937540054321,1.018939733505249,0.3420470058917999,0.10088130831718445,0.4920772612094879,-2.7509377002716064,1.3301074504852295,-0.35541605949401855,0.049128081649541855,-2.7354259490966797,0.816514790058136,0.3499715030193329,0.04322829097509384,-1.1029316186904907,0.054715752601623535,0.23747050762176514,1.8112308979034424,-0.2375144362449646,0.9786601066589355,0.22281384468078613,0.17229202389717102,-1.2052388191223145,-1.475551724433899,-2.7368552684783936,2.5318851470947266,1.297020435333252,1.3475298881530762,-2.0948445796966553,0.024247024208307266,-1.1936663389205933,0.34118103981018066,0.23504817485809326,-0.6736080050468445,0.5494954586029053,0.7606604695320129,0.4269372820854187,-2.112945318222046,-0.4227069318294525,-1.6163114309310913,0.8569862842559814,0.178812637925148,1.2669758796691895,1.9174280166625977,1.376352310180664,0.05958016216754913,-0.25065016746520996,1.8439220190048218,-0.9332325458526611,-1.389585256576538,-1.3468897342681885,0.11980662494897842,0.01133604347705841,0.44360417127609253,0.2928873300552368,1.3093883991241455,0.6578335762023926,-0.698137640953064,-0.5434806942939758,-0.5761716961860657,-0.15889638662338257],\"yaxis\":\"y\",\"type\":\"scatter\"}],                        {\"template\":{\"data\":{\"histogram2dcontour\":[{\"type\":\"histogram2dcontour\",\"colorbar\":{\"outlinewidth\":0,\"ticks\":\"\"},\"colorscale\":[[0.0,\"#0d0887\"],[0.1111111111111111,\"#46039f\"],[0.2222222222222222,\"#7201a8\"],[0.3333333333333333,\"#9c179e\"],[0.4444444444444444,\"#bd3786\"],[0.5555555555555556,\"#d8576b\"],[0.6666666666666666,\"#ed7953\"],[0.7777777777777778,\"#fb9f3a\"],[0.8888888888888888,\"#fdca26\"],[1.0,\"#f0f921\"]]}],\"choropleth\":[{\"type\":\"choropleth\",\"colorbar\":{\"outlinewidth\":0,\"ticks\":\"\"}}],\"histogram2d\":[{\"type\":\"histogram2d\",\"colorbar\":{\"outlinewidth\":0,\"ticks\":\"\"},\"colorscale\":[[0.0,\"#0d0887\"],[0.1111111111111111,\"#46039f\"],[0.2222222222222222,\"#7201a8\"],[0.3333333333333333,\"#9c179e\"],[0.4444444444444444,\"#bd3786\"],[0.5555555555555556,\"#d8576b\"],[0.6666666666666666,\"#ed7953\"],[0.7777777777777778,\"#fb9f3a\"],[0.8888888888888888,\"#fdca26\"],[1.0,\"#f0f921\"]]}],\"heatmap\":[{\"type\":\"heatmap\",\"colorbar\":{\"outlinewidth\":0,\"ticks\":\"\"},\"colorscale\":[[0.0,\"#0d0887\"],[0.1111111111111111,\"#46039f\"],[0.2222222222222222,\"#7201a8\"],[0.3333333333333333,\"#9c179e\"],[0.4444444444444444,\"#bd3786\"],[0.5555555555555556,\"#d8576b\"],[0.6666666666666666,\"#ed7953\"],[0.7777777777777778,\"#fb9f3a\"],[0.8888888888888888,\"#fdca26\"],[1.0,\"#f0f921\"]]}],\"heatmapgl\":[{\"type\":\"heatmapgl\",\"colorbar\":{\"outlinewidth\":0,\"ticks\":\"\"},\"colorscale\":[[0.0,\"#0d0887\"],[0.1111111111111111,\"#46039f\"],[0.2222222222222222,\"#7201a8\"],[0.3333333333333333,\"#9c179e\"],[0.4444444444444444,\"#bd3786\"],[0.5555555555555556,\"#d8576b\"],[0.6666666666666666,\"#ed7953\"],[0.7777777777777778,\"#fb9f3a\"],[0.8888888888888888,\"#fdca26\"],[1.0,\"#f0f921\"]]}],\"contourcarpet\":[{\"type\":\"contourcarpet\",\"colorbar\":{\"outlinewidth\":0,\"ticks\":\"\"}}],\"contour\":[{\"type\":\"contour\",\"colorbar\":{\"outlinewidth\":0,\"ticks\":\"\"},\"colorscale\":[[0.0,\"#0d0887\"],[0.1111111111111111,\"#46039f\"],[0.2222222222222222,\"#7201a8\"],[0.3333333333333333,\"#9c179e\"],[0.4444444444444444,\"#bd3786\"],[0.5555555555555556,\"#d8576b\"],[0.6666666666666666,\"#ed7953\"],[0.7777777777777778,\"#fb9f3a\"],[0.8888888888888888,\"#fdca26\"],[1.0,\"#f0f921\"]]}],\"surface\":[{\"type\":\"surface\",\"colorbar\":{\"outlinewidth\":0,\"ticks\":\"\"},\"colorscale\":[[0.0,\"#0d0887\"],[0.1111111111111111,\"#46039f\"],[0.2222222222222222,\"#7201a8\"],[0.3333333333333333,\"#9c179e\"],[0.4444444444444444,\"#bd3786\"],[0.5555555555555556,\"#d8576b\"],[0.6666666666666666,\"#ed7953\"],[0.7777777777777778,\"#fb9f3a\"],[0.8888888888888888,\"#fdca26\"],[1.0,\"#f0f921\"]]}],\"mesh3d\":[{\"type\":\"mesh3d\",\"colorbar\":{\"outlinewidth\":0,\"ticks\":\"\"}}],\"scatter\":[{\"fillpattern\":{\"fillmode\":\"overlay\",\"size\":10,\"solidity\":0.2},\"type\":\"scatter\"}],\"parcoords\":[{\"type\":\"parcoords\",\"line\":{\"colorbar\":{\"outlinewidth\":0,\"ticks\":\"\"}}}],\"scatterpolargl\":[{\"type\":\"scatterpolargl\",\"marker\":{\"colorbar\":{\"outlinewidth\":0,\"ticks\":\"\"}}}],\"bar\":[{\"error_x\":{\"color\":\"#2a3f5f\"},\"error_y\":{\"color\":\"#2a3f5f\"},\"marker\":{\"line\":{\"color\":\"#E5ECF6\",\"width\":0.5},\"pattern\":{\"fillmode\":\"overlay\",\"size\":10,\"solidity\":0.2}},\"type\":\"bar\"}],\"scattergeo\":[{\"type\":\"scattergeo\",\"marker\":{\"colorbar\":{\"outlinewidth\":0,\"ticks\":\"\"}}}],\"scatterpolar\":[{\"type\":\"scatterpolar\",\"marker\":{\"colorbar\":{\"outlinewidth\":0,\"ticks\":\"\"}}}],\"histogram\":[{\"marker\":{\"pattern\":{\"fillmode\":\"overlay\",\"size\":10,\"solidity\":0.2}},\"type\":\"histogram\"}],\"scattergl\":[{\"type\":\"scattergl\",\"marker\":{\"colorbar\":{\"outlinewidth\":0,\"ticks\":\"\"}}}],\"scatter3d\":[{\"type\":\"scatter3d\",\"line\":{\"colorbar\":{\"outlinewidth\":0,\"ticks\":\"\"}},\"marker\":{\"colorbar\":{\"outlinewidth\":0,\"ticks\":\"\"}}}],\"scattermapbox\":[{\"type\":\"scattermapbox\",\"marker\":{\"colorbar\":{\"outlinewidth\":0,\"ticks\":\"\"}}}],\"scatterternary\":[{\"type\":\"scatterternary\",\"marker\":{\"colorbar\":{\"outlinewidth\":0,\"ticks\":\"\"}}}],\"scattercarpet\":[{\"type\":\"scattercarpet\",\"marker\":{\"colorbar\":{\"outlinewidth\":0,\"ticks\":\"\"}}}],\"carpet\":[{\"aaxis\":{\"endlinecolor\":\"#2a3f5f\",\"gridcolor\":\"white\",\"linecolor\":\"white\",\"minorgridcolor\":\"white\",\"startlinecolor\":\"#2a3f5f\"},\"baxis\":{\"endlinecolor\":\"#2a3f5f\",\"gridcolor\":\"white\",\"linecolor\":\"white\",\"minorgridcolor\":\"white\",\"startlinecolor\":\"#2a3f5f\"},\"type\":\"carpet\"}],\"table\":[{\"cells\":{\"fill\":{\"color\":\"#EBF0F8\"},\"line\":{\"color\":\"white\"}},\"header\":{\"fill\":{\"color\":\"#C8D4E3\"},\"line\":{\"color\":\"white\"}},\"type\":\"table\"}],\"barpolar\":[{\"marker\":{\"line\":{\"color\":\"#E5ECF6\",\"width\":0.5},\"pattern\":{\"fillmode\":\"overlay\",\"size\":10,\"solidity\":0.2}},\"type\":\"barpolar\"}],\"pie\":[{\"automargin\":true,\"type\":\"pie\"}]},\"layout\":{\"autotypenumbers\":\"strict\",\"colorway\":[\"#636efa\",\"#EF553B\",\"#00cc96\",\"#ab63fa\",\"#FFA15A\",\"#19d3f3\",\"#FF6692\",\"#B6E880\",\"#FF97FF\",\"#FECB52\"],\"font\":{\"color\":\"#2a3f5f\"},\"hovermode\":\"closest\",\"hoverlabel\":{\"align\":\"left\"},\"paper_bgcolor\":\"white\",\"plot_bgcolor\":\"#E5ECF6\",\"polar\":{\"bgcolor\":\"#E5ECF6\",\"angularaxis\":{\"gridcolor\":\"white\",\"linecolor\":\"white\",\"ticks\":\"\"},\"radialaxis\":{\"gridcolor\":\"white\",\"linecolor\":\"white\",\"ticks\":\"\"}},\"ternary\":{\"bgcolor\":\"#E5ECF6\",\"aaxis\":{\"gridcolor\":\"white\",\"linecolor\":\"white\",\"ticks\":\"\"},\"baxis\":{\"gridcolor\":\"white\",\"linecolor\":\"white\",\"ticks\":\"\"},\"caxis\":{\"gridcolor\":\"white\",\"linecolor\":\"white\",\"ticks\":\"\"}},\"coloraxis\":{\"colorbar\":{\"outlinewidth\":0,\"ticks\":\"\"}},\"colorscale\":{\"sequential\":[[0.0,\"#0d0887\"],[0.1111111111111111,\"#46039f\"],[0.2222222222222222,\"#7201a8\"],[0.3333333333333333,\"#9c179e\"],[0.4444444444444444,\"#bd3786\"],[0.5555555555555556,\"#d8576b\"],[0.6666666666666666,\"#ed7953\"],[0.7777777777777778,\"#fb9f3a\"],[0.8888888888888888,\"#fdca26\"],[1.0,\"#f0f921\"]],\"sequentialminus\":[[0.0,\"#0d0887\"],[0.1111111111111111,\"#46039f\"],[0.2222222222222222,\"#7201a8\"],[0.3333333333333333,\"#9c179e\"],[0.4444444444444444,\"#bd3786\"],[0.5555555555555556,\"#d8576b\"],[0.6666666666666666,\"#ed7953\"],[0.7777777777777778,\"#fb9f3a\"],[0.8888888888888888,\"#fdca26\"],[1.0,\"#f0f921\"]],\"diverging\":[[0,\"#8e0152\"],[0.1,\"#c51b7d\"],[0.2,\"#de77ae\"],[0.3,\"#f1b6da\"],[0.4,\"#fde0ef\"],[0.5,\"#f7f7f7\"],[0.6,\"#e6f5d0\"],[0.7,\"#b8e186\"],[0.8,\"#7fbc41\"],[0.9,\"#4d9221\"],[1,\"#276419\"]]},\"xaxis\":{\"gridcolor\":\"white\",\"linecolor\":\"white\",\"ticks\":\"\",\"title\":{\"standoff\":15},\"zerolinecolor\":\"white\",\"automargin\":true,\"zerolinewidth\":2},\"yaxis\":{\"gridcolor\":\"white\",\"linecolor\":\"white\",\"ticks\":\"\",\"title\":{\"standoff\":15},\"zerolinecolor\":\"white\",\"automargin\":true,\"zerolinewidth\":2},\"scene\":{\"xaxis\":{\"backgroundcolor\":\"#E5ECF6\",\"gridcolor\":\"white\",\"linecolor\":\"white\",\"showbackground\":true,\"ticks\":\"\",\"zerolinecolor\":\"white\",\"gridwidth\":2},\"yaxis\":{\"backgroundcolor\":\"#E5ECF6\",\"gridcolor\":\"white\",\"linecolor\":\"white\",\"showbackground\":true,\"ticks\":\"\",\"zerolinecolor\":\"white\",\"gridwidth\":2},\"zaxis\":{\"backgroundcolor\":\"#E5ECF6\",\"gridcolor\":\"white\",\"linecolor\":\"white\",\"showbackground\":true,\"ticks\":\"\",\"zerolinecolor\":\"white\",\"gridwidth\":2}},\"shapedefaults\":{\"line\":{\"color\":\"#2a3f5f\"}},\"annotationdefaults\":{\"arrowcolor\":\"#2a3f5f\",\"arrowhead\":0,\"arrowwidth\":1},\"geo\":{\"bgcolor\":\"white\",\"landcolor\":\"#E5ECF6\",\"subunitcolor\":\"white\",\"showland\":true,\"showlakes\":true,\"lakecolor\":\"white\"},\"title\":{\"x\":0.05},\"mapbox\":{\"style\":\"light\"}}},\"xaxis\":{\"anchor\":\"y\",\"domain\":[0.0,1.0],\"title\":{\"text\":\"tsne1\"}},\"yaxis\":{\"anchor\":\"x\",\"domain\":[0.0,1.0],\"title\":{\"text\":\"tsne2\"}},\"annotations\":[{\"font\":{},\"showarrow\":false,\"text\":\"signature=all\",\"x\":0.5,\"xanchor\":\"center\",\"xref\":\"paper\",\"y\":1.0,\"yanchor\":\"bottom\",\"yref\":\"paper\"}],\"legend\":{\"title\":{\"text\":\"dataset\"},\"tracegroupgap\":0},\"margin\":{\"t\":10,\"l\":10,\"r\":10,\"b\":10},\"height\":190,\"width\":265},                        {\"responsive\": true}                    ).then(function(){\n",
       "                            \n",
       "var gd = document.getElementById('3a320450-7766-4584-b48f-a004a56ebfd9');\n",
       "var x = new MutationObserver(function (mutations, observer) {{\n",
       "        var display = window.getComputedStyle(gd).display;\n",
       "        if (!display || display === 'none') {{\n",
       "            console.log([gd, 'removed!']);\n",
       "            Plotly.purge(gd);\n",
       "            observer.disconnect();\n",
       "        }}\n",
       "}});\n",
       "\n",
       "// Listen for the removal of the full notebook cells\n",
       "var notebookContainer = gd.closest('#notebook-container');\n",
       "if (notebookContainer) {{\n",
       "    x.observe(notebookContainer, {childList: true});\n",
       "}}\n",
       "\n",
       "// Listen for the clearing of the current output cell\n",
       "var outputEl = gd.closest('.output');\n",
       "if (outputEl) {{\n",
       "    x.observe(outputEl, {childList: true});\n",
       "}}\n",
       "\n",
       "                        })                };                });            </script>        </div>"
      ]
     },
     "metadata": {},
     "output_type": "display_data"
    }
   ],
   "source": [
    "# plot tsne with all molecular features\n",
    "all_tsne = tsne(df_mol,r= 100)\n",
    "all_tsne.to_csv('./figures/tsne_original/all_tsne.csv', index = False)\n",
    "fig = px.scatter(all_tsne, x=\"tsne1\", y=\"tsne2\", color=\"cancer_type\",facet_col='signature',facet_col_wrap=3,\n",
    "width=320, height=190).update_yaxes(matches=None).update_xaxes(matches=None)\n",
    "fig.update_traces(marker=dict(size=5),\n",
    "                  selector=dict(mode='markers'))\n",
    "fig.update_layout(\n",
    "    margin=dict(l=10, r=10, t=10, b=10)\n",
    ")\n",
    "fig.show()\n",
    "fig.write_image(\"./figures/all_tsne_cancer_type.pdf\")\n",
    "fig = px.scatter(all_tsne, x=\"tsne1\", y=\"tsne2\", color=\"dataset\", facet_col='signature',facet_col_wrap=3, \n",
    "width=265, height=190).update_yaxes(matches=None).update_xaxes(matches=None)\n",
    "fig.update_traces(marker=dict(size=5),\n",
    "                  selector=dict(mode='markers'))\n",
    "fig.update_layout(\n",
    "    margin=dict(l=10, r=10, t=10, b=10)\n",
    ")\n",
    "fig.show()\n",
    "fig.write_image(\"./figures/all_tsne_dataset.pdf\")"
   ]
  },
  {
   "cell_type": "code",
   "execution_count": 18,
   "metadata": {},
   "outputs": [],
   "source": [
    "# Table S6. Top 100 genes positively/negatively correlated with efficacy in ATRi monotherapy.\n",
    "# pull out ATRi monotherapy\n",
    "df_mono_atri = df_mono[df_mono['.metadata_moa']=='ATRi']\n",
    "# get columns with _exp\n",
    "cols = [i for i in df_mol.columns if i.endswith('_exp')]\n",
    "# merge with molecular features on '.identifier_sample_name'\n",
    "tmp = df_mono_atri[['.identifier_sample_name', '.response_aoc']].merge(df_mol, on='.identifier_sample_name', how='left')\n",
    "tmp = tmp[['.response_aoc']+cols]"
   ]
  },
  {
   "cell_type": "code",
   "execution_count": 28,
   "metadata": {},
   "outputs": [],
   "source": [
    "df_out = {'gene':[], 'cor':[], 'p':[]}\n",
    "for col in cols:\n",
    "    # compute correlation between this gene and .response_aoc\n",
    "    gene = col.strip('_exp')\n",
    "    r, p = stats.pearsonr(tmp['.response_aoc'], tmp[col])\n",
    "    #print(gene, r, p)\n",
    "    df_out['gene'].append(gene)\n",
    "    df_out['cor'].append(r)\n",
    "    df_out['p'].append(p)\n",
    "df_out = pd.DataFrame(df_out)\n",
    "# order by r\n",
    "df_out = df_out.sort_values(by=['cor'], ascending=False).reset_index(drop=True)\n",
    "df_out.to_csv('./tmp/ATRi_mono_cor.csv', index=False)\n",
    "# top 100 positively correlated genes\n",
    "df_out.head(100).to_csv('./tmp/ATRi_mono_cor_top100_pos.csv', index=False)\n",
    "# top 100 negatively correlated genes (negatively sorted))\n",
    "df_out.tail(100).sort_values(by=['cor'], ascending=True).to_csv('./tmp/ATRi_mono_cor_top100_neg.csv', index=False)"
   ]
  },
  {
   "cell_type": "code",
   "execution_count": null,
   "metadata": {},
   "outputs": [],
   "source": [
    "# geneset features"
   ]
  },
  {
   "cell_type": "code",
   "execution_count": 67,
   "metadata": {},
   "outputs": [],
   "source": [
    "# Network Propagation: download tissue-specific networks from HumanBase: https://hb.flatironinstitute.org/download\n",
    "# all cancer tissues (subtypes)\n",
    "#df['.metadata_cancer_subtype'].unique()\n",
    "subtype2tissue={\n",
    "'kidney':\"kidney\", \n",
    "'cervix':\"uterine_cervix\",\n",
    "'ovary':\"ovary\",\n",
    "'pancreas':\"pancreas\",\n",
    "'colon':\"colon\", \n",
    "'prostate':\"prostate_gland\", \n",
    "'bladder':\"urinary_bladder\", \n",
    "'liver':\"liver\",\n",
    "'melanoma':\"skin\", \n",
    "'sarcoma - rhabdomyosarcoma':\"muscle\",\n",
    "'sarcoma - fibrosarcoma':\"global\",\n",
    "'sarcoma - ewings': \"bone\",\n",
    "'sarcoma - osteosarcoma':\"osteoblast\",\n",
    "'sarcoma - leiomyosarcoma':\"smooth_muscle\",  \n",
    "'breast - HER2+':\"mammary_gland\",\n",
    "'breast - HR+': \"mammary_gland\", \n",
    "'breast - TNBC': \"mammary_gland\",\n",
    "'lung - NSCLC':\"lung\", \n",
    "'lung - SCLC':\"lung\", \n",
    "'brain - astrocytoma':\"astrocyte\", \n",
    "'brain - GBM':\"astrocyte\", \n",
    "'heme - AML':\"bone_marrow\",\n",
    "'heme - myeloma':\"blood_plasma\", \n",
    "'heme - mantle cell lymphoma':\"lymphocyte\",\n",
    "'heme - burkitt lymphoma':\"b_lymphocyte\", \n",
    "'heme - DLBCL':\"b_lymphocyte\", \n",
    "'heme - NHL':\"lymph_node\",\n",
    "'heme - CML':\"leukocyte\", \n",
    "}"
   ]
  },
  {
   "cell_type": "code",
   "execution_count": 6,
   "metadata": {},
   "outputs": [
    {
     "name": "stderr",
     "output_type": "stream",
     "text": [
      "13 input query terms found dup hits:\t[('TUBB7P', 5), ('TERC', 2), ('PVT1', 2), ('POLR2J3', 2), ('PMS2P5', 2), ('PMS2P4', 2), ('PMS2P3', 2\n",
      "70 input query terms found no hit:\t['ZADH2', 'UHRF1BP1L', 'TTC37', 'TIAF1', 'SKIV2L2', 'SHFM1', 'RPSAP58', 'PQLC3', 'PAPD7', 'PAPD5', '\n"
     ]
    }
   ],
   "source": [
    "# read ddr list from ../target_gene/ddr_gene.txt\n",
    "with open('../target_gene/ddr_gene.txt') as f:\n",
    "    ddr_genes = f.read().splitlines()\n",
    "# read target genes from ../target_gene/target_gene.txt\n",
    "with open('../target_gene/target_genes.txt') as f:\n",
    "    target_genes = f.read().splitlines()\n",
    "# get ids of ddr genes and target genes\n",
    "import mygene\n",
    "mg = mygene.MyGeneInfo()\n",
    "ddr_ids = mg.querymany(ddr_genes, scopes='symbol', fields='entrezgene', species='human', as_dataframe=True).reset_index()[['query','entrezgene']].dropna()\n",
    "target_ids = mg.querymany(target_genes, scopes='symbol', fields='entrezgene', species='human', as_dataframe=True).reset_index()[['query','entrezgene']].dropna()\n",
    "ddr_ids['id'] = ddr_ids['entrezgene'].astype(int)\n",
    "target_ids['id'] = target_ids['entrezgene'].astype(int)\n",
    "# map: id back to symbol\n",
    "id2symbol = {r['id']:r['query'] for _,r in ddr_ids.iterrows()}"
   ]
  },
  {
   "cell_type": "code",
   "execution_count": 68,
   "metadata": {},
   "outputs": [],
   "source": [
    "# check if all tissues are downloads:\n",
    "allpath = glob('../tissue_specific_networks/*')\n",
    "allpath = [i.split('/')[-1] for i in allpath]\n",
    "for tissue in subtype2tissue.values():\n",
    "    if tissue+'.gz' not in allpath:\n",
    "        print(tissue)"
   ]
  },
  {
   "cell_type": "code",
   "execution_count": 78,
   "metadata": {},
   "outputs": [
    {
     "name": "stdout",
     "output_type": "stream",
     "text": [
      "kidney\n",
      "(7418, 4)\n",
      "uterine_cervix\n",
      "(848, 4)\n",
      "ovary\n",
      "(3226, 4)\n",
      "pancreas\n",
      "(5145, 4)\n",
      "colon\n",
      "(3064, 4)\n",
      "prostate_gland\n",
      "(3633, 4)\n",
      "urinary_bladder\n",
      "(149, 4)\n",
      "liver\n",
      "(5610, 4)\n",
      "skin\n",
      "(2268, 4)\n",
      "muscle\n",
      "(1457, 4)\n",
      "global\n",
      "(30713, 4)\n",
      "bone\n",
      "(531, 4)\n",
      "osteoblast\n",
      "(246, 4)\n",
      "smooth_muscle\n",
      "(646, 4)\n",
      "mammary_gland\n",
      "(1862, 4)\n",
      "mammary_gland\n",
      "(1862, 4)\n",
      "mammary_gland\n",
      "(1862, 4)\n",
      "lung\n",
      "(6880, 4)\n",
      "lung\n",
      "(6880, 4)\n",
      "astrocyte\n",
      "(61, 4)\n",
      "astrocyte\n",
      "(61, 4)\n",
      "bone_marrow\n",
      "(2724, 4)\n",
      "blood_plasma\n",
      "(1179, 4)\n",
      "lymphocyte\n",
      "(2490, 4)\n",
      "b_lymphocyte\n",
      "(1322, 4)\n",
      "b_lymphocyte\n",
      "(1322, 4)\n",
      "lymph_node\n",
      "(1675, 4)\n",
      "leukocyte\n",
      "(4504, 4)\n"
     ]
    }
   ],
   "source": [
    "# get network with only ddr and target genes\n",
    "all_network = {}\n",
    "for sub,tissue in subtype2tissue.items():\n",
    "    print(tissue)\n",
    "    # read network\n",
    "    network = pd.read_csv('../tissue_specific_networks/'+tissue+'.gz', sep='\\t', header = None)\n",
    "    # get cutoff of the network: only keep known relationship\n",
    "    network = network[network[2]>0.8].dropna(subset=3)\n",
    "    # get network with both columns 0 and 1 are in ddr_ids['entrezgene'].to_list()\n",
    "    network = network[network[0].isin(ddr_ids['id'].to_list()) & network[1].isin(ddr_ids['id'].to_list())]\n",
    "    #print(network.shape)\n",
    "    # the network is undirected, so we switch column 0 and 1 and add back to the network\n",
    "    network = pd.concat([network, network[[1,0,2,3]].rename(columns={1:0, 0:1})])\n",
    "    # get network with columns 0 in target_ids['entrezgene'].to_list()\n",
    "    network = network[network[0].isin(target_ids['id'].to_list())]\n",
    "    print(network.shape)\n",
    "    # save network\n",
    "    network = network.replace(id2symbol).reset_index(drop=True)\n",
    "    network.to_csv('../tissue_specific_networks/sub_'+tissue, sep='\\t', header = None, index=False)\n",
    "    # loop through target genes:\n",
    "    target_tmp = {}\n",
    "    for target in network[0]:\n",
    "        # get all ddr genes connected to target\n",
    "        tmp_dict = {}\n",
    "        tmp = network[network[0]==target]\n",
    "        for _,r in tmp.iterrows():\n",
    "            tmp_dict[r[1]] = r[3]\n",
    "        target_tmp[target] = tmp_dict\n",
    "    all_network[sub] = target_tmp\n",
    "\n",
    "# save network to pickle file\n",
    "with open('../tissue_specific_networks/all_network.pkl', 'wb') as handle:\n",
    "    pickle.dump(all_network, handle, protocol=pickle.HIGHEST_PROTOCOL)"
   ]
  },
  {
   "cell_type": "code",
   "execution_count": 79,
   "metadata": {},
   "outputs": [],
   "source": [
    "# read network from pickle file\n",
    "with open('../tissue_specific_networks/all_network.pkl', 'rb') as handle:\n",
    "    all_network = pickle.load(handle)"
   ]
  },
  {
   "cell_type": "code",
   "execution_count": 82,
   "metadata": {},
   "outputs": [
    {
     "data": {
      "text/plain": [
       "['IRAK4',\n",
       " 'MARK3',\n",
       " 'WNT1',\n",
       " 'PARP4',\n",
       " 'SRC',\n",
       " 'NTRK2',\n",
       " 'PIK3R1',\n",
       " 'DNMT3A',\n",
       " 'TTK',\n",
       " 'TAOK3',\n",
       " 'TUBA1A',\n",
       " 'NEK4',\n",
       " 'DDB1',\n",
       " 'PDGFD',\n",
       " 'STK11',\n",
       " 'JAK1',\n",
       " 'EPHA5',\n",
       " 'SGK2',\n",
       " 'MAP3K7',\n",
       " 'ERBB2',\n",
       " 'MST1',\n",
       " 'TOP2B',\n",
       " 'RPS6KA5',\n",
       " 'FLT1',\n",
       " 'PTK6',\n",
       " 'NEK7',\n",
       " 'TYMS',\n",
       " 'TOP2A',\n",
       " 'WNT11',\n",
       " 'STK16',\n",
       " 'ELANE',\n",
       " 'MAP2K7',\n",
       " 'EPHA7',\n",
       " 'PRKAA2',\n",
       " 'PAK1',\n",
       " 'NPM1',\n",
       " 'PIP5K1A',\n",
       " 'PDGFC',\n",
       " 'MAP3K13',\n",
       " 'STK3',\n",
       " 'EIF2AK4',\n",
       " 'PRKDC',\n",
       " 'MAP3K3',\n",
       " 'TYRO3',\n",
       " 'AKT1',\n",
       " 'PIK3CD',\n",
       " 'AKT3',\n",
       " 'CSNK2A1',\n",
       " 'HIPK2',\n",
       " 'MAP2K4',\n",
       " 'MDM4',\n",
       " 'CCNA1',\n",
       " 'CCNB1',\n",
       " 'CSNK1A1L',\n",
       " 'IGF1R',\n",
       " 'LATS2',\n",
       " 'POLA1',\n",
       " 'PDGFRB',\n",
       " 'PIK3CB',\n",
       " 'CDK2',\n",
       " 'PDGFB',\n",
       " 'MET',\n",
       " 'PSMB3',\n",
       " 'EGFR',\n",
       " 'EPHA3',\n",
       " 'PIK3R2',\n",
       " 'PIK3C2G',\n",
       " 'RPS6KB1',\n",
       " 'ITK',\n",
       " 'SGK3',\n",
       " 'CIT',\n",
       " 'ROCK2',\n",
       " 'CAMK2G',\n",
       " 'PSMD11',\n",
       " 'TGFBR1',\n",
       " 'NLK',\n",
       " 'STK4',\n",
       " 'FGFR3',\n",
       " 'CHEK1',\n",
       " 'RBX1',\n",
       " 'MAPK10',\n",
       " 'PRKCI',\n",
       " 'CDK8',\n",
       " 'POLB',\n",
       " 'RFC1',\n",
       " 'ALK',\n",
       " 'CSF1R',\n",
       " 'CCNE1',\n",
       " 'DYRK2',\n",
       " 'ABL1',\n",
       " 'PDGFRA',\n",
       " 'DMPK',\n",
       " 'CDK7',\n",
       " 'WNT6',\n",
       " 'CASK',\n",
       " 'CDK5',\n",
       " 'HIF1A',\n",
       " 'MAPK14',\n",
       " 'RPS6KA1',\n",
       " 'CCNE2',\n",
       " 'DLK1',\n",
       " 'TAOK1',\n",
       " 'AURKA',\n",
       " 'ARAF',\n",
       " 'RRM2',\n",
       " 'ETV6',\n",
       " 'HSP90AB1',\n",
       " 'RELA',\n",
       " 'EPHB6',\n",
       " 'PRKCD',\n",
       " 'GSK3B',\n",
       " 'PRKCG',\n",
       " 'MAPK3',\n",
       " 'TNIK',\n",
       " 'CCND2',\n",
       " 'FGFR4',\n",
       " 'FLT4',\n",
       " 'PDE10A',\n",
       " 'PRKAA1',\n",
       " 'BMP2K',\n",
       " 'INSR',\n",
       " 'MAP4K4',\n",
       " 'CSNK1G3',\n",
       " 'YES1',\n",
       " 'CDK9',\n",
       " 'PAK4',\n",
       " 'FGFR1',\n",
       " 'FLG',\n",
       " 'EPHA2',\n",
       " 'TUBB4B',\n",
       " 'MAPK9',\n",
       " 'JAK3',\n",
       " 'PIK3R3',\n",
       " 'RPS6KA6',\n",
       " 'TOP1',\n",
       " 'PIK3C3',\n",
       " 'POLE',\n",
       " 'PARP3',\n",
       " 'LATS1',\n",
       " 'LCK',\n",
       " 'RAF1',\n",
       " 'CDK20',\n",
       " 'PARP2',\n",
       " 'TP53',\n",
       " 'JAK2',\n",
       " 'CHEK2',\n",
       " 'CLK2',\n",
       " 'CAMK2A',\n",
       " 'LYN',\n",
       " 'TLK1',\n",
       " 'CYP2B6',\n",
       " 'KIT',\n",
       " 'PIM3',\n",
       " 'PRKD1',\n",
       " 'ATM',\n",
       " 'TUBA4A',\n",
       " 'RRM1',\n",
       " 'ATR',\n",
       " 'INSRR',\n",
       " 'BMPR1B',\n",
       " 'CCNA2',\n",
       " 'PIK3CG',\n",
       " 'RIOK3',\n",
       " 'PLK4',\n",
       " 'PDK1',\n",
       " 'MAPK15',\n",
       " 'TLK2',\n",
       " 'MAPK8',\n",
       " 'CCNB3',\n",
       " 'EPHA4',\n",
       " 'NTRK1',\n",
       " 'ROCK1',\n",
       " 'TNKS',\n",
       " 'AURKB',\n",
       " 'DDR1',\n",
       " 'WNT16',\n",
       " 'SYK',\n",
       " 'ACVR1B',\n",
       " 'PDPK1',\n",
       " 'MAP3K4',\n",
       " 'IKBKE',\n",
       " 'KIF11',\n",
       " 'ATIC',\n",
       " 'PARP1',\n",
       " 'BCL2',\n",
       " 'MTOR',\n",
       " 'CDK4',\n",
       " 'NEK8',\n",
       " 'DDR2',\n",
       " 'FGFR2',\n",
       " 'MMP2',\n",
       " 'FKBP1A',\n",
       " 'BRAF',\n",
       " 'CDKL2',\n",
       " 'RPS6KA3',\n",
       " 'WNT3',\n",
       " 'ACVRL1',\n",
       " 'PRKCQ',\n",
       " 'ERBB4',\n",
       " 'CCNB2',\n",
       " 'CUL4A',\n",
       " 'PLK1',\n",
       " 'DNMT1',\n",
       " 'MAP2K1',\n",
       " 'CAMKK1',\n",
       " 'PTK2B',\n",
       " 'TNKS2',\n",
       " 'CCND3',\n",
       " 'WNT2',\n",
       " 'PRKD2',\n",
       " 'TGFBR2',\n",
       " 'DHFR',\n",
       " 'ERBB3',\n",
       " 'MATK',\n",
       " 'PRKAB1',\n",
       " 'NEK2',\n",
       " 'EPHB1',\n",
       " 'CDK6',\n",
       " 'ROS1',\n",
       " 'PIK3C2B',\n",
       " 'PIK3CA',\n",
       " 'DSTYK',\n",
       " 'MARK4',\n",
       " 'RET',\n",
       " 'MDM2',\n",
       " 'ABL2',\n",
       " 'FES',\n",
       " 'RIPK1',\n",
       " 'MAP4K3',\n",
       " 'HSP90AA1',\n",
       " 'PIM1',\n",
       " 'MAP3K1',\n",
       " 'CSNK1D',\n",
       " 'MYO3B',\n",
       " 'DAPK1',\n",
       " 'MAPK1',\n",
       " 'LRRK2',\n",
       " 'WEE1',\n",
       " 'PRKCZ',\n",
       " 'CDK12',\n",
       " 'PAK3',\n",
       " 'CDC7',\n",
       " 'CSNK1E',\n",
       " 'BCR',\n",
       " 'KDR',\n",
       " 'BRD4',\n",
       " 'BAX',\n",
       " 'MAP3K2',\n",
       " 'PSMD9',\n",
       " 'CCND1',\n",
       " 'AKT2',\n",
       " 'RRM2B',\n",
       " 'NTRK3',\n",
       " 'RPS6KA4',\n",
       " 'MAST1',\n",
       " 'MAP2K2',\n",
       " 'AXL',\n",
       " 'BRSK2',\n",
       " 'NFKB1',\n",
       " 'CDK1',\n",
       " 'TAOK2',\n",
       " 'WNT4',\n",
       " 'EPHA6',\n",
       " 'NFKB2',\n",
       " 'SRPK2',\n",
       " 'TYK2',\n",
       " 'CCNH',\n",
       " 'FLT3',\n",
       " 'IRAK1',\n",
       " 'PIP4K2B',\n",
       " 'POLD1']"
      ]
     },
     "execution_count": 82,
     "metadata": {},
     "output_type": "execute_result"
    }
   ],
   "source": [
    "target_genes"
   ]
  }
 ],
 "metadata": {
  "kernelspec": {
   "display_name": "base",
   "language": "python",
   "name": "python3"
  },
  "language_info": {
   "codemirror_mode": {
    "name": "ipython",
    "version": 3
   },
   "file_extension": ".py",
   "mimetype": "text/x-python",
   "name": "python",
   "nbconvert_exporter": "python",
   "pygments_lexer": "ipython3",
   "version": "3.11.5"
  }
 },
 "nbformat": 4,
 "nbformat_minor": 2
}
